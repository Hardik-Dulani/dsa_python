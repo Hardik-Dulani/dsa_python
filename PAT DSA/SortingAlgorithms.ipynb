{
 "cells": [
  {
   "cell_type": "code",
   "execution_count": 17,
   "id": "21dd2b4f-24db-4903-a5e4-8002af48ed4e",
   "metadata": {},
   "outputs": [
    {
     "name": "stdout",
     "output_type": "stream",
     "text": [
      "[1, 2, 3, 4, 5, 6]\n"
     ]
    }
   ],
   "source": [
    "def insertionSort(arr):\n",
    "    for i in range(len(arr)):\n",
    "        j = i\n",
    "        \n",
    "        while arr[j]<arr[j-1] and j>0:\n",
    "            arr[j],arr[j-1] = arr[j-1],arr[j]\n",
    "            j-=1\n",
    "    return arr\n",
    "\n",
    "    \n",
    "print(insertionSort([2,6,4,3,5,1]))"
   ]
  },
  {
   "cell_type": "code",
   "execution_count": 2,
   "id": "888186fe-51a5-418e-b640-2c3c2f8e86bd",
   "metadata": {},
   "outputs": [
    {
     "name": "stdout",
     "output_type": "stream",
     "text": [
      "Sorted array is: [3, 9, 10, 27, 38, 43, 82]\n"
     ]
    }
   ],
   "source": [
    "def merge_sort(arr):\n",
    "    if len(arr) > 1:\n",
    "        # Finding the mid of the array\n",
    "        mid = len(arr) // 2\n",
    "\n",
    "        # Dividing the elements into 2 halves\n",
    "        left_half = arr[:mid]\n",
    "        right_half = arr[mid:]\n",
    "\n",
    "        # Recursively sorting the two halves\n",
    "        merge_sort(left_half)\n",
    "        merge_sort(right_half)\n",
    "\n",
    "        # Merging the sorted halves\n",
    "        i = j = k = 0\n",
    "\n",
    "        # Copy data to temp arrays left_half[] and right_half[]\n",
    "        while i < len(left_half) and j < len(right_half):\n",
    "            if left_half[i] < right_half[j]:\n",
    "                arr[k] = left_half[i]\n",
    "                i += 1\n",
    "            else:\n",
    "                arr[k] = right_half[j]\n",
    "                j += 1\n",
    "            k += 1\n",
    "\n",
    "        # Checking if any element was left in left_half\n",
    "        while i < len(left_half):\n",
    "            arr[k] = left_half[i]\n",
    "            i += 1\n",
    "            k += 1\n",
    "\n",
    "        # Checking if any element was left in right_half\n",
    "        while j < len(right_half):\n",
    "            arr[k] = right_half[j]\n",
    "            j += 1\n",
    "            k += 1\n",
    "\n",
    "# Example usage\n",
    "arr = [38, 27, 43, 3, 9, 82, 10]\n",
    "merge_sort(arr)\n",
    "print(\"Sorted array is:\", arr)"
   ]
  },
  {
   "cell_type": "code",
   "execution_count": 19,
   "id": "ff36530f-a4db-4165-a6f5-223c80d732f7",
   "metadata": {},
   "outputs": [],
   "source": [
    "def quickSort(arr,left,right):\n",
    "    if left<right:\n",
    "        div = divide(arr,left,right)\n",
    "        quickSort(arr,left,div-1)\n",
    "        quickSort(arr,div+1,right)\n",
    "\n",
    "def divide(arr,left,right):\n",
    "    i = left\n",
    "    j = right-1\n",
    "    piv = arr[right]\n",
    "    # print(arr,i,j)\n",
    "    while i < j:\n",
    "        while i<right and arr[i]<piv:\n",
    "            i+=1\n",
    "        while j>left and arr[j]>=piv:\n",
    "            j-=1\n",
    "        if i<j:\n",
    "            arr[i],arr[j] = arr[j],arr[i]\n",
    "    if arr[i]>piv:\n",
    "        arr[i],arr[right] = arr[right],arr[i]\n",
    "    return i"
   ]
  },
  {
   "cell_type": "code",
   "execution_count": 20,
   "id": "84a0969a-c3d4-4a73-a335-79ee84168250",
   "metadata": {},
   "outputs": [],
   "source": [
    "a = [143,12,32,1,323543,2342,32]\n",
    "quickSort(a,0,len(a)-1)"
   ]
  },
  {
   "cell_type": "code",
   "execution_count": 21,
   "id": "12facc21-e859-461e-aeb4-128b42865368",
   "metadata": {},
   "outputs": [
    {
     "data": {
      "text/plain": [
       "[1, 12, 32, 32, 143, 2342, 323543]"
      ]
     },
     "execution_count": 21,
     "metadata": {},
     "output_type": "execute_result"
    }
   ],
   "source": [
    "a"
   ]
  },
  {
   "cell_type": "code",
   "execution_count": null,
   "id": "8962f2fd-3e02-4cd1-ad00-90b992b4e22f",
   "metadata": {},
   "outputs": [],
   "source": []
  }
 ],
 "metadata": {
  "kernelspec": {
   "display_name": "Python 3 (ipykernel)",
   "language": "python",
   "name": "python3"
  },
  "language_info": {
   "codemirror_mode": {
    "name": "ipython",
    "version": 3
   },
   "file_extension": ".py",
   "mimetype": "text/x-python",
   "name": "python",
   "nbconvert_exporter": "python",
   "pygments_lexer": "ipython3",
   "version": "3.12.3"
  }
 },
 "nbformat": 4,
 "nbformat_minor": 5
}
