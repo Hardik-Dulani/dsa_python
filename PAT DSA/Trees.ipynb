{
 "cells": [
  {
   "cell_type": "code",
   "execution_count": 1,
   "id": "f2c0daab-3d15-4082-a094-e93e256f1e6e",
   "metadata": {},
   "outputs": [],
   "source": [
    "# Creating a General Tree"
   ]
  },
  {
   "cell_type": "code",
   "execution_count": 1,
   "id": "e9a0eae4-9f67-46e0-8ea7-22624732465f",
   "metadata": {},
   "outputs": [],
   "source": [
    "class TreeNode:\n",
    "    def __init__(self,data):\n",
    "        self.data = data\n",
    "        self.children = []\n",
    "        self.parent = None\n",
    "    def add_child(self,child):\n",
    "        child.parent = self\n",
    "        self.children.append(child)\n",
    "\n",
    "def build_product_tree():\n",
    "    root = TreeNode('Electronics')\n",
    "    laptop = TreeNode('Laptop')\n",
    "    root.add_child(laptop)\n",
    "    \n",
    "    return root\n",
    "x = build_product_tree()"
   ]
  },
  {
   "cell_type": "code",
   "execution_count": 2,
   "id": "a87a5076-e6aa-47d1-be73-22d0f1b4fcdb",
   "metadata": {},
   "outputs": [],
   "source": [
    "# Binary Tree"
   ]
  },
  {
   "cell_type": "code",
   "execution_count": 34,
   "id": "504f130b-9696-4377-bb5d-c9c7c1fc712f",
   "metadata": {
    "scrolled": true
   },
   "outputs": [
    {
     "name": "stdout",
     "output_type": "stream",
     "text": [
      "Preorder traversal:\n",
      "1 2 4 -1 -1 5 -1 -1 3 -1 6 -1 -1 \n",
      "Inorder traversal:\n",
      "-1 4 -1 2 -1 5 -1 1 -1 3 -1 6 -1 \n",
      "Postorder traversal:\n",
      "-1 -1 4 -1 -1 5 2 -1 -1 -1 6 3 1 \n"
     ]
    }
   ],
   "source": [
    "class TreeNode:\n",
    "    def __init__(self, value):\n",
    "        self.value = value\n",
    "        self.left = None\n",
    "        self.right = None\n",
    "\n",
    "class BinaryTree:\n",
    "    def __init__(self):\n",
    "        self.root = None\n",
    "\n",
    "    def build_from_preorder(self, preorder_list):\n",
    "        def build(preorder_iter):\n",
    "            value = next(preorder_iter)\n",
    "            if value == -1:\n",
    "                return None\n",
    "            node = TreeNode(value)\n",
    "            node.left = build(preorder_iter)\n",
    "            node.right = build(preorder_iter)\n",
    "            return node\n",
    "\n",
    "        preorder_iter = iter(preorder_list)\n",
    "        self.root = build(preorder_iter)\n",
    "\n",
    "    def _preorder_traversal(self, node):\n",
    "        if node is None:\n",
    "            print(-1, end=' ')\n",
    "            return\n",
    "        print(node.value, end=' ')\n",
    "        self._preorder_traversal(node.left)\n",
    "        self._preorder_traversal(node.right)\n",
    "\n",
    "    def preorder(self):\n",
    "        self._preorder_traversal(self.root)\n",
    "        print()\n",
    "\n",
    "    def _inorder_traversal(self, node):\n",
    "        if node is None:\n",
    "            print(-1, end=' ')\n",
    "            return\n",
    "        self._inorder_traversal(node.left)\n",
    "        print(node.value, end=' ')\n",
    "        self._inorder_traversal(node.right)\n",
    "\n",
    "    def inorder(self):\n",
    "        self._inorder_traversal(self.root)\n",
    "        print()\n",
    "\n",
    "    def _postorder_traversal(self, node):\n",
    "        if node is None:\n",
    "            print(-1, end=' ')\n",
    "            return\n",
    "        self._postorder_traversal(node.left)\n",
    "        self._postorder_traversal(node.right)\n",
    "        print(node.value, end=' ')\n",
    "\n",
    "    def postorder(self):\n",
    "        self._postorder_traversal(self.root)\n",
    "        print()\n",
    "\n",
    "# Example usage\n",
    "preorder_list = [1, 2, 4, -1, -1, 5, -1, -1, 3, -1, 6, -1, -1]\n",
    "\n",
    "# Build the binary tree from the given preorder list\n",
    "tree = BinaryTree()\n",
    "tree.build_from_preorder(preorder_list)\n",
    "\n",
    "# Display the traversals\n",
    "print(\"Preorder traversal:\")\n",
    "tree.preorder()\n",
    "\n",
    "print(\"Inorder traversal:\")\n",
    "tree.inorder()\n",
    "\n",
    "print(\"Postorder traversal:\")\n",
    "tree.postorder()\n",
    "\n"
   ]
  },
  {
   "cell_type": "code",
   "execution_count": null,
   "id": "a9f11027-cf2a-4b61-98a6-175672340ed4",
   "metadata": {},
   "outputs": [],
   "source": []
  }
 ],
 "metadata": {
  "kernelspec": {
   "display_name": "Python 3 (ipykernel)",
   "language": "python",
   "name": "python3"
  },
  "language_info": {
   "codemirror_mode": {
    "name": "ipython",
    "version": 3
   },
   "file_extension": ".py",
   "mimetype": "text/x-python",
   "name": "python",
   "nbconvert_exporter": "python",
   "pygments_lexer": "ipython3",
   "version": "3.12.3"
  }
 },
 "nbformat": 4,
 "nbformat_minor": 5
}
