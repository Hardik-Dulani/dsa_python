{
 "cells": [
  {
   "cell_type": "markdown",
   "id": "d9945090",
   "metadata": {},
   "source": [
    "## Partitioning"
   ]
  },
  {
   "cell_type": "markdown",
   "id": "affa502e",
   "metadata": {},
   "source": [
    "In the context of sorting algorithms, particularly quicksort, **partitioning** is the process of reordering the elements in an array in such a way that all elements less than or equal to a chosen pivot come before the pivot, and all elements greater than the pivot come after it. This effectively places the pivot element in its correct final position within the sorted array.\n",
    "\n",
    "Here's a brief explanation of the partitioning process:\n",
    "\n",
    "- Choose a pivot element from the array. This can be any element, but it's commonly chosen as either the first, last, or middle element of the array.\n",
    "\n",
    "- Reorder the array such that all elements less than or equal to the pivot are moved to the left side of the pivot, and all elements greater than the pivot are moved to the right side of the pivot. This process is often called \"partitioning.\"\n",
    "\n",
    "- After partitioning, the pivot element is in its final sorted position.\n",
    "\n",
    "**Partitioning is a crucial step in quicksort, a popular sorting algorithm, as well as in other algorithms like Hoare's partition scheme for quickselect. It enables the efficient sorting of large arrays by dividing the sorting problem into smaller subproblems.**"
   ]
  },
  {
   "cell_type": "markdown",
   "id": "7f658975",
   "metadata": {},
   "source": [
    "## Lomuto's Partitioning"
   ]
  },
  {
   "cell_type": "markdown",
   "id": "4d51597b",
   "metadata": {},
   "source": [
    "- This algorithm works by assuming the pivot element as the last element. \n",
    "- If any other element is given as a pivot element then swap it first with the last element. \n",
    "- Now initialize two variables i as low and j also low,  \n",
    "- iterate over the array and increment i when arr[j] <= pivot and swap arr[i] with arr[j] \n",
    "- otherwise increment only j. \n",
    "- After coming out from the loop swap arr[i] with arr[hi]. \n",
    "- This i stores the pivot element."
   ]
  },
  {
   "cell_type": "code",
   "execution_count": 4,
   "id": "64700d12",
   "metadata": {},
   "outputs": [
    {
     "name": "stdout",
     "output_type": "stream",
     "text": [
      "10 30 50 70 80 90\n"
     ]
    }
   ],
   "source": [
    "def lomutoPartition(arr, l, h): # This standard algorithm works only when the last element is our pivot element!\n",
    "    pivot = arr[h]\n",
    "    i = l - 1\n",
    "\n",
    "    for j in range(l, h):\n",
    "        if arr[j] <= pivot:\n",
    "            i = i + 1\n",
    "            arr[i], arr[j] = arr[j], arr[i]\n",
    "\n",
    "    arr[i + 1], arr[h] = arr[h], arr[i + 1]\n",
    "\n",
    "    return i + 1\n",
    "\n",
    "\n",
    "arr = [10, 80, 30, 90, 50, 70]\n",
    "\n",
    "lomutoPartition(arr, 0, 5)\n",
    "\n",
    "print(*arr)\n"
   ]
  },
  {
   "cell_type": "code",
   "execution_count": null,
   "id": "1bc513c9",
   "metadata": {},
   "outputs": [],
   "source": [
    "def lomuto(arr,l,h): # For any element as pivot\n",
    "    \n",
    "    arr[h],arr[-1] = arr[-1],arr[h]\n",
    "    pivot = arr[-1]\n",
    "    i = l-1\n",
    "    for j in range(l,len(arr)):\n",
    "        if arr[j] <= pivot:\n",
    "            i = i+1\n",
    "            arr[i],arr[j] = arr[j],arr[i]\n",
    "    arr[i+1],arr[len(arr)-1] = arr[len(arr)-1],arr[i+1]\n",
    "    return arr\n",
    "    \n",
    "lomuto([1,3,8,4,23,5,65,43,10],0,5)"
   ]
  },
  {
   "cell_type": "code",
   "execution_count": null,
   "id": "cf83f95e",
   "metadata": {},
   "outputs": [],
   "source": []
  }
 ],
 "metadata": {
  "kernelspec": {
   "display_name": "Python 3 (ipykernel)",
   "language": "python",
   "name": "python3"
  },
  "language_info": {
   "codemirror_mode": {
    "name": "ipython",
    "version": 3
   },
   "file_extension": ".py",
   "mimetype": "text/x-python",
   "name": "python",
   "nbconvert_exporter": "python",
   "pygments_lexer": "ipython3",
   "version": "3.11.2"
  }
 },
 "nbformat": 4,
 "nbformat_minor": 5
}
