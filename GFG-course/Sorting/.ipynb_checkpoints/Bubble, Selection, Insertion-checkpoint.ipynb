{
 "cells": [
  {
   "cell_type": "markdown",
   "id": "e45a1e92",
   "metadata": {},
   "source": [
    "## Sorting\n",
    "it is the process of arranging items systematically in a specified order, often numerical or alphabetical. It helps in organizing data for efficient retrieval, searching, and analysis. Common sorting algorithms include bubble sort, merge sort, and quick sort, each with its own advantages and efficiencies depending on the data size and structure."
   ]
  },
  {
   "cell_type": "markdown",
   "id": "9c26b5ce",
   "metadata": {},
   "source": [
    "### Built-in methods"
   ]
  },
  {
   "cell_type": "markdown",
   "id": "24739f02",
   "metadata": {},
   "source": [
    "**For the .sort() method in Python:**\n",
    "\n",
    "- .sort() modifies the original list in place, sorting it in ascending order by default.\n",
    "- It is a method specific to lists and doesn't return a new sorted list, making it memory efficient for large datasets.\n",
    "<br>\n",
    "<br>\n",
    "\n",
    "**For the sorted() function in Python:**\n",
    "\n",
    "- sorted() returns a new sorted list without modifying the original list.\n",
    "- It can be used to sort any iterable object (e.g., lists, tuples, strings) and allows specifying custom sorting criteria through the key parameter.\n",
    "<br> <br>\n",
    "**They both use tim sort method**\n",
    "<br><br>\n",
    "\n",
    "**Worst case Time complexity - O(nlogn)**"
   ]
  },
  {
   "cell_type": "markdown",
   "id": "a2d4b950",
   "metadata": {},
   "source": [
    "**sort()** function is very similar to sorted() but unlike sorted it returns nothing and makes changes to the original sequence. Moreover, sort() is a method of list class and can only be used with lists.\n",
    "\n",
    "- Syntax: List_name.sort(key, reverse=False)\n",
    "- Parameters: \n",
    "    - key: A function that serves as a key for the sort comparison. \n",
    "    - reverse: If true, the list is sorted in descending order.\n",
    "- Return type: None "
   ]
  },
  {
   "cell_type": "code",
   "execution_count": 1,
   "id": "8ea20f05",
   "metadata": {},
   "outputs": [
    {
     "name": "stdout",
     "output_type": "stream",
     "text": [
      "[1, 5, 10, 15]\n",
      "[10, 5, 3, 1]\n",
      "['courses', 'gfg', 'ide']\n",
      "['gfg', 'python', 'courses']\n",
      "['courses', 'python', 'gfg']\n"
     ]
    }
   ],
   "source": [
    "l1 = [5, 10, 15, 1]\n",
    "l1.sort()\n",
    "print(l1)\n",
    "\n",
    "l2 = [1, 5, 3, 10]\n",
    "l2.sort(reverse=True)\n",
    "print(l2)\n",
    "\n",
    "l3 = ['gfg', 'ide', 'courses']\n",
    "l3.sort()\n",
    "print(l3)\n",
    "\n",
    "\n",
    "def myFun(s):\n",
    "    return len(s)\n",
    "\n",
    "\n",
    "l = ['gfg', 'courses', 'python']\n",
    "l.sort(key=myFun)\n",
    "print(l)\n",
    "\n",
    "l.sort(key=myFun, reverse=True)\n",
    "print(l)"
   ]
  },
  {
   "cell_type": "code",
   "execution_count": 2,
   "id": "23583330",
   "metadata": {},
   "outputs": [
    {
     "name": "stdout",
     "output_type": "stream",
     "text": [
      "1 15\n",
      "3 8\n",
      "10 5\n"
     ]
    }
   ],
   "source": [
    "class Point:\n",
    "\n",
    "    def __init__(self, x, y):\n",
    "        self.x = x\n",
    "        self.y = y\n",
    "\n",
    "\n",
    "def myFun(p):\n",
    "    return p.x\n",
    "\n",
    "\n",
    "l = [Point(1, 15), Point(10, 5), Point(3, 8)]\n",
    "l.sort(key=myFun)\n",
    "\n",
    "for i in l:\n",
    "    print(i.x, i.y)"
   ]
  },
  {
   "cell_type": "code",
   "execution_count": 5,
   "id": "72999552",
   "metadata": {},
   "outputs": [
    {
     "name": "stdout",
     "output_type": "stream",
     "text": [
      "3 -3\n",
      "2 -2\n",
      "1 -1\n"
     ]
    }
   ],
   "source": [
    "class Point:\n",
    "    def __init__(self,x,y,name):\n",
    "        self.name = name\n",
    "        self.x = x\n",
    "        self.y = y\n",
    "        \n",
    "    def __lt__(self,other): # lt stands for less than and this dunder function defines use of < operator in a class\n",
    "\n",
    "        return self.x > other.x\n",
    "\n",
    "\n",
    "l = [Point(1,-1,'first'),Point(2,-2,'second'),Point(3,-3,'third')]\n",
    "l.sort()\n",
    "for i in l:\n",
    "    print(i.x,i.y)"
   ]
  },
  {
   "cell_type": "code",
   "execution_count": 6,
   "id": "1d16d748",
   "metadata": {},
   "outputs": [
    {
     "name": "stdout",
     "output_type": "stream",
     "text": [
      "1 8\n",
      "1 15\n",
      "10 5\n"
     ]
    }
   ],
   "source": [
    "class Point:\n",
    "\n",
    "    def __init__(self, x, y):\n",
    "        self.x = x\n",
    "        self.y = y\n",
    "\n",
    "    def __lt__(self, other):\n",
    "\n",
    "        if self.x == other.x:\n",
    "            return self.y < other.y\n",
    "        else:\n",
    "            return self.x < other.x\n",
    "\n",
    "\n",
    "l = [Point(1, 15), Point(10, 5), Point(1, 8)]\n",
    "l.sort()\n",
    "\n",
    "for i in l:\n",
    "    print(i.x, i.y)"
   ]
  },
  {
   "cell_type": "markdown",
   "id": "354a7af1",
   "metadata": {},
   "source": [
    "<br><br><br><br>\n",
    "\n",
    "**Python sorted() Function Syntax**\n",
    "\n",
    "<br>\n",
    "\n",
    "- Syntax: sorted(iterable, key, reverse)\n",
    "\n",
    " \n",
    "- Parameters: sorted takes three parameters from which two are optional. \n",
    "\n",
    "- Iterable: sequence (list, tuple, string) or collection (dictionary, set, frozenset) or any other iterator that needs to be sorted.\n",
    "    - Key(optional): A function that would serve as a key or a basis of sort comparison.\n",
    "    - Reverse(optional): If True, then the iterable would be sorted in reverse (descending) order, by default it is set as False.\n",
    "- Return: Returns a list with elements in sorted order."
   ]
  },
  {
   "cell_type": "markdown",
   "id": "63d8f7ee",
   "metadata": {},
   "source": [
    "#### What is a stable sorting algorithm? \n",
    "\n",
    "A sorting algorithm is said to be stable if two objects with equal keys appear in the same order in sorted output as they appear in the input data set.\n",
    "<br>\n",
    "\n",
    "**Which sorting algorithms are stable?**\n",
    "\n",
    "Some Sorting Algorithms are stable by nature, such as Bubble Sort, Insertion Sort, Merge Sort, Count Sort, etc.\n",
    "\n",
    " \n",
    "<br>\n",
    "\n",
    "**Which sorting algorithms are unstable?**\n",
    "\n",
    "Quick Sort, Heap Sort etc., can be made stable by also taking the position of the elements into consideration"
   ]
  },
  {
   "cell_type": "markdown",
   "id": "b8a5c993",
   "metadata": {},
   "source": [
    "<br><br><br>"
   ]
  },
  {
   "cell_type": "markdown",
   "id": "9f876d5d",
   "metadata": {},
   "source": [
    "### Bubble Sort Algorithm\n",
    "Bubble Sort is the simplest sorting algorithm that works by repeatedly swapping the adjacent elements if they are in the wrong order. This algorithm is not suitable for large data sets as its average and worst-case time complexity is quite high."
   ]
  },
  {
   "cell_type": "markdown",
   "id": "4885108b",
   "metadata": {},
   "source": [
    "#### Input: arr[] = {5, 1, 4, 2, 8}\n",
    "\n",
    "**First Pass:** \n",
    "\n",
    "Bubble sort starts with very first two elements, comparing them to check which one is greater.\n",
    "<br>\n",
    "( 5 1 4 2 8 ) –> ( 1 5 4 2 8 ), Here, algorithm compares the first two elements, and swaps since 5 > 1. \n",
    "<br>\n",
    "( 1 5 4 2 8 ) –>  ( 1 4 5 2 8 ), Swap since 5 > 4 \n",
    "<br>\n",
    "( 1 4 5 2 8 ) –>  ( 1 4 2 5 8 ), Swap since 5 > 2 \n",
    "<br>\n",
    "( 1 4 2 5 8 ) –> ( 1 4 2 5 8 ), Now, since these elements are already in order (8 > 5), algorithm does not swap them.\n",
    "<br>\n",
    "<br>\n",
    "**Second Pass:** \n",
    "\n",
    "Now, during second iteration it should look like this:\n",
    "<br>\n",
    "\n",
    "( 1 4 2 5 8 ) –> ( 1 4 2 5 8 ) \n",
    "<br>\n",
    "( 1 4 2 5 8 ) –> ( 1 2 4 5 8 ), Swap since 4 > 2 \n",
    "<br>\n",
    "( 1 2 4 5 8 ) –> ( 1 2 4 5 8 ) \n",
    "<br>\n",
    "( 1 2 4 5 8 ) –>  ( 1 2 4 5 8 ) \n",
    "<br>\n",
    "<br>\n",
    "**Third Pass:**\n",
    "\n",
    "Now, the array is already sorted, but our algorithm does not know if it is completed.\n",
    "The algorithm needs one whole pass without any swap to know it is sorted.\n",
    "<br>\n",
    "( 1 2 4 5 8 ) –> ( 1 2 4 5 8 ) \n",
    "<br>\n",
    "( 1 2 4 5 8 ) –> ( 1 2 4 5 8 ) \n",
    "<br>\n",
    "( 1 2 4 5 8 ) –> ( 1 2 4 5 8 ) \n",
    "<br>\n",
    "( 1 2 4 5 8 ) –> ( 1 2 4 5 8 )"
   ]
  },
  {
   "cell_type": "code",
   "execution_count": 30,
   "id": "38adbed3",
   "metadata": {},
   "outputs": [
    {
     "name": "stdout",
     "output_type": "stream",
     "text": [
      "5 8 10 20\n"
     ]
    }
   ],
   "source": [
    "def bubbleSort(l):\n",
    "    n = len(l)\n",
    "\n",
    "    for i in range(n-1):\n",
    "\n",
    "        for j in range(n - i-1):\n",
    "            if l[j] > l[j + 1]:\n",
    "                l[j], l[j + 1] = l[j + 1], l[j]\n",
    "\n",
    "\n",
    "l = [10, 8, 20, 5]\n",
    "\n",
    "bubbleSort(l)\n",
    "\n",
    "print(*l)"
   ]
  },
  {
   "cell_type": "code",
   "execution_count": 31,
   "id": "12036cb6",
   "metadata": {},
   "outputs": [
    {
     "name": "stdout",
     "output_type": "stream",
     "text": [
      "5 8 10 20\n"
     ]
    }
   ],
   "source": [
    "def bubbleSortFlag(l):\n",
    "    n = len(l)\n",
    "\n",
    "    for i in range(n-1):\n",
    "        swapped = False\n",
    "\n",
    "        for j in range(n-i-1):\n",
    "            if l[j]>l[j+1]:\n",
    "                l[j],l[j+1] = l[j+1],l[j]\n",
    "\n",
    "                swapped = True\n",
    "\n",
    "        if swapped == False:\n",
    "            return\n",
    "\n",
    "l = [10, 8, 20, 5]\n",
    "\n",
    "bubbleSort(l)\n",
    "\n",
    "print(*l)"
   ]
  },
  {
   "cell_type": "markdown",
   "id": "dacf85b4",
   "metadata": {},
   "source": [
    "### The selection sort algorithm\n",
    "sorts an array by repeatedly finding the minimum element (considering ascending order) from unsorted part and putting it at the beginning. The algorithm maintains two subarrays in a given array.\n",
    "\n",
    "1) The subarray which is already sorted.\n",
    "\n",
    "2) Remaining subarray which is unsorted. In every iteration of selection sort, the minimum element (considering ascending order) from the unsorted subarray is picked and moved to the sorted subarray."
   ]
  },
  {
   "cell_type": "code",
   "execution_count": 32,
   "id": "0db2cebe",
   "metadata": {},
   "outputs": [
    {
     "name": "stdout",
     "output_type": "stream",
     "text": [
      "2 5 8 10 18 20\n"
     ]
    }
   ],
   "source": [
    "def selectSort(l):\n",
    "    n = len(l)\n",
    "\n",
    "    for i in range(n - 1):\n",
    "        min_ind = i\n",
    "        for j in range(i + 1, n):\n",
    "\n",
    "            if l[j] < l[min_ind]:\n",
    "                min_ind = j\n",
    "\n",
    "        l[min_ind], l[i] = l[i], l[min_ind]\n",
    "\n",
    "\n",
    "l = [10, 5, 8, 20, 2, 18]\n",
    "\n",
    "selectSort(l)\n",
    "\n",
    "print(*l)"
   ]
  },
  {
   "cell_type": "markdown",
   "id": "9904f203",
   "metadata": {},
   "source": [
    "### Insertion Sort in Python\n",
    "\n",
    "Insertion sort is a simple sorting algorithm that works similar to the way you sort playing cards in your hands. The array is virtually split into a sorted and an unsorted part. Values from the unsorted part are picked and placed at the correct position in the sorted part."
   ]
  },
  {
   "cell_type": "code",
   "execution_count": 33,
   "id": "3c856ed0",
   "metadata": {},
   "outputs": [
    {
     "data": {
      "text/plain": [
       "[-4, 1, 1, 2, 2, 3]"
      ]
     },
     "execution_count": 33,
     "metadata": {},
     "output_type": "execute_result"
    }
   ],
   "source": [
    "def insertion_sort(arr):\n",
    "    n = len(arr)\n",
    "\n",
    "    for i in range(1,n):\n",
    "\n",
    "        x = arr[i]\n",
    "        j = i-1\n",
    "        \n",
    "        while j>=0 and x<arr[j]:\n",
    "\n",
    "            arr[j],arr[j+1] = x,arr[j]\n",
    "            j-=1\n",
    "    return arr\n",
    "insertion_sort([2,1,3,1,2,-4])"
   ]
  },
  {
   "cell_type": "code",
   "execution_count": null,
   "id": "c88ed43d",
   "metadata": {},
   "outputs": [],
   "source": []
  }
 ],
 "metadata": {
  "kernelspec": {
   "display_name": "Python 3 (ipykernel)",
   "language": "python",
   "name": "python3"
  },
  "language_info": {
   "codemirror_mode": {
    "name": "ipython",
    "version": 3
   },
   "file_extension": ".py",
   "mimetype": "text/x-python",
   "name": "python",
   "nbconvert_exporter": "python",
   "pygments_lexer": "ipython3",
   "version": "3.11.2"
  }
 },
 "nbformat": 4,
 "nbformat_minor": 5
}
