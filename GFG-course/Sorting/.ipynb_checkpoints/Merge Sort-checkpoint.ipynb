{
 "cells": [
  {
   "cell_type": "code",
   "execution_count": null,
   "id": "b87c1917",
   "metadata": {},
   "outputs": [],
   "source": []
  },
  {
   "cell_type": "code",
   "execution_count": 50,
   "id": "1fa8537f",
   "metadata": {},
   "outputs": [],
   "source": [
    "def merge_sort(arr1,arr2):\n",
    "    i = 0 \n",
    "    j = 0 \n",
    "    n = len(arr1)\n",
    "    m = len(arr2)\n",
    "    res = []\n",
    "    while i< n and j<m:\n",
    "        if arr1[i]<=arr2[j]:\n",
    "            res.append(arr1[i])\n",
    "            i += 1\n",
    "        else:\n",
    "            res.append(arr2[j])\n",
    "            j += 1\n",
    "            \n",
    "    if i!=n :\n",
    "        res += arr1[i:]\n",
    "    elif j!= m:\n",
    "        \n",
    "        res += arr2[j:]\n",
    "    return res"
   ]
  },
  {
   "cell_type": "code",
   "execution_count": 51,
   "id": "15544c4f",
   "metadata": {},
   "outputs": [
    {
     "data": {
      "text/plain": [
       "[1, 2, 3, 4, 5, 6, 7, 8, 9, 9, 10]"
      ]
     },
     "execution_count": 51,
     "metadata": {},
     "output_type": "execute_result"
    }
   ],
   "source": [
    "merge_sort([1,3,5,7,9],[2,4,6,8,9,10])"
   ]
  },
  {
   "cell_type": "markdown",
   "id": "6a7e9696",
   "metadata": {},
   "source": [
    "### Merging two sorted subarrays"
   ]
  },
  {
   "cell_type": "code",
   "execution_count": 46,
   "id": "96ee692e",
   "metadata": {},
   "outputs": [
    {
     "name": "stdout",
     "output_type": "stream",
     "text": [
      "[8, 10, 11, 15, 20, 40, 55]\n"
     ]
    }
   ],
   "source": [
    "def merge(a, low, mid, high):\n",
    "    left = a[low:mid + 1]\n",
    "    right = a[mid + 1:high + 1]\n",
    "    \n",
    "    i = j = 0 # left and right arr idx\n",
    "    k = low # merged arr idx\n",
    "\n",
    "    while i < len(left) and j < len(right):\n",
    "#         print(i,j,k)\n",
    "        if left[i] < right[j]:\n",
    "            a[k] = left[i]\n",
    "\n",
    "            \n",
    "            i += 1\n",
    "        else:\n",
    "            a[k] = right[j]\n",
    "            \n",
    "            j += 1\n",
    "        k += 1\n",
    "        \n",
    "    while i < len(left):\n",
    "        a[k] = left[i]\n",
    "        i += 1\n",
    "        k += 1\n",
    "\n",
    "    while j < len(right):\n",
    "        a[k] = right[j]\n",
    "        j += 1\n",
    "        k += 1\n",
    "\n",
    "\n",
    "a = [10, 15, 20, 40, 8, 11, 55]\n",
    "\n",
    "merge(a, 0, 3, 6)\n",
    "\n",
    "print(a)\n"
   ]
  },
  {
   "cell_type": "markdown",
   "id": "ddd1f553",
   "metadata": {},
   "source": [
    "### Merge Sort Algorithm (Sbse important)"
   ]
  },
  {
   "cell_type": "code",
   "execution_count": 47,
   "id": "308e1ede",
   "metadata": {},
   "outputs": [],
   "source": [
    "def mergeSort(arr,l,r):\n",
    "    \n",
    "    if l<r:\n",
    "        m = (l+r)//2\n",
    "        \n",
    "        mergeSort(arr,l,m)\n",
    "\n",
    "        mergeSort(arr,m+1,r)\n",
    "        \n",
    "        merge(arr,l,m,r)\n",
    "        \n",
    "    return arr"
   ]
  },
  {
   "cell_type": "code",
   "execution_count": 48,
   "id": "5ca4822c",
   "metadata": {},
   "outputs": [
    {
     "data": {
      "text/plain": [
       "[12, 12, 30, 34, 43, 231]"
      ]
     },
     "execution_count": 48,
     "metadata": {},
     "output_type": "execute_result"
    }
   ],
   "source": [
    "mergeSort([30,12,231,43,12,34],0,5)"
   ]
  },
  {
   "cell_type": "code",
   "execution_count": null,
   "id": "a9038130",
   "metadata": {},
   "outputs": [],
   "source": []
  }
 ],
 "metadata": {
  "kernelspec": {
   "display_name": "Python 3 (ipykernel)",
   "language": "python",
   "name": "python3"
  },
  "language_info": {
   "codemirror_mode": {
    "name": "ipython",
    "version": 3
   },
   "file_extension": ".py",
   "mimetype": "text/x-python",
   "name": "python",
   "nbconvert_exporter": "python",
   "pygments_lexer": "ipython3",
   "version": "3.11.2"
  }
 },
 "nbformat": 4,
 "nbformat_minor": 5
}
