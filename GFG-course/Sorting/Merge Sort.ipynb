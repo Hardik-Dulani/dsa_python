{
 "cells": [
  {
   "cell_type": "code",
   "execution_count": null,
   "id": "b87c1917",
   "metadata": {},
   "outputs": [],
   "source": []
  },
  {
   "cell_type": "code",
   "execution_count": 50,
   "id": "1fa8537f",
   "metadata": {},
   "outputs": [],
   "source": [
    "def merge_sort(arr1,arr2):\n",
    "    i = 0 \n",
    "    j = 0 \n",
    "    n = len(arr1)\n",
    "    m = len(arr2)\n",
    "    res = []\n",
    "    while i< n and j<m:\n",
    "        if arr1[i]<=arr2[j]:\n",
    "            res.append(arr1[i])\n",
    "            i += 1\n",
    "        else:\n",
    "            res.append(arr2[j])\n",
    "            j += 1\n",
    "            \n",
    "    if i!=n :\n",
    "        res += arr1[i:]\n",
    "    elif j!= m:\n",
    "        \n",
    "        res += arr2[j:]\n",
    "    return res"
   ]
  },
  {
   "cell_type": "code",
   "execution_count": 51,
   "id": "15544c4f",
   "metadata": {},
   "outputs": [
    {
     "data": {
      "text/plain": [
       "[1, 2, 3, 4, 5, 6, 7, 8, 9, 9, 10]"
      ]
     },
     "execution_count": 51,
     "metadata": {},
     "output_type": "execute_result"
    }
   ],
   "source": [
    "merge_sort([1,3,5,7,9],[2,4,6,8,9,10])"
   ]
  },
  {
   "cell_type": "markdown",
   "id": "141903da",
   "metadata": {},
   "source": [
    "### Merging two sorted subarrays"
   ]
  },
  {
   "cell_type": "code",
   "execution_count": 46,
   "id": "1d847333",
   "metadata": {},
   "outputs": [
    {
     "name": "stdout",
     "output_type": "stream",
     "text": [
      "[8, 10, 11, 15, 20, 40, 55]\n"
     ]
    }
   ],
   "source": [
    "def merge(a, low, mid, high):\n",
    "    left = a[low:mid + 1]\n",
    "    right = a[mid + 1:high + 1]\n",
    "    \n",
    "    i = j = 0 # left and right arr idx\n",
    "    k = low # merged arr idx\n",
    "\n",
    "    while i < len(left) and j < len(right):\n",
    "#         print(i,j,k)\n",
    "        if left[i] < right[j]:\n",
    "            a[k] = left[i]\n",
    "\n",
    "            \n",
    "            i += 1\n",
    "        else:\n",
    "            a[k] = right[j]\n",
    "            \n",
    "            j += 1\n",
    "        k += 1\n",
    "        \n",
    "    while i < len(left):\n",
    "        a[k] = left[i]\n",
    "        i += 1\n",
    "        k += 1\n",
    "\n",
    "    while j < len(right):\n",
    "        a[k] = right[j]\n",
    "        j += 1\n",
    "        k += 1\n",
    "\n",
    "\n",
    "a = [10, 15, 20, 40, 8, 11, 55]\n",
    "\n",
    "merge(a, 0, 3, 6)\n",
    "\n",
    "print(a)\n"
   ]
  },
  {
   "cell_type": "markdown",
   "id": "b772b8a8",
   "metadata": {},
   "source": [
    "### Merge Sort Algorithm (Sbse important)"
   ]
  },
  {
   "cell_type": "code",
   "execution_count": 47,
   "id": "3017e67c",
   "metadata": {},
   "outputs": [],
   "source": [
    "def mergeSort(arr,l,r):\n",
    "    \n",
    "    if l<r:\n",
    "        m = (l+r)//2\n",
    "        \n",
    "        mergeSort(arr,l,m)\n",
    "\n",
    "        mergeSort(arr,m+1,r)\n",
    "        \n",
    "        merge(arr,l,m,r)\n",
    "        \n",
    "    return arr"
   ]
  },
  {
   "cell_type": "code",
   "execution_count": 48,
   "id": "24a8e509",
   "metadata": {},
   "outputs": [
    {
     "data": {
      "text/plain": [
       "[12, 12, 30, 34, 43, 231]"
      ]
     },
     "execution_count": 48,
     "metadata": {},
     "output_type": "execute_result"
    }
   ],
   "source": [
    "mergeSort([30,12,231,43,12,34],0,5)"
   ]
  },
  {
   "cell_type": "markdown",
   "id": "6df16240",
   "metadata": {},
   "source": [
    "### Union of Lists"
   ]
  },
  {
   "cell_type": "code",
   "execution_count": 98,
   "id": "68d5cce4",
   "metadata": {},
   "outputs": [
    {
     "data": {
      "text/plain": [
       "[1, 2, 3, 4, 5, 6, 7, 8, 10]"
      ]
     },
     "execution_count": 98,
     "metadata": {},
     "output_type": "execute_result"
    }
   ],
   "source": [
    "def union_merge_sort(arr1,arr2):\n",
    "    \n",
    "    i = 0 \n",
    "    j = 0 \n",
    "    n = len(arr1)\n",
    "    m = len(arr2)\n",
    "    res = []\n",
    "    \n",
    "    \n",
    "    \n",
    "    while i< n and j<m:\n",
    "        if i>0 and arr1[i] == arr1[i-1]:\n",
    "            i+=1\n",
    "            \n",
    "        elif j>0 and arr2[j] == arr2[j-1]:\n",
    "            j+=1\n",
    "            \n",
    "        elif arr1[i]<arr2[j]:\n",
    "            res.append(arr1[i])\n",
    "            i += 1\n",
    "            \n",
    "        elif arr1[i]>arr2[j]:\n",
    "            res.append(arr2[j])\n",
    "            j += 1\n",
    "        else:\n",
    "            res.append(arr2[j])\n",
    "            i+=1\n",
    "            j+=1\n",
    "        \n",
    "    while i<n:\n",
    "        if i>0 and arr1[i]!= arr1[i-1]:\n",
    "            res.append(arr1[i])\n",
    "        i+=1\n",
    "\n",
    "    while j<m:\n",
    "        if j>0 and arr2[j]!= arr2[j-1]:\n",
    "            res.append(arr2[j])\n",
    "        j+=1\n",
    "\n",
    "        \n",
    "    return res\n",
    "\n",
    "union_merge_sort([1,3,5,6,7],[2,4,6,6,7,8,10,10,10,10])"
   ]
  },
  {
   "cell_type": "code",
   "execution_count": 101,
   "id": "de5adad9",
   "metadata": {},
   "outputs": [
    {
     "data": {
      "text/plain": [
       "[6, 7, 8]"
      ]
     },
     "execution_count": 101,
     "metadata": {},
     "output_type": "execute_result"
    }
   ],
   "source": [
    "def intersection_merge_sort(arr1,arr2):\n",
    "    \n",
    "    i = 0 \n",
    "    j = 0 \n",
    "    n = len(arr1)\n",
    "    m = len(arr2)\n",
    "    res = []\n",
    "    \n",
    "    \n",
    "    \n",
    "    while i< n and j<m:\n",
    "        if i>0 and arr1[i] == arr1[i-1]:\n",
    "            i+=1\n",
    "            \n",
    "        elif j>0 and arr2[j] == arr2[j-1]:\n",
    "            j+=1\n",
    "            \n",
    "        elif arr1[i]<arr2[j]:\n",
    "            i += 1\n",
    "            \n",
    "        elif arr1[i]>arr2[j]:\n",
    "            j += 1\n",
    "            \n",
    "        else:\n",
    "            res.append(arr2[j])\n",
    "            i+=1\n",
    "            j+=1\n",
    "        \n",
    "    return res\n",
    "intersection_merge_sort([1,1,1,3,5,6,7,8,9,9,9,9,9],[2,4,6,6,7,7,8,10,10,10,10])"
   ]
  },
  {
   "cell_type": "markdown",
   "id": "2065317e",
   "metadata": {},
   "source": [
    "### Merge Sort Analysis\n",
    "\n",
    "The Merge Sort algorithm is a sorting algorithm that is based on the **Divide and Conquer paradigm.** In this algorithm, the array is initially divided into two equal halves and then they are combined in a sorted manner."
   ]
  },
  {
   "cell_type": "markdown",
   "id": "c2a62527",
   "metadata": {},
   "source": [
    "Algorithm:\n",
    "```\n",
    "step 1: start\n",
    "\n",
    "step 2: declare array and left, right, mid variable\n",
    "\n",
    "step 3: perform merge function.\n",
    "    if left > right\n",
    "        return\n",
    "    mid= (left+right)/2\n",
    "    mergesort(array, left, mid)\n",
    "    mergesort(array, mid+1, right)\n",
    "    merge(array, left, mid, right)\n",
    "\n",
    "step 4: Stop\n",
    "```"
   ]
  },
  {
   "cell_type": "markdown",
   "id": "8a360660",
   "metadata": {},
   "source": [
    "**Time Complexity: O(N log(N))**,  Sorting arrays on different machines.\n",
    "<br>\n",
    "\n",
    "Merge Sort is a recursive algorithm and time complexity can be expressed as following recurrence relation. \n",
    "\n",
    "T(n) = 2T(n/2) + θ(n)\n",
    "<br>\n",
    "\n",
    "The above recurrence can be solved either using the Recurrence Tree method or the Master method. It falls in case II of the Master Method and the solution of the recurrence is θ(Nlog(N)). \n",
    "<br>\n",
    "\n",
    "The time complexity of Merge Sort isθ(Nlog(N)) in all 3 cases (worst, average, and best) as merge sort always divides the array into two halves and takes linear time to merge two halves.\n",
    "<br>\n",
    "\n",
    "**Auxiliary Space: O(n)**, In merge sort all elements are copied into an auxiliary array. So N auxiliary space is required for merge sort."
   ]
  },
  {
   "cell_type": "markdown",
   "id": "6c3c790b",
   "metadata": {},
   "source": [
    "<br><br>\n",
    "### **Inversion Count for an array indicates:**\n",
    "how far (or close) the array is from being sorted. If the array is already sorted, then the inversion count is 0, but if the array is sorted in reverse order, the inversion count is the maximum. \n",
    "\n",
    "Given an array a[]. The task is to find the inversion count of a[]. Where two elements a[i] and a[j] form an inversion if a[i] > a[j] and i < j."
   ]
  },
  {
   "cell_type": "markdown",
   "id": "1cff8be0",
   "metadata": {},
   "source": [
    "```Input: arr[] = {8, 4, 2, 1}\n",
    "\n",
    "Output: 6\n",
    "\n",
    "Explanation: Given array has six inversions: (8, 4), (4, 2), (8, 2), (8, 1), (4, 1), (2, 1). ```"
   ]
  },
  {
   "cell_type": "markdown",
   "id": "8d0a5f27",
   "metadata": {},
   "source": [
    "refer the following link for detailed explanation\n",
    "https://www.geeksforgeeks.org/inversion-count-in-array-using-merge-sort/"
   ]
  },
  {
   "cell_type": "code",
   "execution_count": 105,
   "id": "32e571c9",
   "metadata": {},
   "outputs": [],
   "source": [
    "\n",
    "def inversionCount( arr, n):\n",
    "    # Your Code Here\n",
    "    def merge(arr1,arr2,count):\n",
    "        i,j=0,0\n",
    "        final = []\n",
    "        while i<len(arr1) and j<len(arr2):\n",
    "            if arr1[i]<=arr2[j]:\n",
    "                final.append(arr1[i])\n",
    "                i = i+1\n",
    "            else:\n",
    "                # [2,4,6,8] [3,5,7,9]\n",
    "                count[0] = count[0] + (len(arr1)-i)\n",
    "                final.append(arr2[j])\n",
    "                j = j+1\n",
    "\n",
    "        while i<len(arr1):\n",
    "            final.append(arr1[i])\n",
    "            i=i+1\n",
    "        while j<len(arr2):\n",
    "            final.append(arr2[j])\n",
    "            j = j+1\n",
    "        return final\n",
    "\n",
    "    def mergesort(arr,count):\n",
    "        if len(arr)==1 or len(arr)==0:\n",
    "            return arr\n",
    "\n",
    "        s = 0\n",
    "        e = len(arr)-1\n",
    "\n",
    "        mid = (s+e)//2\n",
    "        left = mergesort(arr[:mid+1],count)\n",
    "        right = mergesort(arr[mid+1:],count)\n",
    "        return merge(left,right,count)\n",
    "\n",
    "    count = [0]\n",
    "    mergesort(arr,count)\n",
    "    return count[0]\n",
    "\n",
    "\n",
    "\n"
   ]
  },
  {
   "cell_type": "code",
   "execution_count": 106,
   "id": "aaaae135",
   "metadata": {},
   "outputs": [
    {
     "data": {
      "text/plain": [
       "8"
      ]
     },
     "execution_count": 106,
     "metadata": {},
     "output_type": "execute_result"
    }
   ],
   "source": [
    "inversionCount([5,2,4,3,1,6],6)"
   ]
  },
  {
   "cell_type": "code",
   "execution_count": null,
   "id": "c96a9601",
   "metadata": {},
   "outputs": [],
   "source": []
  }
 ],
 "metadata": {
  "kernelspec": {
   "display_name": "Python 3 (ipykernel)",
   "language": "python",
   "name": "python3"
  },
  "language_info": {
   "codemirror_mode": {
    "name": "ipython",
    "version": 3
   },
   "file_extension": ".py",
   "mimetype": "text/x-python",
   "name": "python",
   "nbconvert_exporter": "python",
   "pygments_lexer": "ipython3",
   "version": "3.11.2"
  }
 },
 "nbformat": 4,
 "nbformat_minor": 5
}
