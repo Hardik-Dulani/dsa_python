{
 "cells": [
  {
   "cell_type": "markdown",
   "id": "bf6c2110",
   "metadata": {},
   "source": [
    "## Partitioning"
   ]
  },
  {
   "cell_type": "markdown",
   "id": "f3758306",
   "metadata": {},
   "source": [
    "In the context of sorting algorithms, particularly quicksort, **partitioning** is the process of reordering the elements in an array in such a way that all elements less than or equal to a chosen pivot come before the pivot, and all elements greater than the pivot come after it. This effectively places the pivot element in its correct final position within the sorted array.\n",
    "\n",
    "Here's a brief explanation of the partitioning process:\n",
    "\n",
    "- Choose a pivot element from the array. This can be any element, but it's commonly chosen as either the first, last, or middle element of the array.\n",
    "\n",
    "- Reorder the array such that all elements less than or equal to the pivot are moved to the left side of the pivot, and all elements greater than the pivot are moved to the right side of the pivot. This process is often called \"partitioning.\"\n",
    "\n",
    "- After partitioning, the pivot element is in its final sorted position.\n",
    "\n",
    "**Partitioning is a crucial step in quicksort, a popular sorting algorithm, as well as in other algorithms like Hoare's partition scheme for quickselect. It enables the efficient sorting of large arrays by dividing the sorting problem into smaller subproblems.**"
   ]
  },
  {
   "cell_type": "markdown",
   "id": "fed3cf37",
   "metadata": {},
   "source": [
    "## Lomuto's Partitioning"
   ]
  },
  {
   "cell_type": "markdown",
   "id": "04bc3897",
   "metadata": {},
   "source": [
    "- This algorithm works by assuming the pivot element as the last element. \n",
    "- If any other element is given as a pivot element then swap it first with the last element. \n",
    "- Now initialize two variables i as low and j also low,  \n",
    "- iterate over the array and increment i when arr[j] <= pivot and swap arr[i] with arr[j] \n",
    "- otherwise increment only j. \n",
    "- After coming out from the loop swap arr[i] with arr[hi]. \n",
    "- This i stores the pivot element."
   ]
  },
  {
   "cell_type": "code",
   "execution_count": 58,
   "id": "211e043e",
   "metadata": {},
   "outputs": [
    {
     "name": "stdout",
     "output_type": "stream",
     "text": [
      "3\n",
      "10 30 20 70 95 90\n"
     ]
    }
   ],
   "source": [
    "def lomutoPartition(arr, l, h): # This standard algorithm works only when the last element is our pivot element!\n",
    "    pivot = arr[h]\n",
    "    i = l - 1\n",
    "\n",
    "    for j in range(l, h):\n",
    "        if arr[j] <= pivot:\n",
    "            i = i + 1\n",
    "            arr[i], arr[j] = arr[j], arr[i]\n",
    "\n",
    "    arr[i + 1], arr[h] = arr[h], arr[i + 1]\n",
    "\n",
    "    return i + 1\n",
    "\n",
    "\n",
    "arr = [10, 95, 30, 90, 20, 70]\n",
    "\n",
    "print(lomutoPartition(arr, 0, 5))\n",
    "\n",
    "print(*arr)\n"
   ]
  },
  {
   "cell_type": "markdown",
   "id": "5962b0bf",
   "metadata": {},
   "source": [
    "## Hoare's Partition"
   ]
  },
  {
   "cell_type": "markdown",
   "id": "4430f8a2",
   "metadata": {},
   "source": [
    "This algorithm works by initialising two indexes that start at two ends, the two indexes move towards each other until an inversion is found. When an inversion is found, two values are swapped and the process is repeated.\n",
    "\n",
    "Implementation of Hoare's Partitioning in quick sort is given below,"
   ]
  },
  {
   "cell_type": "markdown",
   "id": "35ab795d",
   "metadata": {},
   "source": [
    "Algorithm:\n",
    "\n",
    "partition(arr[], lo, hi)\n",
    "   pivot = arr[lo]\n",
    "   i = lo - 1  // Initialize left index\n",
    "   j = hi + 1  // Initialize right index\n",
    "\n",
    "   // Find a value in left side greater\n",
    "   // than pivot\n",
    "   do\n",
    "      i = i + 1\n",
    "   while arr[i] < pivot\n",
    "\n",
    "   // Find a value in right side smaller\n",
    "   // than pivot\n",
    "   do\n",
    "      j--;\n",
    "   while (arr[j] > pivot);\n",
    "\n",
    "   if i >= j then \n",
    "      return j\n",
    "\n",
    "   swap arr[i] with arr[j]"
   ]
  },
  {
   "cell_type": "code",
   "execution_count": 111,
   "id": "c614e5b1",
   "metadata": {},
   "outputs": [
    {
     "name": "stdout",
     "output_type": "stream",
     "text": [
      "6\n",
      "[5, 6, 0, 1, 3, 4, 2, 9, 8, 7, 10, 6, 40]\n"
     ]
    }
   ],
   "source": [
    "def hoarePartition(arr,l,h):\n",
    "    pivot=arr[l]\n",
    "    i=l-1\n",
    "    j=h+1\n",
    "    while True:\n",
    "        i=i+1\n",
    "        while arr[i]<pivot:\n",
    "            i=i+1\n",
    "        j=j-1\n",
    "        while arr[j]>pivot:\n",
    "            j=j-1\n",
    "        if i>=j:\n",
    "            return j\n",
    "        arr[i],arr[j]=arr[j],arr[i]\n",
    "arr = [6,10,0,1,9,4,2,3,8,7,6,5,40]\n",
    "print(hoarePartition(arr,0,12))\n",
    "print(arr)"
   ]
  },
  {
   "cell_type": "markdown",
   "id": "77c6ecac",
   "metadata": {},
   "source": [
    "## Quick sort using Lomuto partition"
   ]
  },
  {
   "cell_type": "markdown",
   "id": "d57a46cd",
   "metadata": {},
   "source": [
    "https://www.geeksforgeeks.org/batch/dsa-python-self-paced/track/sorting-basic-python/article/NjE3NQ%3D%3D"
   ]
  },
  {
   "cell_type": "markdown",
   "id": "1ba0caf8",
   "metadata": {},
   "source": [
    "- Like Merge Sort, QuickSort is a Divide and Conquer algorithm. \n",
    "- It picks an element as a pivot and partitions the given array around the picked pivot. \n",
    "- There are many different versions of quickSort that pick pivot in different ways. \n",
    "\n",
    "    - Always pick the first element as a pivot.\n",
    "    - Always pick the last element as a pivot (implemented below)\n",
    "    - Pick a random element as a pivot.\n",
    "    - Pick median as the pivot.\n",
    "**The key process in quickSort is a partition()**. The target of partitions is, given an array and an element x of an array as the pivot, put x at its correct position in a sorted array and put all smaller elements (smaller than x) before x, and put all greater elements (greater than x) after x. All this should be done in linear time"
   ]
  },
  {
   "cell_type": "code",
   "execution_count": 112,
   "id": "36b3370a",
   "metadata": {},
   "outputs": [],
   "source": [
    "def quickLomuto(arr,l,h):\n",
    "    if l<h:\n",
    "        p = lomutoPartition(arr,l,h)\n",
    "        quick_lomuto(arr,l,p-1)\n",
    "        quick_lomuto(arr,p+1,h)\n",
    "        \n",
    "    return arr\n",
    "    "
   ]
  },
  {
   "cell_type": "markdown",
   "id": "893da1b7",
   "metadata": {},
   "source": [
    "## Quick sort using Hoares Part"
   ]
  },
  {
   "cell_type": "code",
   "execution_count": 113,
   "id": "e2ce7083",
   "metadata": {},
   "outputs": [],
   "source": [
    "def quickHoares(arr,l,h):\n",
    "    if l<h:\n",
    "        p = hoarePartition(arr,l,h)\n",
    "        quickHoares(arr,l,p)\n",
    "        quickHoares(arr,p+1,h)\n",
    "        \n",
    "    return arr\n",
    "    "
   ]
  },
  {
   "cell_type": "code",
   "execution_count": 114,
   "id": "9295d965",
   "metadata": {},
   "outputs": [
    {
     "name": "stdout",
     "output_type": "stream",
     "text": [
      "[2, 4, 5, 12, 42, 43, 73, 342]\n",
      "[2, 4, 5, 12, 42, 43, 73, 342]\n"
     ]
    }
   ],
   "source": [
    "arr1 = [4,2,42,5,73,342,43,12]\n",
    "arr2 = [4,2,42,5,73,342,43,12]\n",
    "# len(arr1)\n",
    "quickHoares(arr1,0,7)\n",
    "quickLomuto(arr2,0,7)\n",
    "print(arr1)\n",
    "print(arr2)"
   ]
  },
  {
   "cell_type": "code",
   "execution_count": null,
   "id": "07dcc237",
   "metadata": {},
   "outputs": [],
   "source": [
    "def quickSort(self,arr,low,high):\n",
    "        if low< high:\n",
    "            p = self.partition(arr,low,high)\n",
    "            self.quickSort(arr,low,p)\n",
    "            self.quickSort(arr,p+1,high)\n",
    "    \n",
    "    def partition(self,arr,low,high):\n",
    "        i = low - 1\n",
    "        j = high + 1\n",
    "        pivot = arr[low]\n",
    "        while True:\n",
    "            i += 1\n",
    "            while arr[i]<pivot:\n",
    "                i += 1\n",
    "            j -= 1\n",
    "            while arr[j]>pivot:\n",
    "                j-=1\n",
    "                \n",
    "            if i>j:\n",
    "                return j\n",
    "            \n",
    "            arr[i],arr[j] = arr[j],arr[i]"
   ]
  },
  {
   "cell_type": "code",
   "execution_count": null,
   "id": "be03c09f",
   "metadata": {},
   "outputs": [],
   "source": []
  }
 ],
 "metadata": {
  "kernelspec": {
   "display_name": "Python 3 (ipykernel)",
   "language": "python",
   "name": "python3"
  },
  "language_info": {
   "codemirror_mode": {
    "name": "ipython",
    "version": 3
   },
   "file_extension": ".py",
   "mimetype": "text/x-python",
   "name": "python",
   "nbconvert_exporter": "python",
   "pygments_lexer": "ipython3",
   "version": "3.11.2"
  }
 },
 "nbformat": 4,
 "nbformat_minor": 5
}
