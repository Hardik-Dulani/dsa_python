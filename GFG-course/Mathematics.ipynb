{
 "cells": [
  {
   "cell_type": "markdown",
   "id": "8a392fa1",
   "metadata": {},
   "source": [
    "## Mathematics and some common problems "
   ]
  },
  {
   "cell_type": "markdown",
   "id": "f63c158e",
   "metadata": {},
   "source": [
    "### 1. Sum of N natural numbers"
   ]
  },
  {
   "cell_type": "code",
   "execution_count": 8,
   "id": "274dd66c",
   "metadata": {},
   "outputs": [],
   "source": [
    "def sum_n_natural(n):\n",
    "    return (n*(n+1))//2\n",
    "# sum_n_natural(10)"
   ]
  },
  {
   "cell_type": "markdown",
   "id": "53484b44",
   "metadata": {},
   "source": [
    "### 2. Count the number of digits"
   ]
  },
  {
   "cell_type": "code",
   "execution_count": 9,
   "id": "e594d623",
   "metadata": {},
   "outputs": [],
   "source": [
    "def count_digits(n):\n",
    "    digits = 0\n",
    "    while n>0:\n",
    "        digits+=1\n",
    "        n//=10\n",
    "#         print(n)\n",
    "    return digits\n",
    "# count_digits(100)\n",
    "# count_digits(313734)"
   ]
  },
  {
   "cell_type": "markdown",
   "id": "4ad73263",
   "metadata": {},
   "source": [
    "### 3. Palindrome number"
   ]
  },
  {
   "cell_type": "code",
   "execution_count": 10,
   "id": "93ab541d",
   "metadata": {},
   "outputs": [],
   "source": [
    "def palindrome_num(n):\n",
    "    temp = n\n",
    "    a = 0\n",
    "    while n!=0:\n",
    "        a*=10\n",
    "        a+= n%10\n",
    "        n//=10\n",
    "    if a == temp:\n",
    "        return True\n",
    "    return False\n",
    "# palindrome_num(789987)"
   ]
  },
  {
   "cell_type": "markdown",
   "id": "48faf82a",
   "metadata": {},
   "source": [
    "### 4. Factorial of a number\n"
   ]
  },
  {
   "cell_type": "code",
   "execution_count": 11,
   "id": "e6369dc3",
   "metadata": {},
   "outputs": [],
   "source": [
    "def factorial(n):\n",
    "    res = 1\n",
    "    for i in range(2,n+1):\n",
    "        res*=i\n",
    "    return res\n",
    "# factorial(5)\n",
    "\n",
    "def factorial_rec(n):\n",
    "    \n",
    "    if n == 0:\n",
    "        return 1\n",
    "    \n",
    "    return n* factorial_rec(n-1)\n",
    "# factorial_rec(5)"
   ]
  },
  {
   "cell_type": "markdown",
   "id": "0073ac6e",
   "metadata": {},
   "source": [
    "### 5. GCD or HCF of a number"
   ]
  },
  {
   "cell_type": "code",
   "execution_count": 12,
   "id": "f4ee9049",
   "metadata": {},
   "outputs": [],
   "source": [
    "def gcd_iter1(a,b):\n",
    "    n =  min(a,b)\n",
    "    for i in range(1,n+1):\n",
    "        if a%i == 0 and b%i==0:\n",
    "            ans = i\n",
    "    return ans\n",
    "\n",
    "\n",
    "def gcd_iter_euc(a,b):\n",
    "    while a!=b:\n",
    "        if a > b:\n",
    "            a = a - b\n",
    "        else:\n",
    "            b = b - a\n",
    "    return a\n",
    "\n",
    "def gcd_iter2(a,b): # MY CODE\n",
    "    n = min(a,b)\n",
    "    m = max(a,b)\n",
    "    i = 2\n",
    "    res = 1\n",
    "    while n!= 1 and i<=n:\n",
    "        if n%i == 0 and m%i == 0:\n",
    "            n//=i\n",
    "            m//=i\n",
    "            res *= i\n",
    "        else:\n",
    "            i+=1\n",
    "    return res\n",
    "\n",
    "\n",
    "def gcd_rec(a,b):\n",
    "    if b == 0:\n",
    "        return a\n",
    "    return gcd_rec(b,a%b)\n",
    "\n",
    "\n",
    "\n",
    "\n",
    "\n",
    "\n",
    "# print(gcd_iter1(35,70)) # worst\n",
    "# print(gcd_iter2(35,70)) # best\n",
    "# print(gcd_iter_euc(35,70)) # avg\n",
    "# print(gcd_rec(35,70)) #  best"
   ]
  },
  {
   "cell_type": "markdown",
   "id": "019ec8a3",
   "metadata": {},
   "source": [
    "### 6. LCM of two numbers\n"
   ]
  },
  {
   "cell_type": "code",
   "execution_count": 13,
   "id": "6eed0cb7",
   "metadata": {},
   "outputs": [],
   "source": [
    "def lcm_iter1(n,m):\n",
    "    a = n\n",
    "    b = m\n",
    "    while n!=m:\n",
    "        if n<m:\n",
    "            n+=a\n",
    "        else:\n",
    "            m+=b\n",
    "    return n\n",
    "\n",
    "def lcm_iter2(a,b):\n",
    "    res = max(a,b)\n",
    "    while res%a!=0 or res%b!=0:\n",
    "        res += max(a,b)\n",
    "    return res\n",
    "\n",
    "\n",
    "def lcm_formula(a,b): # using a*b = lcm(a,b) * gcd(a,b)\n",
    "    return a*b//gcd_rec(a,b)"
   ]
  },
  {
   "cell_type": "markdown",
   "id": "a485c09e",
   "metadata": {},
   "source": [
    "### 7. Check for Prime"
   ]
  },
  {
   "cell_type": "code",
   "execution_count": 9,
   "id": "b9887a61",
   "metadata": {},
   "outputs": [],
   "source": [
    "def isprime_bf(n):\n",
    "    if n == 1:\n",
    "        return False\n",
    "    for i in range(2,n):\n",
    "        if n%i==0:\n",
    "            return False\n",
    "    return True\n",
    "\n",
    "# isprime_bf(1)\n",
    "\n",
    "def isprime_better(n):\n",
    "    i = 2\n",
    "    while i*i <=n:\n",
    "        if n%i == 0:\n",
    "            return False\n",
    "        i+=1\n",
    "    return True\n",
    "\n",
    "# isprime_better(13)\n",
    "\n",
    "\n",
    "def isprime_best(n):\n",
    "    if n == 1:\n",
    "        return False\n",
    "    \n",
    "    if n == 2 or n==3:\n",
    "        return True \n",
    "    \n",
    "    if n %2 == 0 or n%3 == 0:\n",
    "        return False\n",
    "    i = 5\n",
    "    \n",
    "    while (i**2) < n:\n",
    "        if n%i == 0 or n%(i+2) == 0:\n",
    "            return False\n",
    "        i+=6\n",
    "    return True\n",
    "    \n",
    "    \n",
    "\n",
    "# isprime_best(1031)\n"
   ]
  },
  {
   "cell_type": "markdown",
   "id": "68670d9d",
   "metadata": {},
   "source": [
    "### Prime factorization"
   ]
  },
  {
   "cell_type": "code",
   "execution_count": 31,
   "id": "3ef19096",
   "metadata": {},
   "outputs": [],
   "source": [
    "def prime_factors(n):\n",
    "    for i in range(2,n+1):\n",
    "        if isprime_best(i):\n",
    "            x = i\n",
    "            while n%x == 0:\n",
    "                print(i)\n",
    "                x = x * i"
   ]
  },
  {
   "cell_type": "markdown",
   "id": "2213c8f9",
   "metadata": {},
   "source": [
    "### All divisors of a number"
   ]
  },
  {
   "cell_type": "code",
   "execution_count": 32,
   "id": "59b876b6",
   "metadata": {},
   "outputs": [],
   "source": [
    "def divisors_naive(n):\n",
    "    for i in range(1,n+1):\n",
    "        if n%i==0:\n",
    "            print(i)\n",
    "\n",
    "def divisors_better(n):\n",
    "    i = 1\n",
    "    while (i*i) <=n:\n",
    "        if n%i == 0:\n",
    "            print(i)\n",
    "            if i != n/i:\n",
    "                print(n//i)\n",
    "        i+=1\n",
    "\n",
    "\n",
    "    "
   ]
  },
  {
   "cell_type": "markdown",
   "id": "756bdbbf",
   "metadata": {},
   "source": [
    "### Sieve of Eratosthenes"
   ]
  },
  {
   "cell_type": "code",
   "execution_count": 40,
   "id": "9513ce09",
   "metadata": {},
   "outputs": [],
   "source": [
    "# Print all prime numbers upto n\n",
    "\n",
    "def primes_brute(n):\n",
    "    for i in range(2,n+1):\n",
    "        if isprime_best(i):\n",
    "            print(i)\n",
    "# primes_brute(100)\n",
    "\n",
    "def sieve_primes(n):\n",
    "    if n<=1:\n",
    "        return \n",
    "    isPrime = [True] * (n+1)\n",
    "    \n",
    "    i = 2\n",
    "    \n",
    "    while i*i<=n:\n",
    "        if isPrime[i]:\n",
    "            print(i)\n",
    "            for j in range(2*i,n+1,i):\n",
    "                isPrime[j] = False\n",
    "        \n",
    "        i+=1\n",
    "        \n",
    "    for i in range(2,n+1):\n",
    "        if isPrime[i]:\n",
    "            print(i)\n",
    "        \n",
    "# sieve_primes(100) "
   ]
  },
  {
   "cell_type": "markdown",
   "id": "733a2e15",
   "metadata": {},
   "source": [
    "### Computing power (exponent)"
   ]
  },
  {
   "cell_type": "code",
   "execution_count": 67,
   "id": "505a558d",
   "metadata": {},
   "outputs": [],
   "source": [
    "# print(pow(3,4)) # using in-built function\n",
    "# print(3**4)     # using operator\n",
    "\n",
    "def power_iter(x,n): # iteration method (isn't viable)\n",
    "    res = x\n",
    "    for i in range(n-1):\n",
    "        \n",
    "        res *= x \n",
    "    return res\n",
    "\n",
    "def power_rec(x,n):\n",
    "    if n==0:\n",
    "        return 1\n",
    "    temp = power_rec(x,n//2)\n",
    "    temp = temp * temp\n",
    "    if n%2 == 0:\n",
    "        return temp\n",
    "    else:\n",
    "        return temp*x"
   ]
  },
  {
   "cell_type": "markdown",
   "id": "d6ecfd7e",
   "metadata": {},
   "source": [
    "### Exactly 3 divisors"
   ]
  },
  {
   "cell_type": "markdown",
   "id": "4db6ad65",
   "metadata": {},
   "source": [
    "\n",
    "Given a positive integer value N. The task is to find how many numbers less than or equal to N have numbers of divisors exactly equal to 3."
   ]
  },
  {
   "cell_type": "code",
   "execution_count": 14,
   "id": "18d6b3f8",
   "metadata": {},
   "outputs": [],
   "source": [
    "def brute_force(n):\n",
    "    num_count = 0\n",
    "    for i in range(1,n+1):\n",
    "        divisor_count = 0\n",
    "        for j in range(1,i+1):\n",
    "            if divisor_count > 3:\n",
    "                break\n",
    "            if i%j == 0:\n",
    "                divisor_count += 1\n",
    "        if divisor_count == 3:\n",
    "            num_count += 1\n",
    "#             print(i)\n",
    "    return num_count\n",
    "\n",
    "\n",
    "def exactly_3(n): # the answers would always be the squares of prime numbers\n",
    "    \n",
    "    num_count = 0\n",
    "    i = 1\n",
    "    while i*i <= n:\n",
    "        if isprime_best(i):\n",
    "            num_count+=1\n",
    "#             print(i)\n",
    "        i+=1\n",
    "    return num_count"
   ]
  },
  {
   "cell_type": "code",
   "execution_count": null,
   "id": "edafc429",
   "metadata": {},
   "outputs": [],
   "source": []
  },
  {
   "cell_type": "code",
   "execution_count": 32,
   "id": "143b6f37",
   "metadata": {},
   "outputs": [],
   "source": [
    "import math\n",
    "def isprime_best(n):\n",
    "    i = 2\n",
    "    while i*i <=n:\n",
    "        if n%i == 0:\n",
    "            return False\n",
    "        i+=1\n",
    "    return True\n",
    "\n",
    "\n",
    "def exactly3Divisors(L,R):\n",
    "    num_count = 0\n",
    "\n",
    "    for i in range(L,R+1):\n",
    "        if math.sqrt(i)%1 == 0:\n",
    "            if isprime_best(math.sqrt(i)):\n",
    "                num_count+=1\n",
    "                print(i)\n",
    "        i+=1\n",
    "    return num_count"
   ]
  },
  {
   "cell_type": "markdown",
   "id": "0a139bf9",
   "metadata": {},
   "source": [
    "### Quadratic_roots"
   ]
  },
  {
   "cell_type": "markdown",
   "id": "b804ed6b",
   "metadata": {},
   "source": [
    "\n",
    "Given a quadratic equation in the form ax2 + bx + c. Find its roots.\n",
    "\n",
    "Note: Return the maximum root followed by the minimum root."
   ]
  },
  {
   "cell_type": "code",
   "execution_count": 57,
   "id": "4ce523b6",
   "metadata": {},
   "outputs": [],
   "source": [
    "def quadraticRoots(a, b, c):\n",
    "\t    \n",
    "\n",
    "\n",
    "        # calculating discriminant using formula\n",
    "        dis = b * b - 4 * a * c \n",
    "        sqrt_val = math.sqrt(abs(dis)) \n",
    "         \n",
    "        # checking condition for discriminant\n",
    "        if dis > 0: \n",
    "            return ((-b + sqrt_val)//(2 * a),(-b - sqrt_val)//(2 * a)) \n",
    "\n",
    "         \n",
    "        elif dis == 0: \n",
    "             \n",
    "            return (-b // (2 * a),-b // (2 * a)) "
   ]
  },
  {
   "cell_type": "code",
   "execution_count": 59,
   "id": "173d1979",
   "metadata": {},
   "outputs": [],
   "source": [
    "quadraticRoots(280 ,399 ,573)"
   ]
  },
  {
   "cell_type": "code",
   "execution_count": null,
   "id": "7c632483",
   "metadata": {},
   "outputs": [],
   "source": []
  }
 ],
 "metadata": {
  "kernelspec": {
   "display_name": "Python 3 (ipykernel)",
   "language": "python",
   "name": "python3"
  },
  "language_info": {
   "codemirror_mode": {
    "name": "ipython",
    "version": 3
   },
   "file_extension": ".py",
   "mimetype": "text/x-python",
   "name": "python",
   "nbconvert_exporter": "python",
   "pygments_lexer": "ipython3",
   "version": "3.11.2"
  }
 },
 "nbformat": 4,
 "nbformat_minor": 5
}
