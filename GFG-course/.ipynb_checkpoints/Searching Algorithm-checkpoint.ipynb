{
 "cells": [
  {
   "cell_type": "markdown",
   "id": "c6480c70",
   "metadata": {},
   "source": [
    "### Binary Search\n",
    "- Binary search is a highly efficient algorithm used to locate a specific element within a **sorted** collection, such as an array or a list. \n",
    "- The approach involves repeatedly dividing the search range in half, comparing the target element with the middle element, and narrowing down the search space until the desired element is found or the search interval becomes empty. \n",
    "- This logarithmic time complexity makes binary search significantly faster than linear search for large datasets, as it eliminates half of the remaining elements at each step, \n",
    "- leading to a time complexity of O(log n), where 'n' is the number of elements in the collection. \n",
    "- This algorithm is widely employed in various applications, including computer science, information retrieval, and numerical analysis."
   ]
  },
  {
   "cell_type": "markdown",
   "id": "d294d826",
   "metadata": {},
   "source": [
    "### Find an element in a sorted array\n",
    "Given an array arr[] sorted in ascending order of size N and an integer K. Check if K is present in the array or not."
   ]
  },
  {
   "cell_type": "code",
   "execution_count": 7,
   "id": "ebfb6aaf",
   "metadata": {},
   "outputs": [
    {
     "name": "stdout",
     "output_type": "stream",
     "text": [
      "0 4 2\n",
      "3 4 3\n",
      "4 4 4\n"
     ]
    },
    {
     "data": {
      "text/plain": [
       "-1"
      ]
     },
     "execution_count": 7,
     "metadata": {},
     "output_type": "execute_result"
    }
   ],
   "source": [
    "def searchInSorted(arr, N, k):\n",
    "    l = 0\n",
    "    r = N-1\n",
    "    while l<=r:\n",
    "        mid = (l+r)//2\n",
    "        # print(l,r,mid)\n",
    "        if k == arr[mid]:\n",
    "            return mid\n",
    "        if k<mid:\n",
    "            r = mid -1\n",
    "        elif k>mid:\n",
    "            l=mid+1\n",
    "    return -1\n",
    "searchInSorted([10,20,30,40,50],5,10)\n",
    "\n",
    "def binarySearchRecursion(target,arr):\n",
    "    if arr == []:\n",
    "        return False\n",
    "    mid = len(arr)//2\n",
    "    if target == arr[mid]:\n",
    "        return True\n",
    "\n",
    "    \n",
    "    if target<arr[mid]:\n",
    "        return binarySearchRecursion(target,arr[:mid])\n",
    "        \n",
    "    else target>arr[mid]:\n",
    "        return binarySearchRecursion(target,arr[mid+1:])\n"
   ]
  },
  {
   "cell_type": "markdown",
   "id": "e910b8c2",
   "metadata": {},
   "source": [
    "### Left Index\n",
    "Given a sorted array of integers of size N and a number X. Find the leftmost index of X in the array arr[].\n"
   ]
  },
  {
   "cell_type": "code",
   "execution_count": 45,
   "id": "40477574",
   "metadata": {},
   "outputs": [],
   "source": [
    "#User function Template for python3\n",
    "\n",
    "def leftIndex ( N, arr, X):\n",
    "    # code here \n",
    "    left, right = 0, N - 1\n",
    "    result = -1  # Initialize the result to -1 (not found)\n",
    "\n",
    "    while left <= right:\n",
    "        mid = left + (right - left) // 2\n",
    "\n",
    "        if arr[mid] == X:\n",
    "            # If the middle element is equal to X, update the result and search left\n",
    "            result = mid\n",
    "            right = mid - 1\n",
    "        elif arr[mid] < X:\n",
    "            # If the middle element is less than X, search right\n",
    "            left = mid + 1\n",
    "        else:\n",
    "            # If the middle element is greater than X, search left\n",
    "            right = mid - 1\n",
    "\n",
    "    return result\n",
    "\n",
    "\n"
   ]
  },
  {
   "cell_type": "markdown",
   "id": "dcc4ace7",
   "metadata": {},
   "source": [
    "### Binary Search using rec"
   ]
  },
  {
   "cell_type": "code",
   "execution_count": 76,
   "id": "c18158d4",
   "metadata": {},
   "outputs": [],
   "source": [
    "def binary_rec(arr,start,end,k):\n",
    "    if start > end:\n",
    "        return -1\n",
    "    mid = (start + end )//2\n",
    "\n",
    "    if arr[mid] == k:\n",
    "\n",
    "        return mid\n",
    "    \n",
    "    if arr[mid]<k:\n",
    "        \n",
    "        return binary_rec(arr,mid+1,end,k)\n",
    "        \n",
    "    else:\n",
    "        \n",
    "        return binary_rec(arr,start,mid-1,k)\n",
    "        "
   ]
  },
  {
   "cell_type": "markdown",
   "id": "d39634f5",
   "metadata": {},
   "source": [
    "### Peak element\n",
    "Given an 0-indexed array of integers arr[] of size n, find its peak element. An element is considered to be peak if it's value is greater than or equal to the values of its adjacent elements (if they exist).\n",
    "\n",
    "Note: The output will be 1 if the index returned by your function is correct; otherwise, it will be 0."
   ]
  },
  {
   "cell_type": "code",
   "execution_count": 79,
   "id": "c1e27260",
   "metadata": {},
   "outputs": [],
   "source": [
    "def peakElement(self,arr, n):\n",
    "        low = 0\n",
    "        high = n-1\n",
    "        while low <= high:\n",
    "            mid = (low + high) // 2\n",
    "    \n",
    "            if (mid == 0 or arr[mid - 1] <= arr[mid]) and (mid == len(arr) - 1 or arr[mid + 1] <= arr[mid]):\n",
    "                return mid  # Found a peak element\n",
    "    \n",
    "            if mid > 0 and arr[mid - 1] > arr[mid]:\n",
    "                high = mid - 1  # Search in the left subarray\n",
    "            else:\n",
    "                low = mid + 1   # Search in the right subarray\n",
    "    \n",
    "        return -1  # No peak element found\n"
   ]
  },
  {
   "cell_type": "markdown",
   "id": "759562ca",
   "metadata": {},
   "source": [
    "### Count Ones "
   ]
  },
  {
   "cell_type": "code",
   "execution_count": 85,
   "id": "06b9bb6b",
   "metadata": {},
   "outputs": [],
   "source": [
    "def countOnes(self,arr, N):\n",
    "        left, right = 0, N - 1\n",
    "        result = -1  # Initialize the result to -1 (not found)\n",
    "        X = 0\n",
    "        while left <= right:\n",
    "            mid = left + (right - left) // 2\n",
    "            print(mid)\n",
    "            if arr[mid] == X:\n",
    "                # If the middle element is equal to X, update the result and search left\n",
    "                result = mid\n",
    "                right = mid - 1\n",
    "            elif arr[mid] > X:\n",
    "                # If the middle element is less than X, search right\n",
    "                left = mid + 1\n",
    "            else:\n",
    "                # If the middle element is greater than X, search left\n",
    "                right = mid - 1\n",
    "    \n",
    "        return result"
   ]
  },
  {
   "cell_type": "markdown",
   "id": "d4205580",
   "metadata": {},
   "source": [
    "### Floor in a Sorted Array\n",
    "Given a sorted array arr[] of size N without duplicates, and given a value x. Floor of x is defined as the largest element K in arr[] such that K is smaller than or equal to x. Find the index of K(0-based indexing)."
   ]
  },
  {
   "cell_type": "code",
   "execution_count": 99,
   "id": "65c47986",
   "metadata": {},
   "outputs": [],
   "source": [
    "def findFloor(arr,N,k):\n",
    "        l = 0\n",
    "        r = N-1\n",
    "        res = -1\n",
    "        while l<=r:\n",
    "            mid = (l+r)//2\n",
    "            \n",
    "#             print(l,r,mid,res)\n",
    "            if k == arr[mid]:\n",
    "                return mid\n",
    "            elif k > arr[mid]:\n",
    "                l = mid +1\n",
    "                res = mid\n",
    "                \n",
    "                \n",
    "            else :\n",
    "                r=mid-1\n",
    "#             print(l,r,mid,res)\n",
    "                \n",
    "        return res\n",
    "                \n"
   ]
  }
 ],
 "metadata": {
  "kernelspec": {
   "display_name": "Python 3 (ipykernel)",
   "language": "python",
   "name": "python3"
  },
  "language_info": {
   "codemirror_mode": {
    "name": "ipython",
    "version": 3
   },
   "file_extension": ".py",
   "mimetype": "text/x-python",
   "name": "python",
   "nbconvert_exporter": "python",
   "pygments_lexer": "ipython3",
   "version": "3.12.3"
  }
 },
 "nbformat": 4,
 "nbformat_minor": 5
}
