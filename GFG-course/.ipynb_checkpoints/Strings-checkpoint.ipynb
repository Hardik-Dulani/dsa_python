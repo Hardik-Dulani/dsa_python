{
 "cells": [
  {
   "cell_type": "markdown",
   "id": "102b8b21",
   "metadata": {},
   "source": [
    "# Strings in Python\n",
    "\n",
    "### In Python, Strings are arrays of bytes representing Unicode characters.\n",
    "\n",
    "Example:\n",
    "- \"Geeksforgeeks\" or 'Geeksforgeeks'\n",
    "\n",
    "Python does not have a character data type, a single character is simply a string with a length of 1. Square brackets can be used to access elements of the string."
   ]
  },
  {
   "cell_type": "markdown",
   "id": "67bee226",
   "metadata": {},
   "source": [
    "### In Python, escape sequences are special characters used to represent characters that are difficult or impossible to type directly into a string. Here are some common escape sequences in Python:\n",
    "```\n",
    "- \\n: Represents a newline character.\n",
    "- \\t: Represents a tab character.\n",
    "- \\\\: Represents a backslash character.\n",
    "- \\': Represents a single quote character.\n",
    "- \\\": Represents a double quote character.\n",
    "```\n",
    "<br>\n",
    "\n",
    "Here's an example of using escape sequences in Python strings:"
   ]
  },
  {
   "cell_type": "code",
   "execution_count": 1,
   "id": "732d7c63",
   "metadata": {},
   "outputs": [
    {
     "name": "stdout",
     "output_type": "stream",
     "text": [
      "Hello\n",
      "world!\n",
      "This is a\ttab.\n",
      "A backslash: \\\n",
      "He said, \"Hello!\"\n"
     ]
    }
   ],
   "source": [
    "# Using escape sequences in a string\n",
    "print(\"Hello\\nworld!\")  # Output: Hello\n",
    "                         #         world!\n",
    "print(\"This is a\\ttab.\") # Output: This is a   tab.\n",
    "print(\"A backslash: \\\\\") # Output: A backslash: \\\n",
    "print(\"He said, \\\"Hello!\\\"\") # Output: He said, \"Hello!\"\n"
   ]
  },
  {
   "cell_type": "markdown",
   "id": "678b645a",
   "metadata": {},
   "source": [
    "### String formatting \n",
    "String formatting is the process of infusing things in the string dynamically and presenting the string. \n",
    "\n",
    "<br> \n",
    "\n",
    "\n",
    "#### There are four different ways to perform string formatting in Python:\n",
    "\n",
    "```\n",
    "Formatting with % Operator.\n",
    "Formatting with format() string method.\n",
    "Formatting with string literals, called f-strings.\n",
    "Formatting with String Template Class\n",
    "```\n",
    "\n",
    "So we will see the entirety of the above-mentioned ways, and we will also focus on which string formatting strategy is the best."
   ]
  },
  {
   "cell_type": "code",
   "execution_count": 2,
   "id": "4746d09f",
   "metadata": {},
   "outputs": [
    {
     "name": "stdout",
     "output_type": "stream",
     "text": [
      "Welcome ABC to the Python Course\n",
      "\n",
      "welcome ABC to the Python Course\n",
      "\n",
      "welcome ABC to the Python Course\n",
      "\n"
     ]
    }
   ],
   "source": [
    "name = \"ABC\"\n",
    "\n",
    "course = \"Python Course\"\n",
    "\n",
    "s = \"Welcome %s to the %s\"%(name,course)\n",
    "print(s)\n",
    "print()\n",
    "\n",
    "\n",
    "###########\n",
    "# using format function\n",
    "\n",
    "s = \"welcome {0} to the {1}\".format(name,course)\n",
    "print(s)\n",
    "print()\n",
    "\n",
    "\n",
    "############################\n",
    "# using f-string\n",
    "\n",
    "s = f\"welcome {name} to the {course}\"\n",
    "print(s)\n",
    "print()\n"
   ]
  },
  {
   "cell_type": "code",
   "execution_count": 3,
   "id": "69b6c433",
   "metadata": {},
   "outputs": [
    {
     "name": "stdout",
     "output_type": "stream",
     "text": [
      "sum of 10 and 20 is 30\n",
      "product of 10 and 20 is 200\n"
     ]
    }
   ],
   "source": [
    "a = 10\n",
    "b = 20\n",
    "\n",
    "print(f\"sum of {a} and {b} is {a + b}\")\n",
    "print(f\"product of {a} and {b} is {a * b}\")\n"
   ]
  },
  {
   "cell_type": "code",
   "execution_count": 4,
   "id": "2c708b4e",
   "metadata": {},
   "outputs": [
    {
     "name": "stdout",
     "output_type": "stream",
     "text": [
      "lower case of ABC is abc\n",
      "upper case of abc is ABC\n"
     ]
    }
   ],
   "source": [
    "s1  = \"ABC\"\n",
    "s2 = \"abc\"\n",
    "\n",
    "print(f\"lower case of {s1} is {s1.lower()}\")\n",
    "print(f\"upper case of {s2} is {s2.upper()}\")\n"
   ]
  },
  {
   "cell_type": "markdown",
   "id": "4d57b8a1",
   "metadata": {},
   "source": [
    "<br><br><br><br>"
   ]
  },
  {
   "cell_type": "markdown",
   "id": "499982bc",
   "metadata": {},
   "source": [
    "### String Comparison in Python\n",
    "\n",
    "1. Method : Using Relational Operators\n",
    "\n",
    "    The relational operators compare the Unicode values of the characters of the strings from the zeroth index till the end of the string. It then returns a boolean value according to the operator used.\n",
    "\n",
    "<br>\n",
    "\n",
    "    “Geek” == “Geek” will return True as the Unicode of all the characters are equal\n",
    "    In case of “Geek” and “geek” as the unicode of G is \\u0047 and of g is \\u0067\n",
    "    “Geek” < “geek” will return True and\n",
    "    “Geek” > “geek” will return False"
   ]
  },
  {
   "cell_type": "markdown",
   "id": "84dff334",
   "metadata": {},
   "source": [
    "### Membership Operator\n",
    "**Python offers two membership operators to check or validate the membership of a value. It tests for membership in a sequence, such as strings, lists, or tuples.**\n",
    "\n",
    "- **'in' operator:** The operator is used to check if a character/ substring/ element exists in a sequence or not. Evaluate to True if it finds the specified element in a sequence otherwise False.\n",
    "\n",
    "- **‘not in’ operator:** Evaluates to true if it does not finds a variable in the specified sequence and false otherwise."
   ]
  },
  {
   "cell_type": "markdown",
   "id": "934dc655",
   "metadata": {},
   "source": [
    "### String Concatenation using + Operator\n",
    "<br>\n",
    "It’s very easy to use the + operator for string concatenation. This operator can be used to add multiple strings together. However, the arguments must be a string. Here, The + Operator combines the string that is stored in the var1 and var2 and stores in another variable var3."
   ]
  },
  {
   "cell_type": "code",
   "execution_count": 8,
   "id": "1b99a756",
   "metadata": {},
   "outputs": [
    {
     "name": "stdout",
     "output_type": "stream",
     "text": [
      "geeksfor\n",
      "welcome to geeksfor\n"
     ]
    }
   ],
   "source": [
    "s1 = \"geeks\"\n",
    "s2 = \"for\"\n",
    "s3 = s1 + s2\n",
    "\n",
    "s4 = \"welcome to \" + s1 + s2\n",
    "\n",
    "print(s3)\n",
    "print(s4)\n"
   ]
  },
  {
   "cell_type": "code",
   "execution_count": 9,
   "id": "2f8a7a47",
   "metadata": {},
   "outputs": [
    {
     "name": "stdout",
     "output_type": "stream",
     "text": [
      "0\n",
      "8\n",
      "8\n"
     ]
    }
   ],
   "source": [
    "s1 = \"geeksforgeeks\"\n",
    "s2 = \"geeks\"\n",
    "\n",
    "print(s1.index(s2))\n",
    "print(s1.rindex(s2))        # right index\n",
    "print(s1.index(s2,1,13))    # start and end index\n"
   ]
  },
  {
   "cell_type": "markdown",
   "id": "a914306c",
   "metadata": {},
   "source": [
    "### What is isupper() in Python\n",
    "\n",
    "<br>\n",
    "\n",
    "**In Python, isupper() is a built-in method used for string handling. This method returns True if all characters in the string are uppercase, otherwise, returns “False”.**\n",
    "<br>\n",
    " \n",
    "<br>\n",
    "\n",
    "- It returns “True” for whitespaces but if there is only whitespace in the string then returns “False”.\n",
    "<br>\n",
    "\n",
    "- It does not take any arguments, Therefore, It returns an error if a parameter is passed.\n",
    "<br>\n",
    "\n",
    "- Digits and symbols return “True” but if the string contains only digits and numbers then returns “False”\n",
    "\n",
    "<br>\n",
    "<br>\n",
    "\n",
    "### What is islower() in Python\n",
    "**In Python, islower() is a built-in method used for string handling.**\n",
    "<br>\n",
    "\n",
    "**The islower() method returns True if all characters in the string are lowercase, otherwise, returns “False”.** \n",
    "\n",
    "- It returns “True” for whitespaces but if there is only whitespace in the string then returns “False”.\n",
    "- It does not take any arguments, Therefore, It returns an error if a parameter is passed.\n",
    "- Digits and symbols return “True” but if the string contains only digits and numbers then returns “False”."
   ]
  },
  {
   "cell_type": "markdown",
   "id": "bac9c4f0",
   "metadata": {},
   "source": [
    "### Python library provides a number of built in methods, one such being startswith() and endswith() function which used in string related operations.\n",
    "\n",
    "**startswith() function**\n",
    "- it is used to check whether a given Sentence starts with some particular string.\n",
    "- Start and end parameter are optional.\n",
    "- We may use them when we want only some particular substring of the original string to be considered for searching\n",
    " \n",
    "\n",
    "**endswith() function**\n",
    "- it is used to check whether a given Sentence ends with some particular string.\n",
    "- Start and end parameter are optional.\n",
    "- We may use them when we want only some particular substring of the original string to be considered for searching."
   ]
  },
  {
   "cell_type": "markdown",
   "id": "574a09c8",
   "metadata": {},
   "source": [
    "### Reverse A String in Python\n",
    "\n",
    "- Python string library doesn’t support the in-built “reverse()” as done by other python containers like list,\n",
    "- hence knowing other methods to reverse string can prove to be useful.\n"
   ]
  },
  {
   "cell_type": "code",
   "execution_count": 68,
   "id": "5382bd0f",
   "metadata": {},
   "outputs": [
    {
     "name": "stdout",
     "output_type": "stream",
     "text": [
      "The original string is :  Hardik\n",
      "The reversed string(using loops) is :  kidraH\n"
     ]
    }
   ],
   "source": [
    "def reverse(s):\n",
    "    str = \"\"\n",
    "    for i in s:\n",
    "#         print(i,str)\n",
    "        str = i + str\n",
    "    return str\n",
    "  \n",
    "s = \"Hardik\"\n",
    "  \n",
    "print(\"The original string is : \",s)\n",
    "\n",
    "  \n",
    "print(\"The reversed string(using loops) is : \",reverse(s))\n",
    "\n"
   ]
  },
  {
   "cell_type": "markdown",
   "id": "56f061a3",
   "metadata": {},
   "source": [
    "### Check if string is rotated"
   ]
  },
  {
   "cell_type": "code",
   "execution_count": 77,
   "id": "f4b8fae7",
   "metadata": {},
   "outputs": [
    {
     "name": "stdout",
     "output_type": "stream",
     "text": [
      "True\n"
     ]
    }
   ],
   "source": [
    "def arerotations(s1,s2) :\n",
    "    if len(s1) != len(s2) :\n",
    "        return False\n",
    "    temp = s1 + s1 \n",
    "    return temp.find(s2)!= -1 \n",
    "    \n",
    "    \n",
    "s1 = \"gagan\"\n",
    "s2 = \"agang\"\n",
    "\n",
    "print(arerotations(s1,s2))"
   ]
  },
  {
   "cell_type": "markdown",
   "id": "ce898525",
   "metadata": {},
   "source": [
    "### Check For Palindrome In Python\n",
    "\n",
    "Given a string, write a python function to check if it is palindrome or not. A string is said to be palindrome if the reverse of the string is the same as string. For example, “radar” is a palindrome, but “radix” is not a palindrome."
   ]
  },
  {
   "cell_type": "code",
   "execution_count": 78,
   "id": "7ce3181f",
   "metadata": {},
   "outputs": [
    {
     "name": "stdout",
     "output_type": "stream",
     "text": [
      "Yes\n"
     ]
    }
   ],
   "source": [
    "# function which return reverse of a string\n",
    " \n",
    "def isPalindrome(s):\n",
    "    return s == s[::-1]\n",
    " \n",
    " \n",
    "# Driver code\n",
    "s = \"malayalam\"\n",
    "ans = isPalindrome(s)\n",
    " \n",
    "if ans:\n",
    "    print(\"Yes\")\n",
    "else:\n",
    "    print(\"No\")\n"
   ]
  },
  {
   "cell_type": "markdown",
   "id": "7bbffedc",
   "metadata": {},
   "source": [
    "\n",
    "### Check whether two Strings are anagram of each other\n",
    "\n",
    " \n",
    "\n",
    "Given two strings. The task is to check whether given strings are anagrams of each other or not. \n",
    "\n",
    "An anagram of a string is another string that contains the same characters, only the order of characters can be different. For example, “abcd” and “dabc” are an anagram of each other."
   ]
  },
  {
   "cell_type": "code",
   "execution_count": 80,
   "id": "57832a03",
   "metadata": {},
   "outputs": [],
   "source": [
    "\n",
    "def areAnagram(s1,s2):\n",
    "    if len(s1) != len(s2):\n",
    "        return False\n",
    "    count=[0]*256\n",
    "    for i in range(len(s1)):\n",
    "        count[ord(s1[i])]+=1\n",
    "        count[ord(s2[i])]-=1\n",
    "    for x in count:\n",
    "        if x!=0:\n",
    "            return False\n",
    "    return True\n"
   ]
  },
  {
   "cell_type": "markdown",
   "id": "fc7ead03",
   "metadata": {},
   "source": [
    "\n",
    "### Reverse words in a given string\n",
    "\n",
    "Let the input string be “i like this program very much”. The function should change the string to “much very program this like i”"
   ]
  },
  {
   "cell_type": "code",
   "execution_count": 84,
   "id": "b3c943ec",
   "metadata": {},
   "outputs": [
    {
     "name": "stdout",
     "output_type": "stream",
     "text": [
      "['i', 'like', 'this', 'program', 'very', 'much']\n"
     ]
    },
    {
     "data": {
      "text/plain": [
       "['much', 'very', 'program', 'this', 'like', 'i']"
      ]
     },
     "execution_count": 84,
     "metadata": {},
     "output_type": "execute_result"
    }
   ],
   "source": [
    "def rev_words(s):\n",
    "    temp = s.split()\n",
    "    print(temp)\n",
    "    return temp[::-1]\n",
    "S = \"i like this program very much\"\n",
    "rev_words(S)"
   ]
  },
  {
   "cell_type": "markdown",
   "id": "a9f1089d",
   "metadata": {},
   "source": [
    "### Check the subsequence"
   ]
  },
  {
   "cell_type": "code",
   "execution_count": 98,
   "id": "4ccbe2cc",
   "metadata": {},
   "outputs": [
    {
     "data": {
      "text/plain": [
       "True"
      ]
     },
     "execution_count": 98,
     "metadata": {},
     "output_type": "execute_result"
    }
   ],
   "source": [
    "def isSubSeq(s,sub):\n",
    "    \n",
    "    if len(s)<len(sub):\n",
    "        return False\n",
    "    \n",
    "    i = 0\n",
    "    j = 0\n",
    "    \n",
    "    while i<len(s) and j < len(sub):\n",
    "        \n",
    "        if s[i] == sub[j]:\n",
    "            i+=1\n",
    "            j+=1\n",
    "        else:\n",
    "            i+=1\n",
    "\n",
    "            \n",
    "    if j == len(sub):\n",
    "        return True\n",
    "    \n",
    "    return False\n",
    "\n",
    "\n",
    "isSubSeq('abcd','ad')"
   ]
  },
  {
   "cell_type": "markdown",
   "id": "6dd2c54a",
   "metadata": {},
   "source": [
    "### Leftmost Repeating Character"
   ]
  },
  {
   "cell_type": "code",
   "execution_count": 107,
   "id": "b7bcd2be",
   "metadata": {},
   "outputs": [],
   "source": [
    "def leftmost(st) :\n",
    "    for i in range(len(st)) :\n",
    "        for j in range(i+1 , len(st)) :\n",
    "            if st[i] == st[j] :\n",
    "                return i \n",
    "            \n",
    "    return -1 \n",
    "    \n",
    "# st = \"cabba\"\n",
    "# print(leftmost(st))\n",
    "\n",
    "\n",
    "CHAR = 256 \n",
    "def leftmost(st) :\n",
    "    count = [0] * CHAR \n",
    "    for i in range(len(st)) :\n",
    "        count[ord(st[i])] += 1 \n",
    "    for i in range(len(st)) :\n",
    "        if count[ord(st[i])] > 1 :\n",
    "            return i \n",
    "    return -1 \n",
    "    \n",
    " \n",
    "# st = \"abccbd\"  \n",
    "# print(leftmost(st))\n",
    "\n",
    "\n",
    "CHAR = 256\n",
    "def leftmost(st) :\n",
    "    vis = [False] * CHAR\n",
    "    res = -1\n",
    "    for i in range(len(st)-1,-1,-1) :\n",
    "        if (vis[ord(st[i])]==True) :\n",
    "            res = i\n",
    "        else :\n",
    "            vis[ord(st[i])] = True\n",
    "    \n",
    "    return res\n",
    "\n"
   ]
  },
  {
   "cell_type": "code",
   "execution_count": null,
   "id": "2dc70542",
   "metadata": {},
   "outputs": [],
   "source": []
  }
 ],
 "metadata": {
  "kernelspec": {
   "display_name": "Python 3 (ipykernel)",
   "language": "python",
   "name": "python3"
  },
  "language_info": {
   "codemirror_mode": {
    "name": "ipython",
    "version": 3
   },
   "file_extension": ".py",
   "mimetype": "text/x-python",
   "name": "python",
   "nbconvert_exporter": "python",
   "pygments_lexer": "ipython3",
   "version": "3.11.2"
  }
 },
 "nbformat": 4,
 "nbformat_minor": 5
}
