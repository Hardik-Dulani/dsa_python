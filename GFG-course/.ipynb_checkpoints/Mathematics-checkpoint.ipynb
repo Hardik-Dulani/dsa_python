{
 "cells": [
  {
   "cell_type": "markdown",
   "id": "f7a29720",
   "metadata": {},
   "source": [
    "## Mathematics and some common problems "
   ]
  },
  {
   "cell_type": "markdown",
   "id": "1362ec12",
   "metadata": {},
   "source": [
    "### 1. Sum of N natural numbers"
   ]
  },
  {
   "cell_type": "code",
   "execution_count": 3,
   "id": "1484f112",
   "metadata": {},
   "outputs": [],
   "source": [
    "def sum_n_natural(n):\n",
    "    return (n*(n+1))//2\n",
    "# sum_n_natural(10)"
   ]
  },
  {
   "cell_type": "markdown",
   "id": "066afa83",
   "metadata": {},
   "source": [
    "### 2. Count the number of digits"
   ]
  },
  {
   "cell_type": "code",
   "execution_count": 29,
   "id": "f10f7e31",
   "metadata": {},
   "outputs": [],
   "source": [
    "def count_digits(n):\n",
    "    digits = 0\n",
    "    while n>0:\n",
    "        digits+=1\n",
    "        n//=10\n",
    "#         print(n)\n",
    "    return digits\n",
    "# count_digits(100)\n",
    "# count_digits(313734)"
   ]
  },
  {
   "cell_type": "markdown",
   "id": "5d0001b6",
   "metadata": {},
   "source": [
    "### 3. Palindrome number"
   ]
  },
  {
   "cell_type": "code",
   "execution_count": 28,
   "id": "39c37eab",
   "metadata": {},
   "outputs": [],
   "source": [
    "def palindrome_num(n):\n",
    "    temp = n\n",
    "    a = 0\n",
    "    while n!=0:\n",
    "        a*=10\n",
    "        a+= n%10\n",
    "        n//=10\n",
    "    if a == temp:\n",
    "        return True\n",
    "    return False\n",
    "# palindrome_num(789987)"
   ]
  },
  {
   "cell_type": "markdown",
   "id": "5b259705",
   "metadata": {},
   "source": [
    "### 4. Factorial of a number\n"
   ]
  },
  {
   "cell_type": "code",
   "execution_count": 27,
   "id": "642728e7",
   "metadata": {},
   "outputs": [],
   "source": [
    "def factorial(n):\n",
    "    res = 1\n",
    "    for i in range(2,n+1):\n",
    "        res*=i\n",
    "    return res\n",
    "# factorial(5)\n",
    "\n",
    "def factorial_rec(n):\n",
    "    \n",
    "    if n == 0:\n",
    "        return 1\n",
    "    \n",
    "    return n* factorial_rec(n-1)\n",
    "# factorial_rec(5)"
   ]
  },
  {
   "cell_type": "markdown",
   "id": "80ff1d50",
   "metadata": {},
   "source": [
    "### 5. GCD or HCF of a number"
   ]
  },
  {
   "cell_type": "code",
   "execution_count": 117,
   "id": "ba4f2b66",
   "metadata": {},
   "outputs": [],
   "source": [
    "def gcd_iter1(a,b):\n",
    "    n =  min(a,b)\n",
    "    for i in range(1,n+1):\n",
    "        if a%i == 0 and b%i==0:\n",
    "            ans = i\n",
    "    return ans\n",
    "\n",
    "\n",
    "def gcd_iter_euc(a,b):\n",
    "    while a!=b:\n",
    "        if a > b:\n",
    "            a = a - b\n",
    "        else:\n",
    "            b = b - a\n",
    "    return a\n",
    "\n",
    "def gcd_iter2(a,b): # MY CODE\n",
    "    n = min(a,b)\n",
    "    m = max(a,b)\n",
    "    i = 2\n",
    "    res = 1\n",
    "    while n!= 1 and i<=n:\n",
    "        if n%i == 0 and m%i == 0:\n",
    "            n//=i\n",
    "            m//=i\n",
    "            res *= i\n",
    "        else:\n",
    "            i+=1\n",
    "    return res\n",
    "\n",
    "\n",
    "def gcd_rec(a,b):\n",
    "    if b == 0:\n",
    "        return a\n",
    "    return gcd_rec(b,a%b)\n",
    "\n",
    "\n",
    "\n",
    "\n",
    "\n",
    "\n",
    "# print(gcd_iter1(35,70)) # worst\n",
    "# print(gcd_iter2(35,70)) # best\n",
    "# print(gcd_iter_euc(35,70)) # avg\n",
    "# print(gcd_rec(35,70)) #  best"
   ]
  },
  {
   "cell_type": "markdown",
   "id": "50046eee",
   "metadata": {},
   "source": [
    "### 6. LCM of two numbers\n"
   ]
  },
  {
   "cell_type": "code",
   "execution_count": 141,
   "id": "8dc52d4e",
   "metadata": {},
   "outputs": [],
   "source": [
    "def lcm_iter1(n,m):\n",
    "    a = n\n",
    "    b = m\n",
    "    while n!=m:\n",
    "        if n<m:\n",
    "            n+=a\n",
    "        else:\n",
    "            m+=b\n",
    "    return n\n",
    "\n",
    "def lcm_iter2(a,b):\n",
    "    res = max(a,b)\n",
    "    while res%a!=0 or res%b!=0:\n",
    "        res += max(a,b)\n",
    "    return res\n",
    "\n",
    "\n",
    "def lcm_formula(a,b): # using a*b = lcm(a,b) * gcd(a,b)\n",
    "    return a*b//gcd_rec(a,b)"
   ]
  },
  {
   "cell_type": "markdown",
   "id": "f45e62e5",
   "metadata": {},
   "source": [
    "### 7. Check for Prime"
   ]
  },
  {
   "cell_type": "code",
   "execution_count": 147,
   "id": "a230ca7f",
   "metadata": {},
   "outputs": [
    {
     "data": {
      "text/plain": [
       "True"
      ]
     },
     "execution_count": 147,
     "metadata": {},
     "output_type": "execute_result"
    }
   ],
   "source": [
    "def prime_bf(n):\n",
    "    for i in range(2,n):\n",
    "        if n%i==0:\n",
    "            return False\n",
    "    return True\n",
    "prime_bf(59)"
   ]
  },
  {
   "cell_type": "code",
   "execution_count": null,
   "id": "118e76fb",
   "metadata": {},
   "outputs": [],
   "source": []
  }
 ],
 "metadata": {
  "kernelspec": {
   "display_name": "Python 3 (ipykernel)",
   "language": "python",
   "name": "python3"
  },
  "language_info": {
   "codemirror_mode": {
    "name": "ipython",
    "version": 3
   },
   "file_extension": ".py",
   "mimetype": "text/x-python",
   "name": "python",
   "nbconvert_exporter": "python",
   "pygments_lexer": "ipython3",
   "version": "3.11.2"
  }
 },
 "nbformat": 4,
 "nbformat_minor": 5
}
