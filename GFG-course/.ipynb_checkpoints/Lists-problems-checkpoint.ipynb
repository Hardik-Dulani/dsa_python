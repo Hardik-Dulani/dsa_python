{
 "cells": [
  {
   "cell_type": "markdown",
   "id": "3556288e",
   "metadata": {},
   "source": [
    "### Get Index\n",
    "You are given an array arr(0-based indexing). The size of the array is given by n. You need to get the element at index i and return it. If no element exists at i then return -1."
   ]
  },
  {
   "cell_type": "code",
   "execution_count": 1,
   "id": "91a0808f",
   "metadata": {},
   "outputs": [],
   "source": [
    "#User function Template for python3\n",
    "\n",
    "def getByIndex(arr,n,idx):\n",
    "    # return required ans\n",
    "    if idx<n:\n",
    "        return arr[idx]\n",
    "    return -1\n",
    "\n"
   ]
  },
  {
   "cell_type": "markdown",
   "id": "07e767f5",
   "metadata": {},
   "source": [
    "### Array insert at end\n",
    "Insertion is a basic but frequently used operation. Arrays in most languages can not be dynamically shrinked or expanded. Here, we will work with such arrays and try to insert an element at the end of the array.\n",
    "\n",
    "You are given an array arr. The size of the array is given by sizeOfArray. You need to insert an element at the end.\n",
    "Array already have the sizeofarray -1 elements."
   ]
  },
  {
   "cell_type": "code",
   "execution_count": 2,
   "id": "df84bec1",
   "metadata": {},
   "outputs": [],
   "source": [
    "# You only need to insert the given element at \n",
    "# the end, i.e., at index sizeOfArray - 1. You may \n",
    "# assume that the array already has sizeOfArray - 1\n",
    "# elements. \n",
    "def insertAtEnd(arr,sizeOfArray,element):\n",
    "    arr.append(element)\n",
    "    return arr"
   ]
  },
  {
   "cell_type": "markdown",
   "id": "2c90a424",
   "metadata": {},
   "source": [
    "### Array insert at index\n",
    "\n",
    "Insertion is a basic but frequently used operation. Arrays in most languages cannnot be dynamically shrinked or expanded. Here, we will work with such arrays and try to insert an element at some index.\n",
    "\n",
    "You are given an array arr(0-based index). The size of the array is given by sizeOfArray. You need to insert an element at given index."
   ]
  },
  {
   "cell_type": "code",
   "execution_count": 3,
   "id": "cbfa6517",
   "metadata": {},
   "outputs": [],
   "source": [
    "#User function Template for python3\n",
    "\n",
    "class Solution:\n",
    "    '''You need to insert the given element at the given index. \n",
    "    After inserting the elements at index, elements\n",
    "    from index onward should be shifted one position ahead\n",
    "     You may assume that the array already has sizeOfArray - 1\n",
    "    elements.'''\n",
    "    \n",
    "    def insertAtIndex(self, arr, sizeOfArray, index, element):\n",
    "        arr.insert(index,element)\n",
    "        return arr"
   ]
  },
  {
   "cell_type": "markdown",
   "id": "1c5ef52d",
   "metadata": {},
   "source": [
    "### Array Update At Index\n",
    "\n",
    "You are given an array arr(0-based indexing). The size of the array is given by n. You need to update an element at the given index. The arr[i] of the array is initially set to i+1.\n",
    "\n",
    "NOTE THAT: You only have to update elements, you don't need to print or return anything. `"
   ]
  },
  {
   "cell_type": "code",
   "execution_count": 4,
   "id": "5e80e04f",
   "metadata": {},
   "outputs": [],
   "source": [
    "def updateArray(arr,n,idx,element):\n",
    "    arr[idx] = element\n"
   ]
  },
  {
   "cell_type": "markdown",
   "id": "eccb0227",
   "metadata": {},
   "source": [
    "### Mean And Median of Array\n",
    "Given an array a[ ] of size N. The task is to find the median and mean of the array elements. Mean is average of the numbers and median is the element which is smaller than half of the elements and greater than remaining half.  If there are odd elements, the median is simply the middle element in the sorted array. If there are even elements, then the median is floor of average of two middle numbers in the sorted array. If mean is floating point number, then we need to print floor of it.\n",
    "\n",
    "Note: To find the median, you might need to sort the array. Since sorting is covered in later tracks, we have already provided the sort function to you in the code."
   ]
  },
  {
   "cell_type": "code",
   "execution_count": 7,
   "id": "a15fe66d",
   "metadata": {},
   "outputs": [],
   "source": [
    "def median(self,A,N):\n",
    "        \n",
    "        A.sort()\n",
    "        mid = (len(A)-1) //2 \n",
    "        ##Your code here\n",
    "        #If median is fraction then convert the median to integer and return\n",
    "        return A[mid]\n",
    "#Function to find mean of the array elements.   \n",
    "def mean(self,A,N):\n",
    "    sum1 = 0\n",
    "    for i in A:\n",
    "        sum1+=i\n",
    "    return sum1//len(A)"
   ]
  },
  {
   "cell_type": "markdown",
   "id": "09e834ae",
   "metadata": {},
   "source": [
    "### Count Smaller Than X\n",
    "\n",
    "Given an unsorted array arr[] of size N containing non-negative integers. You will also be given an integer X, the task is to count the number of elements which are strictly smaller than X. The given integer may or not be present in the array given."
   ]
  },
  {
   "cell_type": "code",
   "execution_count": 8,
   "id": "ef591e99",
   "metadata": {},
   "outputs": [],
   "source": [
    "def smallerThanX(self,arr,n,x):\n",
    "        count1 = 0\n",
    "        for i in arr:\n",
    "            if i < x:\n",
    "                count1 += 1\n",
    "\n",
    "        return count1\n"
   ]
  },
  {
   "cell_type": "markdown",
   "id": "29f2558d",
   "metadata": {},
   "source": [
    "### Find Immediate Smaller Than X\n",
    "Given an array arr[] of size N containing positive integers and an integer X, find the element in the array which is smaller than X and closest to it.\n",
    "\n",
    " "
   ]
  },
  {
   "cell_type": "code",
   "execution_count": 9,
   "id": "0c260bed",
   "metadata": {},
   "outputs": [],
   "source": [
    "def immediateSmaller(self,arr,n,x):\n",
    "        res = -1\n",
    "        for i in arr:\n",
    "            if i<x:\n",
    "                if i>res:\n",
    "                    res = i\n",
    "                    print(i)\n",
    "        return res"
   ]
  },
  {
   "cell_type": "markdown",
   "id": "1f9dec56",
   "metadata": {},
   "source": [
    "### Find Immediate Greater Than X\n",
    "Given an array arr[] of size N containing positive integers and an integer X. You need to find the value in the array which is greater than X and closest to it. ( if no such value exists the answer should be -1)"
   ]
  },
  {
   "cell_type": "code",
   "execution_count": 10,
   "id": "b891b90f",
   "metadata": {},
   "outputs": [],
   "source": [
    "\n",
    "def immediateGreater(self,arr,n,x):\n",
    "    #return required ans\n",
    "\n",
    "    #code here\n",
    "    greater = -1\n",
    "\n",
    "    for num in arr:\n",
    "        if num > x and (greater == -1 or num<greater):\n",
    "            greater = num\n",
    "\n",
    "    return greater\n"
   ]
  },
  {
   "cell_type": "markdown",
   "id": "9133ea72",
   "metadata": {},
   "source": [
    "### Who has the majority?\n",
    "\n",
    "Given an array arr[] of size N and two elements x and y, use counter variables to find which element appears most in the array. If both elements have the same frequency, then return the smaller element.\n",
    "Note:  We need to return the element, not its count."
   ]
  },
  {
   "cell_type": "code",
   "execution_count": 11,
   "id": "41ea95bc",
   "metadata": {},
   "outputs": [],
   "source": [
    "#User function Template for python3\n",
    "\n",
    "#Function to find element with more appearances between two elements in an array.    \n",
    "def majorityWins(self, arr, n, x, y):\n",
    "    count_x = 0\n",
    "    count_y = 0\n",
    "    for i in arr:\n",
    "        if i == x:\n",
    "            count_x += 1\n",
    "        elif i == y:\n",
    "            count_y += 1\n",
    "    if count_x == count_y:\n",
    "        return min(x,y)\n",
    "    elif count_x > count_y :\n",
    "        return x\n",
    "    return y"
   ]
  },
  {
   "cell_type": "markdown",
   "id": "0f8940fb",
   "metadata": {},
   "source": [
    "### Maximum and Minimum In Array\n",
    "Given an array arr of size n, find maximum and minimum elements in the array."
   ]
  },
  {
   "cell_type": "code",
   "execution_count": 12,
   "id": "7341c83c",
   "metadata": {},
   "outputs": [],
   "source": [
    "#User function Template for python3\n",
    "\n",
    "# inf has been imported in driver code\n",
    "\n",
    "def maximumElement(arr,n):\n",
    "    maxi = arr[0]\n",
    "    for i in arr:\n",
    "        if i>maxi:\n",
    "            maxi = i\n",
    "    return maxi\n",
    "\n",
    "\n",
    "\n",
    "def minimumElement(arr,n):\n",
    "    mini = arr[0]\n",
    "    for i in arr:\n",
    "        if i<mini:\n",
    "            mini = i\n",
    "    return mini\n"
   ]
  },
  {
   "cell_type": "markdown",
   "id": "06fcca85",
   "metadata": {},
   "source": [
    "### Is Array Sorted\n",
    "Given an array a[ ] of size N. The task is to check if array is sorted or not. A sorted array can either be increasingly sorted or decreasingly sorted. Also consider duplicate elements to be sorted"
   ]
  },
  {
   "cell_type": "code",
   "execution_count": 24,
   "id": "3b58e973",
   "metadata": {},
   "outputs": [],
   "source": [
    "def isSorted(arr,n):\n",
    "    \n",
    "    if n <= 1:\n",
    "        return 1\n",
    "\n",
    "    asc = 0\n",
    "    desc = 0\n",
    "    \n",
    "    for i in range(1,n):\n",
    "        \n",
    "        if arr[i] >= arr[i-1]:\n",
    "            asc += 1\n",
    "        \n",
    "        if arr[i] <= arr[i-1]:\n",
    "            desc += 1\n",
    "        \n",
    "        \n",
    "    if asc == n-1 or desc == n-1:        \n",
    "        return 1\n",
    "\n",
    "    return 0"
   ]
  },
  {
   "cell_type": "code",
   "execution_count": 25,
   "id": "82f7cf57",
   "metadata": {},
   "outputs": [
    {
     "data": {
      "text/plain": [
       "1"
      ]
     },
     "execution_count": 25,
     "metadata": {},
     "output_type": "execute_result"
    }
   ],
   "source": [
    "isSorted([40, 39, 39, 38, 37],5)"
   ]
  },
  {
   "cell_type": "markdown",
   "id": "cc1d57c5",
   "metadata": {},
   "source": [
    "### Reverse The Array\n",
    "\n",
    "Given an array arr of size n. You need to reverse the array."
   ]
  },
  {
   "cell_type": "code",
   "execution_count": null,
   "id": "aa2ee9ba",
   "metadata": {},
   "outputs": [],
   "source": [
    "#User function Template for python3\n",
    "\n",
    "def reverseArray(arr,n):\n",
    "    l = 0\n",
    "    r = n-1\n",
    "    \n",
    "    while l<=r:\n",
    "        arr[l],arr[r] = arr[r],arr[l]\n",
    "        l+=1\n",
    "        r-=1\n",
    "    return arr\n",
    "    #code here\n",
    "\n"
   ]
  },
  {
   "cell_type": "markdown",
   "id": "be082ea4",
   "metadata": {},
   "source": []
  }
 ],
 "metadata": {
  "kernelspec": {
   "display_name": "Python 3 (ipykernel)",
   "language": "python",
   "name": "python3"
  },
  "language_info": {
   "codemirror_mode": {
    "name": "ipython",
    "version": 3
   },
   "file_extension": ".py",
   "mimetype": "text/x-python",
   "name": "python",
   "nbconvert_exporter": "python",
   "pygments_lexer": "ipython3",
   "version": "3.11.2"
  }
 },
 "nbformat": 4,
 "nbformat_minor": 5
}
