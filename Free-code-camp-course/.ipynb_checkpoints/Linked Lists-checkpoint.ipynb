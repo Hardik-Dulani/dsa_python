{
 "cells": [
  {
   "cell_type": "code",
   "execution_count": null,
   "id": "08cb4e2e",
   "metadata": {},
   "outputs": [],
   "source": [
    "class Node:\n",
    "    def (self, data=None, next-None):\n",
    "        self.data = data\n",
    "        self.next = next\n",
    "        \n",
    "        \n",
    "class LinkedList:\n",
    "    def (self):\n",
    "        self.head = None\n",
    "        \n",
    "    def insert_at_begining (self, data):\n",
    "        node = Node(data, self.head)\n",
    "        self.head = node\n",
    "        \n",
    "    def print (self):\n",
    "        if self.head is None:\n",
    "            print(\"Linked list is empty\")\n",
    "            return\n",
    "        itr = self.head\n",
    "        while itr:\n",
    "            itr = itr.next"
   ]
  }
 ],
 "metadata": {
  "kernelspec": {
   "display_name": "Python 3 (ipykernel)",
   "language": "python",
   "name": "python3"
  },
  "language_info": {
   "codemirror_mode": {
    "name": "ipython",
    "version": 3
   },
   "file_extension": ".py",
   "mimetype": "text/x-python",
   "name": "python",
   "nbconvert_exporter": "python",
   "pygments_lexer": "ipython3",
   "version": "3.11.2"
  }
 },
 "nbformat": 4,
 "nbformat_minor": 5
}
