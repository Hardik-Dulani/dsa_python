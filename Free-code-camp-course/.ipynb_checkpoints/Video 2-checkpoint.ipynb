{
 "cells": [
  {
   "cell_type": "markdown",
   "id": "179826e4",
   "metadata": {},
   "source": [
    "## Binary Search Trees - Traversal and Balaning"
   ]
  },
  {
   "cell_type": "markdown",
   "id": "04e6a824",
   "metadata": {},
   "source": [
    "#### A Binary Search Tree (BST) is a binary tree data structure with the following properties:\n",
    "<br><br>\n",
    "**Binary Tree Structure:** Each node in a BST has at most two children, referred to as the left child and the right child.\n",
    "<br><br>\n",
    "**Ordered Property:** For every node n, all nodes in its left subtree have values less than n, <br>and all nodes in its right subtree have values greater than n.<br> This property ensures that the BST is ordered, making it efficient for searching.\n",
    "<br><br>\n",
    "The structure of a BST allows for efficient searching, insertion, and deletion operations. Here's a brief overview of these operations:\n",
    "<br><br>\n",
    "**Search:** To search for a specific value in a BST, you compare the target value with the value at the current node. \n",
    "* If the target is equal to the current node's value, you've found the node.\n",
    "* If the target is less than the current node's value, you search in the left subtree; \n",
    "* if it's greater, you search in the right subtree. \n",
    "<br>\n",
    "This process continues until the target is found or you reach a null (empty) node.\n",
    "<br><br>\n",
    "\n",
    "**Insertion:**\n",
    "To insert a new value into the BST, \n",
    "* you start at the root and traverse the tree based on the comparison of values.\n",
    "* When you find an empty spot (a null node) where the new value should be, you insert the new node there.\n",
    "<br><br>\n",
    "\n",
    "**Deletion:** Deleting a node from a BST involves finding the node to be deleted and then handling three cases:\n",
    "<br>\n",
    "* If the node has no children, simply remove it.\n",
    "* If the node has one child, replace the node with its child.\n",
    "* If the node has two children, find the node's in-order successor (the smallest node in its right subtree), replace the node's value with the in-order successor's value, and then recursively delete the in-order successor.\n",
    "<br><br>\n",
    "**The time complexity of basic operations (search, insert, delete) in a balanced BST is O(log n) on average, where n is the number of nodes. However, in the worst case (when the tree is skewed, meaning it resembles a linked list), the time complexity becomes O(n), which is similar to the time complexity of operations in a linked list.**\n",
    "<br><br>\n",
    "Balancing techniques, such as AVL trees or Red-Black trees, are used to maintain the balanced structure of a BST, ensuring better performance in the worst case.\n",
    "<br><br><br><br>\n",
    "<br><br><br><br>\n",
    "### In a balanced Binary Search Tree (BST), the height (k) is logarithmic in relation to the number of elements (n).<br><br>\n",
    "**For a well-balanced BST, the height is O(log n), where \"log\" denotes the logarithm base 2.<br><br>\n",
    "A balanced structure ensures efficient operations like search, insertion, and deletion with an average time complexity of O(log n).<br><br>\n",
    "Unbalanced BSTs, resembling linked lists, can have a height linearly proportional to the number of elements (O(n)), leading to degraded performance.<br><br>\n",
    "Self-balancing techniques, such as AVL trees and Red-Black trees, help maintain the logarithmic relationship, ensuring optimal performance even after insertions and deletions.**\n",
    "<br><br><br><br><br><br><br><br><br><br><br><br>"
   ]
  },
  {
   "cell_type": "markdown",
   "id": "e2b16bb0",
   "metadata": {},
   "source": [
    "### Creating a binary tree in python"
   ]
  },
  {
   "cell_type": "code",
   "execution_count": 1,
   "id": "96980287",
   "metadata": {},
   "outputs": [],
   "source": [
    "# simple node class\n",
    "class TreeNode():\n",
    "    def __init__(self,key):\n",
    "        self.key = key\n",
    "        self.left = None\n",
    "        self.right = None        "
   ]
  },
  {
   "cell_type": "code",
   "execution_count": 2,
   "id": "7c29ef9a",
   "metadata": {},
   "outputs": [],
   "source": [
    "# inserting 3 nodes\n",
    "node1 = TreeNode(20)\n",
    "node2 = TreeNode(10)\n",
    "node3 = TreeNode(30)\n",
    "node1.right = node2\n",
    "node1.left = node3\n",
    "# this method is lengthy and can go for a long while if the tree is tall"
   ]
  },
  {
   "cell_type": "code",
   "execution_count": 3,
   "id": "c57f2c4e",
   "metadata": {},
   "outputs": [
    {
     "name": "stdout",
     "output_type": "stream",
     "text": [
      "2\n",
      "4\n",
      "12\n",
      "8\n"
     ]
    }
   ],
   "source": [
    "# We will create a generic function that creates trees using tuple\n",
    "def parse_tuple(data):\n",
    "    if data is None:\n",
    "        node = None\n",
    "    elif isinstance (data, tuple) and len (data) == 3:\n",
    "        node = TreeNode(data[1])\n",
    "        node.left= parse_tuple(data [0])\n",
    "        node.right = parse_tuple(data[2])\n",
    "        \n",
    "        print(node.key)\n",
    "    else:\n",
    "        node = TreeNode (data)\n",
    "    return node\n",
    "\n",
    "\n",
    "tree_tuple = (((1,2,3),4,6),8,(None,12,16))\n",
    "tree = parse_tuple(tree_tuple)\n",
    "# The parse_tuple creates a new root node when a tuple of size 3 as an the input. Interestingly,\n",
    "# to create the left and right subtrees for the node, the parse_tuple function invokes itself. This\n",
    "# technique is called recursion. The chain of recursive calls ends when parse_tuple encounters\n",
    "# a number or None as input. We'll use recursion extensively throughout this tutorial.\n"
   ]
  },
  {
   "cell_type": "code",
   "execution_count": 4,
   "id": "bb110ca4",
   "metadata": {},
   "outputs": [
    {
     "name": "stdout",
     "output_type": "stream",
     "text": [
      "      16\n",
      "   12\n",
      "      [-]\n",
      "8\n",
      "      6\n",
      "   4\n",
      "         3\n",
      "      2\n",
      "         1\n"
     ]
    }
   ],
   "source": [
    "def display_keys(node, space='\\t', level=0): # displays the tree in a rotated form\n",
    "    # If the node is empty\n",
    "    if node is None:\n",
    "        print (space* level + '[-]')\n",
    "        return\n",
    "    # If the node is a leaf\n",
    "    if node.left is None and node.right is None:\n",
    "        print (space* level + str(node.key))\n",
    "        return\n",
    "    # If the node has children\n",
    "    display_keys (node.right, space, level+1)\n",
    "    print (space* level + str(node.key))\n",
    "    display_keys (node.left, space, level+1)\n",
    "    \n",
    "display_keys(tree,space =\"   \")"
   ]
  },
  {
   "cell_type": "markdown",
   "id": "32856a66",
   "metadata": {},
   "source": [
    "<br>\n",
    "<br>\n",
    "<br>\n",
    "<br>\n"
   ]
  },
  {
   "cell_type": "markdown",
   "id": "6f40d456",
   "metadata": {},
   "source": [
    "\n",
    "\n",
    "### There are 3 ways to traverse a binary tree, \n",
    "- inorder (left-root-right)\n",
    "- preorder (root-left-right)\n",
    "- inorder (left-right-root)"
   ]
  },
  {
   "cell_type": "code",
   "execution_count": 5,
   "id": "10260818",
   "metadata": {},
   "outputs": [],
   "source": [
    "def traverse_in_order (node):\n",
    "    if node is None:\n",
    "        return []\n",
    "    return (traverse_in_order (node.left) + [node.key] + traverse_in_order(node.right))\n",
    "\n",
    "\n",
    "def traverse_preorder(node):\n",
    "    if node is None:\n",
    "        return []\n",
    "    return ( [node.key] + traverse_preorder(node.left) + traverse_preorder(node.right))\n",
    "\n",
    "def traverse_postorder(node):\n",
    "    if node is None:\n",
    "        return []\n",
    "    return (  traverse_postorder(node.left) + traverse_postorder(node.right) + [node.key] )"
   ]
  },
  {
   "cell_type": "code",
   "execution_count": 6,
   "id": "a71601f8",
   "metadata": {},
   "outputs": [
    {
     "name": "stdout",
     "output_type": "stream",
     "text": [
      "      16\n",
      "   12\n",
      "      [-]\n",
      "8\n",
      "      6\n",
      "   4\n",
      "         3\n",
      "      2\n",
      "         1\n",
      "\n",
      "\n",
      "[1, 2, 3, 4, 6, 8, 12, 16]\n",
      "[8, 4, 2, 1, 3, 6, 12, 16]\n",
      "[1, 3, 2, 6, 4, 16, 12, 8]\n"
     ]
    }
   ],
   "source": [
    "display_keys(tree,space=\"   \")\n",
    "print()\n",
    "print()\n",
    "\n",
    "print(traverse_in_order(tree))\n",
    "print(traverse_preorder(tree))\n",
    "print(traverse_postorder(tree))"
   ]
  },
  {
   "cell_type": "markdown",
   "id": "ce11eb5e",
   "metadata": {},
   "source": [
    "<br><br><br><br>"
   ]
  },
  {
   "cell_type": "markdown",
   "id": "4ee3d986",
   "metadata": {},
   "source": [
    "### Functions to find height and number of nodes of a tree"
   ]
  },
  {
   "cell_type": "code",
   "execution_count": 7,
   "id": "e54a88e1",
   "metadata": {},
   "outputs": [
    {
     "name": "stdout",
     "output_type": "stream",
     "text": [
      "4\n",
      "8\n"
     ]
    }
   ],
   "source": [
    "def tree_height (node):\n",
    "    if node is None:\n",
    "        return 0\n",
    "    return 1 + max(tree_height(node.left), tree_height(node.right))\n",
    "\n",
    "def tree_size(node):\n",
    "    if node is None:\n",
    "        return 0\n",
    "    return 1 + tree_size(node.left) + tree_size(node.right)\n",
    "print(tree_height(tree))\n",
    "print(tree_size(tree))"
   ]
  },
  {
   "cell_type": "markdown",
   "id": "a20653a9",
   "metadata": {},
   "source": [
    "<br><br><br><br>"
   ]
  },
  {
   "cell_type": "markdown",
   "id": "0b974886",
   "metadata": {},
   "source": [
    "### As a final step combine all these functions within the class tree itself:"
   ]
  },
  {
   "cell_type": "code",
   "execution_count": 8,
   "id": "4e3ec77f",
   "metadata": {},
   "outputs": [],
   "source": [
    "# simple node class\n",
    "class TreeNode():\n",
    "    def __init__(self,key):\n",
    "        self.key = key\n",
    "        self.left = None\n",
    "        self.right = None  \n",
    "        \n",
    "        \n",
    "    def tree_height (node):\n",
    "        if node is None:\n",
    "            return 0\n",
    "        return 1 + max(tree_height(node.left), tree_height(node.right))\n",
    "\n",
    "    def tree_size(node):\n",
    "        if node is None:\n",
    "            return 0\n",
    "        return 1 + tree_size(node.left) + tree_size(node.right)\n",
    "    \n",
    "    \n",
    "    def traverse_in_order (node):\n",
    "        if node is None:\n",
    "            return []\n",
    "        return (traverse_in_order (node.left) + [node.key] + traverse_in_order(node.right))\n",
    "\n",
    "\n",
    "    def traverse_preorder(node):\n",
    "        if node is None:\n",
    "            return []\n",
    "        return ( [node.key] + traverse_preorder(node.left) + traverse_preorder(node.right))\n",
    "\n",
    "    def traverse_postorder(node):\n",
    "        if node is None:\n",
    "            return []\n",
    "        return (  traverse_postorder(node.left) + traverse_postorder(node.right) + [node.key] )\n",
    "    \n",
    "    \n",
    "    def display_keys(node, space='\\t', level=0): # displays the tree in a rotated form\n",
    "        # If the node is empty\n",
    "        if node is None:\n",
    "            print (space* level + '[-]')\n",
    "            return\n",
    "        # If the node is a leaf\n",
    "        if node.left is None and node.right is None:\n",
    "            print (space* level + str(node.key))\n",
    "            return\n",
    "        # If the node has children\n",
    "        display_keys (node.right, space, level+1)\n",
    "        print (space* level + str(node.key))\n",
    "        display_keys (node.left, space, level+1)\n",
    "       \n",
    "    @staticmethod\n",
    "    def parse_tuple(data):\n",
    "        if data is None:\n",
    "            node = None\n",
    "        elif isinstance (data, tuple) and len (data) == 3:\n",
    "            node = TreeNode(data[1])\n",
    "            node.left= parse_tuple(data [0])\n",
    "            node.right = parse_tuple(data[2])\n",
    "\n",
    "            print(node.key)\n",
    "        else:\n",
    "            node = TreeNode (data)\n",
    "        return node\n",
    "    "
   ]
  },
  {
   "cell_type": "markdown",
   "id": "3cd95135",
   "metadata": {},
   "source": [
    "<br><br><br><br>"
   ]
  },
  {
   "cell_type": "markdown",
   "id": "b314b6e5",
   "metadata": {},
   "source": [
    "### Some more funtions"
   ]
  },
  {
   "cell_type": "markdown",
   "id": "6d9a4f6b",
   "metadata": {},
   "source": [
    "## check if a binary tree is a binary search tree and finds minimum and max value in a bst \n",
    "### works only on numerical data"
   ]
  },
  {
   "cell_type": "code",
   "execution_count": 9,
   "id": "b56f159e",
   "metadata": {},
   "outputs": [
    {
     "data": {
      "text/plain": [
       "(True, 1, 16)"
      ]
     },
     "execution_count": 9,
     "metadata": {},
     "output_type": "execute_result"
    }
   ],
   "source": [
    "\n",
    "def is_bst_and_find_min_max(node, min_value=float('-inf'), max_value=float('inf')):\n",
    "    \n",
    "    if node is None:\n",
    "        return True, float('inf'), float('-inf')\n",
    "\n",
    "    # Check if the current node's key is within the valid range\n",
    "    if not (min_value <= node.key <= max_value):\n",
    "        return False, None, None\n",
    "\n",
    "    # Recursively check the left and right subtrees\n",
    "    left_is_bst, left_min, left_max = is_bst_and_find_min_max(node.left, min_value, node.key - 1)\n",
    "    \n",
    "    right_is_bst, right_min, right_max = is_bst_and_find_min_max(node.right, node.key + 1, max_value)\n",
    "\n",
    "    # Check if both subtrees are BSTs\n",
    "    is_bst = left_is_bst and right_is_bst\n",
    "\n",
    "    # Calculate the overall minimum and maximum values\n",
    "    min_value = min(node.key, left_min, right_min)\n",
    "    max_value = max(node.key, left_max, right_max)\n",
    "\n",
    "    return is_bst, min_value, max_value\n",
    "is_bst_and_find_min_max(tree)"
   ]
  },
  {
   "cell_type": "markdown",
   "id": "ea961a61",
   "metadata": {},
   "source": [
    "### A similar function that handles both numerical and string data"
   ]
  },
  {
   "cell_type": "code",
   "execution_count": 10,
   "id": "be9613b4",
   "metadata": {},
   "outputs": [
    {
     "data": {
      "text/plain": [
       "(True, 1, 16)"
      ]
     },
     "execution_count": 10,
     "metadata": {},
     "output_type": "execute_result"
    }
   ],
   "source": [
    "def remove_none(nums):\n",
    "    return [x for x in nums if x is not None]\n",
    "def is_bst(node):\n",
    "    if node is None:\n",
    "        return True, None, None\n",
    "    is_bst_l, min_l, max_l = is_bst(node.left)\n",
    "    is_bst_r, min_r, max_r = is_bst(node.right)\n",
    "    is_bst_node = (is_bst_l and is_bst_r and \n",
    "                   (max_l is None or node.key > max_l) and\n",
    "                   (min_r is None or node. key < min_r))\n",
    "    min_key = min(remove_none ([min_l, node.key, min_r]))\n",
    "    max_key = max(remove_none([max_l, node.key, max_r]))\n",
    "    #print (node.key, min_key, max_key, is_bst_node)\n",
    "    return is_bst_node, min_key, max_key\n",
    "is_bst(tree)\n"
   ]
  },
  {
   "cell_type": "markdown",
   "id": "a28e0b5c",
   "metadata": {},
   "source": [
    "### Adding this to our original class"
   ]
  },
  {
   "cell_type": "code",
   "execution_count": 11,
   "id": "b1665f61",
   "metadata": {},
   "outputs": [],
   "source": [
    "# simple node class\n",
    "class TreeNode():\n",
    "    def __init__(self,key):\n",
    "        self.key = key\n",
    "        self.left = None\n",
    "        self.right = None  \n",
    "        \n",
    "        \n",
    "    def tree_height (node):\n",
    "        if node is None:\n",
    "            return 0\n",
    "        return 1 + max(tree_height(node.left), tree_height(node.right))\n",
    "\n",
    "    def tree_size(node):\n",
    "        if node is None:\n",
    "            return 0\n",
    "        return 1 + tree_size(node.left) + tree_size(node.right)\n",
    "    \n",
    "    \n",
    "    def traverse_in_order (node):\n",
    "        if node is None:\n",
    "            return []\n",
    "        return (traverse_in_order (node.left) + [node.key] + traverse_in_order(node.right))\n",
    "\n",
    "\n",
    "    def traverse_preorder(node):\n",
    "        if node is None:\n",
    "            return []\n",
    "        return ( [node.key] + traverse_preorder(node.left) + traverse_preorder(node.right))\n",
    "\n",
    "    def traverse_postorder(node):\n",
    "        if node is None:\n",
    "            return []\n",
    "        return (  traverse_postorder(node.left) + traverse_postorder(node.right) + [node.key] )\n",
    "    \n",
    "    \n",
    "    def display_keys(node, space='\\t', level=0): # displays the tree in a rotated form\n",
    "        # If the node is empty\n",
    "        if node is None:\n",
    "            print (space* level + '[-]')\n",
    "            return\n",
    "        # If the node is a leaf\n",
    "        if node.left is None and node.right is None:\n",
    "            print (space* level + str(node.key))\n",
    "            return\n",
    "        # If the node has children\n",
    "        display_keys (node.right, space, level+1)\n",
    "        print (space* level + str(node.key))\n",
    "        display_keys (node.left, space, level+1)\n",
    "       \n",
    "    @staticmethod\n",
    "    def parse_tuple(data):\n",
    "        if data is None:\n",
    "            node = None\n",
    "        elif isinstance (data, tuple) and len (data) == 3:\n",
    "            node = TreeNode(data[1])\n",
    "            node.left= parse_tuple(data [0])\n",
    "            node.right = parse_tuple(data[2])\n",
    "\n",
    "            print(node.key)\n",
    "        else:\n",
    "            node = TreeNode (data)\n",
    "        return node\n",
    "    def remove_none(nums):\n",
    "        return [x for x in nums if x is not None]\n",
    "    def is_bst(node):\n",
    "        if node is None:\n",
    "            return True, None, None\n",
    "        is_bst_l, min_l, max_l = is_bst(node.left)\n",
    "        is_bst_r, min_r, max_r = is_bst(node.right)\n",
    "        is_bst_node = (is_bst_l and is_bst_r and \n",
    "                       (max_l is None or node.key > max_l) and\n",
    "                       (min_r is None or node. key < min_r))\n",
    "        min_key = min(remove_none ([min_l, node.key, min_r]))\n",
    "        max_key = max(remove_none([max_l, node.key, max_r]))\n",
    "        #print (node.key, min_key, max_key, is_bst_node)\n",
    "        return is_bst_node, min_key, max_key\n"
   ]
  },
  {
   "cell_type": "markdown",
   "id": "2b041cdb",
   "metadata": {},
   "source": [
    "<br><br><br><br>"
   ]
  },
  {
   "cell_type": "markdown",
   "id": "b4bc1d25",
   "metadata": {},
   "source": [
    "## Storing Key-Value Pairs using BSTs\n",
    "Recall that we need to store user objects with each key in our BST. Let's define new class\n",
    "BSTNode to represent the nodes of of our tree. Apart from having properties key, left and\n",
    "right, we'll also store a value and pointer to the parent node (for easier upward traversal)."
   ]
  },
  {
   "cell_type": "code",
   "execution_count": 12,
   "id": "f12ee5d3",
   "metadata": {},
   "outputs": [],
   "source": [
    "class BSTNode():\n",
    "    def __init__(self,key,value=None):\n",
    "        self.key = key\n",
    "        self.value = value        \n",
    "        self.left = None        \n",
    "        self.right = None\n",
    "        self.parent = None\n",
    "        "
   ]
  },
  {
   "cell_type": "markdown",
   "id": "589b0f44",
   "metadata": {},
   "source": [
    "\n",
    "\n",
    "## Problem\n",
    "#### In this notebook, we'll focus on solving the following problem:\n",
    "\n",
    "**QUESTION 1: As a senior backend engineer at Jovian, <br>you are tasked with developing a fast in-memory data structure <br> to manage profile information (username, name and email) for 100 million users. <br>It should allow the following operations to be performed efficiently:**\n",
    "1. Insert the profile information for a new user.\n",
    "2. Find the profile information of a user, given their username\n",
    "3. Update the profile information of a user, given their usrname\n",
    "4. List all the users of the platform, sorted by username<br><br>\n",
    "**You can assume that usernames are unique.<br><br>**\n"
   ]
  },
  {
   "cell_type": "code",
   "execution_count": 13,
   "id": "ba3b8099",
   "metadata": {},
   "outputs": [],
   "source": [
    "# class for our data structure\n",
    "class UserDatabase:\n",
    "    def insert(self,user):\n",
    "        pass\n",
    "    def find(self,username):\n",
    "        pass\n",
    "    def update(self,user):\n",
    "        pass\n",
    "    def list_all(self):\n",
    "        pass"
   ]
  },
  {
   "cell_type": "code",
   "execution_count": 14,
   "id": "8121619d",
   "metadata": {},
   "outputs": [],
   "source": [
    "# class for details of each user \n",
    "class User:\n",
    "    def __init__(self,username,name,email):\n",
    "        self.username = username\n",
    "        self.name = name\n",
    "        self.email = email\n",
    "    def __repr__(self):\n",
    "        return f\"\\n username = {self.username},\\n name = {self.name},\\n email = {self.email}\"\n",
    "    def __str__(self):\n",
    "        return self.__repr__()"
   ]
  },
  {
   "cell_type": "code",
   "execution_count": 15,
   "id": "2def322d",
   "metadata": {},
   "outputs": [],
   "source": [
    "# Creating a few users:\n",
    "aakash = User('aakash', 'Aakash Rai', 'aakash@example.com')\n",
    "biraj = User('biraj', 'Biraj Das', 'biraj@example.com')\n",
    "hemanth = User('hemanth' ,'Hemanth Jain', 'hemanth@example.com')\n",
    "jadhesh = User('jadhesh', 'Jadhesh Verma ' , 'jadhesh@example.com')\n",
    "siddhant = User('siddhant', 'Siddhant Sinha', 'siddhant@example.com')\n",
    "sonaksh =  User('sonaksh', 'Sonaksh Kumar' , 'sonaksh@example.com')\n",
    "vishal = User('vishal', 'Vishal Goel', 'vishal@example.com')"
   ]
  },
  {
   "cell_type": "code",
   "execution_count": 16,
   "id": "4289d8d2",
   "metadata": {},
   "outputs": [],
   "source": [
    "users = [aakash,biraj,hemanth,jadhesh,siddhant,sonaksh,vishal]"
   ]
  },
  {
   "cell_type": "code",
   "execution_count": 17,
   "id": "c96f4871",
   "metadata": {},
   "outputs": [
    {
     "data": {
      "text/plain": [
       "('jadhesh',\n",
       " \n",
       "  username = jadhesh,\n",
       "  name = Jadhesh Verma ,\n",
       "  email = jadhesh@example.com)"
      ]
     },
     "execution_count": 17,
     "metadata": {},
     "output_type": "execute_result"
    }
   ],
   "source": [
    "userTree = BSTNode(jadhesh.username,jadhesh) # Creating root node - lvl 0\n",
    "userTree.key,userTree.value"
   ]
  },
  {
   "cell_type": "code",
   "execution_count": 18,
   "id": "5d2a2eac",
   "metadata": {},
   "outputs": [],
   "source": [
    "# Left Branch\n",
    "userTree.left = BSTNode(biraj.username,biraj) # Create branches - lvl 1\n",
    "userTree.left.parent=userTree\n",
    "\n",
    "# Right Branch\n",
    "userTree.right = BSTNode(sonaksh.username,sonaksh)\n",
    "userTree.right.parent=userTree\n"
   ]
  },
  {
   "cell_type": "code",
   "execution_count": 19,
   "id": "68dff27c",
   "metadata": {},
   "outputs": [
    {
     "name": "stdout",
     "output_type": "stream",
     "text": [
      "biraj \n",
      " username = biraj,\n",
      " name = Biraj Das,\n",
      " email = biraj@example.com\n",
      "sonaksh \n",
      " username = sonaksh,\n",
      " name = Sonaksh Kumar,\n",
      " email = sonaksh@example.com\n"
     ]
    }
   ],
   "source": [
    "print(userTree.left.key,userTree.left.value) # view lvl - 1\n",
    "print(userTree.right.key,userTree.right.value)"
   ]
  },
  {
   "cell_type": "markdown",
   "id": "7b01410d",
   "metadata": {},
   "source": [
    "<br><br><br><br>"
   ]
  },
  {
   "cell_type": "markdown",
   "id": "b6679fcd",
   "metadata": {},
   "source": [
    "## Insertion into BST"
   ]
  },
  {
   "cell_type": "markdown",
   "id": "bc69d715",
   "metadata": {},
   "source": [
    "We use the BST-property to perform insertion efficiently:\n",
    "1. Starting from the root node, we compare the key to be inserted with the current node's key\n",
    "2. If the key is smaller, we recursively insert it in the left subtree (if it exists) or attach it as as the\n",
    "left child if no left subtree exists.\n",
    "3. If the key is larger, we recursively insert it in the right subtree (if it exists) or attach it as as the\n",
    "right child if no right subtree exists.\n",
    "Here's a recursive implementation of insert."
   ]
  },
  {
   "cell_type": "code",
   "execution_count": 20,
   "id": "384749fa",
   "metadata": {},
   "outputs": [],
   "source": [
    "# function\n",
    "def insert(node, key, value):\n",
    "    if node is None:\n",
    "        node = BSTNode (key, value)\n",
    "    elif key < node.key:\n",
    "        node.left= insert (node.left, key, value)\n",
    "        node.left.parent = node\n",
    "    elif key > node.key:\n",
    "        node.right = insert (node.right, key, value)\n",
    "        node.right.parent = node\n",
    "    return node"
   ]
  },
  {
   "cell_type": "markdown",
   "id": "d35e3df1",
   "metadata": {},
   "source": [
    "### Recreating our tree using this function"
   ]
  },
  {
   "cell_type": "code",
   "execution_count": 21,
   "id": "19e28b97",
   "metadata": {},
   "outputs": [
    {
     "name": "stdout",
     "output_type": "stream",
     "text": [
      "\t\tvishal\n",
      "\tsonaksh\n",
      "\t\tsiddhant\n",
      "jadhesh\n",
      "\t\themanth\n",
      "\tbiraj\n",
      "\t\taakash\n"
     ]
    }
   ],
   "source": [
    "tree = insert(None, jadhesh.username, jadhesh)\n",
    "# The remaining nodes can now be inserted into tree.\n",
    "insert (tree, biraj.username, biraj)\n",
    "insert (tree, sonaksh.username, sonaksh)\n",
    "insert (tree, aakash.username, aakash)\n",
    "insert (tree, hemanth.username, hemanth)\n",
    "insert (tree, siddhant.username, siddhant)\n",
    "insert (tree, vishal.username, vishal)\n",
    "display_keys(tree)"
   ]
  },
  {
   "cell_type": "markdown",
   "id": "7c2f5a4d",
   "metadata": {},
   "source": [
    "\n",
    "### Perfect! The tree was created as expected.\n",
    "## Note, however, that the order of insertion of nodes change the structure of the resulting tree.\n"
   ]
  },
  {
   "cell_type": "code",
   "execution_count": 23,
   "id": "5dde22bf",
   "metadata": {},
   "outputs": [
    {
     "name": "stdout",
     "output_type": "stream",
     "text": [
      "\t\t\t\t\t\tvishal\n",
      "\t\t\t\t\tsonaksh\n",
      "\t\t\t\t\t\t[-]\n",
      "\t\t\t\tsiddhant\n",
      "\t\t\t\t\t[-]\n",
      "\t\t\tjadhesh\n",
      "\t\t\t\t[-]\n",
      "\t\themanth\n",
      "\t\t\t[-]\n",
      "\tbiraj\n",
      "\t\t[-]\n",
      "aakash\n",
      "\t[-]\n"
     ]
    }
   ],
   "source": [
    "tree2 = insert (None, aakash.username, aakash)\n",
    "insert (tree2, biraj.username, biraj)\n",
    "insert (tree2, hemanth.username, hemanth)\n",
    "insert (tree2, jadhesh.username, jadhesh)\n",
    "insert (tree2, siddhant.username, siddhant)\n",
    "insert (tree2, sonaksh.username, sonaksh)\n",
    "insert (tree2, vishal.username, vishal)\n",
    "display_keys (tree2)"
   ]
  },
  {
   "cell_type": "markdown",
   "id": "fddc5f38",
   "metadata": {},
   "source": [
    "Skewed/unbalanced BSTS are problematic because the height of such trees often ceases to<br>\n",
    "logarithmic compared to the number of nodes in the tree. For instance the above tree has 7 nodes\n",
    "and height 7.<br>\n",
    "The length of the path traversed by insert is equal to the height of the tree (in the worst case).<br>\n",
    "It follows that if the tree is balanced, the time complexity of insertion is 0 (log N) <br>otherwise it is\n",
    "O(N) .<br>"
   ]
  },
  {
   "cell_type": "markdown",
   "id": "1217c100",
   "metadata": {},
   "source": [
    "<br><br><br><br>"
   ]
  },
  {
   "cell_type": "markdown",
   "id": "e0cac355",
   "metadata": {},
   "source": [
    "## How to find if a tree is balanced"
   ]
  },
  {
   "cell_type": "code",
   "execution_count": null,
   "id": "dfea39a1",
   "metadata": {},
   "outputs": [],
   "source": [
    "# Here's a recursive strategy:\n",
    "# 1. Ensure that the left subtree is balanced.\n",
    "# 2. Ensure that the right subtree is balanced.\n",
    "# 3. Ensure that the difference between heights of left subtree and right subtree is not more than 1.\n",
    "def is_balanced (node):\n",
    "if node is None:\n",
    "return True, 0\n",
    "balanced_1, height_l = is_balanced (node.left)\n",
    "balanced_r, height_r = is_balanced (node.right)\n",
    "balanced = balanced_1 and balanced_r and abs (height_l height_r) <=1\n",
    "height = 1 + max (height_1, height_r)\n",
    "return balanced, height"
   ]
  }
 ],
 "metadata": {
  "kernelspec": {
   "display_name": "Python 3 (ipykernel)",
   "language": "python",
   "name": "python3"
  },
  "language_info": {
   "codemirror_mode": {
    "name": "ipython",
    "version": 3
   },
   "file_extension": ".py",
   "mimetype": "text/x-python",
   "name": "python",
   "nbconvert_exporter": "python",
   "pygments_lexer": "ipython3",
   "version": "3.11.2"
  }
 },
 "nbformat": 4,
 "nbformat_minor": 5
}
