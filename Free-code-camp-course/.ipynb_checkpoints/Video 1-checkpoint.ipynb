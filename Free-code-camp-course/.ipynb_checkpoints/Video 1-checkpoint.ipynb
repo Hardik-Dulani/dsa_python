{
 "cells": [
  {
   "cell_type": "markdown",
   "id": "1ac18ddc",
   "metadata": {},
   "source": [
    "# Systematic way of solving DSA problems\n",
    "\n",
    "1. State the problem clearly. Identify the input & output formats.\n",
    "2. Come up with some example inputs & outputs. Try to cover all edge cases.\n",
    "3. Come up with a correct solution for the problem. State it in plain English.\n",
    "4. Implement the solution and test it using example inputs. Fix bugs, if any.\n",
    "5. Analyze the algorithm's complexity and identify inefficiencies, if any.\n",
    "6. Apply the right technique to overcome the inefficiency. Repeat steps 3 to 6.\n",
    "<br>\n",
    "#### Applying the right technique is where the knowledge of common data structures and algorithms comes in handy."
   ]
  },
  {
   "cell_type": "markdown",
   "id": "d90d1635",
   "metadata": {},
   "source": [
    "<br>\n",
    "<br>\n",
    "<br>\n",
    "<br>\n",
    "<br>\n"
   ]
  },
  {
   "cell_type": "markdown",
   "id": "c45086c9",
   "metadata": {},
   "source": [
    "### Getting test cases evaluated"
   ]
  },
  {
   "cell_type": "code",
   "execution_count": 16,
   "id": "0a080a09",
   "metadata": {},
   "outputs": [],
   "source": [
    "# !pip install jovian\n",
    "from jovian.pythondsa import evaluate_test_cases"
   ]
  },
  {
   "cell_type": "code",
   "execution_count": 22,
   "id": "b676ea7c",
   "metadata": {},
   "outputs": [],
   "source": [
    "# format\n",
    "# create a list named tests which has each test case as element in dictionary form\n",
    "# make sure to include all edge cases as well\n",
    "# use evaluate_test_cases func to evaluate the tests"
   ]
  },
  {
   "cell_type": "code",
   "execution_count": 23,
   "id": "5b786dc6",
   "metadata": {},
   "outputs": [],
   "source": [
    "#  tests = []\n",
    "#  test1 = {\n",
    "#     \"input\" : {\n",
    "#              \"input_arg1\" : [1,2,3,4,5]\n",
    "#              \"input_arg2\" : 3     \n",
    "#     }\n",
    "#     \"Output\" : 2\n",
    "#   }\n",
    "# tests.append(test1)"
   ]
  },
  {
   "cell_type": "code",
   "execution_count": 12,
   "id": "d27058ce",
   "metadata": {},
   "outputs": [],
   "source": [
    "# evaluate_test_cases(your-func,tests)"
   ]
  },
  {
   "cell_type": "markdown",
   "id": "57295cb0",
   "metadata": {},
   "source": [
    "<br><br><br><br><br>"
   ]
  },
  {
   "cell_type": "markdown",
   "id": "d8170b5b",
   "metadata": {},
   "source": [
    "### Problem - 1\n",
    "Alice has some cards with numbers written on them. <br> She arranges\n",
    "the cards in decreasing order, and lays them out face down in a sequence on a\n",
    "table.  <br> She challenges Bob to pick out the card containing a given number by\n",
    "turning over as few cards as possible.<br>  Write a function to help Bob locate the card.<br>\n",
    "if there are multiple occurences of the target, return the index of first occurence\n",
    "\n",
    "#### Use Binary Search"
   ]
  },
  {
   "cell_type": "markdown",
   "id": "0995acf2",
   "metadata": {},
   "source": [
    "\n",
    "Here's how binary search can be applied to our problem:\n",
    "1. Find the middle element of the list.\n",
    "2. If it matches queried number, return the middle position as the answer.\n",
    "3. If it is less than the queried number, then search the first half of the list\n",
    "4. If it is greater than the queried number, then search the second half of the list\n",
    "5. If no more elements remain, return -1."
   ]
  },
  {
   "cell_type": "code",
   "execution_count": 51,
   "id": "ab458e4d",
   "metadata": {},
   "outputs": [],
   "source": [
    "# My function:\n",
    "def test_location(cards,target,mid):\n",
    "    mid_number = cards[mid]\n",
    "\n",
    "    \n",
    "    if mid_number == target:\n",
    "        \n",
    "        if mid-1 >= 0 and cards [mid-1] == target:\n",
    "            return 'left'\n",
    "        \n",
    "        else:\n",
    "            return 'found'\n",
    "        \n",
    "    elif mid_number < target:\n",
    "        return 'left'\n",
    "    \n",
    "    else:\n",
    "        return 'right'\n",
    "    \n",
    "def alice_cards(cards,target):\n",
    "    low = 0\n",
    "    high = len(cards) - 1\n",
    "    if len(cards)==0:\n",
    "        return -1\n",
    "    \n",
    "    while low <= high:\n",
    "        mid = (high+low) // 2 \n",
    "        \n",
    "        result = test_location(cards, target, mid)\n",
    "        \n",
    "        if result == 'found':\n",
    "            return mid\n",
    "        \n",
    "        elif result == 'left':\n",
    "            high = mid - 1\n",
    "\n",
    "        elif result == 'right':\n",
    "            low = mid + 1\n",
    "            \n",
    "    return -1\n",
    "            \n",
    "            \n",
    "            \n",
    "            \n",
    "# Test Evaluation\n",
    "\n",
    "tests = []\n",
    "test1 = {\"input\":{\n",
    "             \"cards\": [13,11,10,7,4,3,1,0],\n",
    "             \"target\": 7\n",
    "            },\n",
    "         \"output\":3\n",
    "        }\n",
    "\n",
    "test2 = {\"input\":{\n",
    "             \"cards\": [13,11,10,4,3,1,0],\n",
    "             \"target\": 7\n",
    "            },\n",
    "         \"output\": -1\n",
    "        }\n",
    "test3 = {\"input\":{\n",
    "             \"cards\": [13,11,10,7,7,7,7,7,7,7,7,7,7,7,7,7,7,7,7,7,7,7,7,7,7,7,7,7,7,7,7,7,7,7,7,7,7,7,7,7,7,7,7,7,7,7,7,7,7,7,7,7,7,7,7,7,7,7,7,7,7,7,7,7,7,7,7,7,7,7,7,7,7,7,7,7,7,7,7,7,7,7,7,7,7,7,7,7,7,7,7,7,7,7,7,7,7,7,7,7,7,7,7,7,7,7,7,7,7,7,7,7,7,7,7,7,7,7,7,7,7,7,7,7,7,7,7,7,7,7,7,7,7,7,7,7,7,7,7,7,7,7,7,7,7,7,7,7,7,7,7,7,7,7,7,7,7,7,7,7,7,7,7,7,7,7,7,7,7,7,7,7,7,7,7,7,7,7,7,7,7,7,7,7,7,7,7,7,7,7,7,7,7,7,7,7,7,7,7,7,7,7,7,7,7,7,7,7,7,7,7,7,7,7,7,7,7,7,7,7,7,7,7,7,7,7,7,7,7,7,7,7,7,7,7,7,7,7,7,7,7,7,7,7,7,7,7,7,7,7,7,7,7,7,7,7,7,7,7,7,7,7,7,7,7,7,7,7,7,7,7,7,7,7,7,7,7,7,7,7,7,7,7,7,7,7,7,7,7,7,7,7,7,7,7,7,7,7,7,7,7,7,7,7,7,7,7,7,7,7,7,7,7,7,7,7,7,7,7,7,7,7,7,7,7,7,7,7,7,7,7,7,7,7,7,7,7,7,7,7,7,7,7,7,7,7,7,7,7,7,7,7,7,7,7,7,7,7,7,7,7,7,7,7,7,7,7,7,7,7,7,7,7,7,7,7,7,7,7,7,7,7,7,7,7,7,7,7,7,7,7,7,7,7,7,7,7,7,7,7,7,7,7,7,7,7,7,7,7,7,7,7,7,7,7,7,7,7,7,7,7,7,7,7,7,7,7,7,7,7,7,7,7,7,7,7,7,7,7,7,7,7,7,7,7,7,7,7,7,7,7,7,7,7,7,7,7,7,7,7,7,7,7,7,7,7,7,7,7,7,7,7,7,7,7,7,7,7,7,7,7,7,7,7,7,7,7,7,7,7,7,7,7,7,7,7,7,7,7,7,7,7,7,7,7,7,7,7,7,7,7,7,7,7,7,7,7,7,7,7,7,7,7,7,7,7,7,7,7,7,7,7,7,7,7,7,7,7,7,7,7,7,7,7,7,7,7,7,7,7,7,7,7,7,7,7,7,7,7,7,7,7,7,7,7,7,7,7,7,7,7,7,7,7,7,7,7,7,7,7,7,7,7,7,7,7,7,7,7,7,7,7,7,7,7,7,7,7,7,7,7,7,7,7,7,7,7,7,7,7,7,7,7,7,7,7,7,7,7,7,7,7,7,7,7,7,7,7,7,7,7,7,7,7,7,7,7,7,7,7,7,7,7,7,7,7,7,7,7,7,7,7,7,7,7,7,7,7,7,7,7,7,7,7,7,7,7,7,7,7,7,7,7,7,7,7,7,7,7,7,7,7,7,7,7,7,7,7,7,7,7,7,7,7,7,7,7,7,7,7,7,7,7,7,7,7,7,7,7,7,7,7,7,7,7,7,7,7,7,7,7,7,7,7,7,7,7,7,7,7,7,7,7,7,7,7,7,7,7,7,7,7,7,7,7,7,7,7,7,7,7,7,7,7,7,7,7,7,7,7,7,7,7,7,7,7,7,7,7,7,7,7,7,7,7,7,7,7,7,7,7,7,7,7,7,7,7,7,7,7,7,7,7,7,7,7,7,7,7,7,7,7,7,7,7,7,7,7,7,7,7,7,7,7,7,7,7,7,7,7,7,7,7,7,7,7,7,7,7,7,7,7,7,7,7,7,7,7,7,7,7,7,7,7,7,7,7,7,7,7,7,7,7,7,7,7,7,7,7,7,7,7,7,7,7,7,7,7,7,7,7,7,7,7,7,7,7,7,7,7,7,7,7,7,7,7,7,7,7,7,7,7,7,7,7,7,7,7,7,7,7,7,7,7,7,7,7,7,7,7,7,7,7,7,7,7,7,7,7,7,7,7,7,7,7,7,7,7,7,7,7,7,7,7,7,7,7,7,7,7,7,7,7,7,7,7,7,7,7,7,7,7,7,7,7,7,7,7,7,7,7,7,7,7,7,7,7,7,7,7,7,7,7,7,7,7,7,7,7,7,7,7,7,7,7,7,7,7,7,7,7,7,7,7,7,7,7,7,7,7,7,7,7,7,7,7,7,7,7,7,7,7,7,7,7,7,7,7,7,7,7,7,7,7,7,7,7,7,7,7,7,7,7,7,7,7,7,7,7,7,7,7,7,7,7,7,7,7,7,7,7,7,7,7,7,7,7,7,7,7,7,7,7,7,7,7,7,7,7,7,7,7,7,7,7,7,7,7,7,7,7,7,7,7,7,7,7,7,7,7,7,7,7,7,7,7,7,7,7,7,7,7,7,7,7,7,7,7,7,7,7,7,7,7,7,7,7,7,7,7,7,7,7,7,7,7,7,7,7,7,7,7,7,7,7,7,7,7,7,7,7,7,7,7,7,7,7,7,7,7,7,7,7,7,7,7,7,7,7,7,7,7,7,7,7,7,7,7,7,7,7,7,7,7,7,7,7,7,7,7,7,7,7,7,7,7,7,7,7,7,7,7,7,7,7,7,7,7,7,7,7,7,7,7,7,7,7,7,7,7,7,7,7,7,7,7,7,7,7,7,7,7,7,7,7,7,7,7,7,7,7,7,7,7,7,7,7,7,7,7,7,7,7,7,7,7,7,7,7,7,7,7,7,7,7,7,7,7,7,7,7,7,7,7,7,7,7,7,7,7,7,7,7,7,7,7,7,7,7,7,7,7,7,7,7,7,7,7,7,7,7,7,7,7,7,7,7,7,7,7,7,7,7,7,7,7,7,7,7,7,7,7,7,7,7,7,7,7,7,7,7,7,7,7,7,7,7,7,7,7,7,7,7,7,7,7,7,7,7,7,7,7,7,7,7,7,7,7,7,7,7,7,7,7,7,7,7,7,7,7,7,7,7,7,7,7,7,7,7,7,7,7,7,7,7,7,7,7,7,7,7,7,7,7,7,7,7,7,7,7,7,7,7,7,7,7,7,7,7,7,7,7,7,7,7,7,7,7,7,7,7,7,7,7,7,7,7,7,7,7,7,7,7,7,7,7,7,7,7,7,7,7,7,7,7,7,7,7,7,7,7,7,7,7,7,7,7,7,7,7,7,7,7,7,7,7,7,7,7,7,7,7,7,7,7,7,7,7,7,7,7,7,7,7,7,7,7,7,7,7,7,7,7,7,7,7,7,7,7,7,7,7,7,7,7,7,7,7,7,7,7,7,7,7,7,7,7,7,7,7,7,7,7,7,7,7,7,7,7,7,7,7,7,7,7,7,7,7,7,7,7,7,7,7,7,7,7,7,7,7,7,7,7,7,7,7,7,7,7,7,7,7,7,7,7,7,7,7,7,7,7,7,7,7,7,7,7,7,7,7,7,7,7,7,7,7,7,7,7,7,7,7,7,7,7,7,7,7,7,7,7,7,7,7,7,7,7,7,7,7,7,7,7,7,7,7,7,7,7,7,7,7,7,7,7,7,7,7,7,7,7,7,7,7,7,7,7,7,7,7,7,7,7,7,7,7,7,7,7,7,7,7,7,7,7,7,7,7,7,7,7,7,7,7,7,7,7,7,7,7,7,7,7,7,7,7,7,7,7,7,7,7,7,7,7,7,7,7,7,7,7,7,7,7,7,7,7,7,7,7,7,7,7,7,7,7,7,7,7,7,7,7,7,7,7,7,7,7,7,7,7,7,7,7,7,7,7,7,7,7,7,7,7,7,7,7,7,7,7,7,7,7,7,7,7,7,7,7,7,7,7,7,7,7,7,7,7,7,7,7,7,7,7,7,7,7,7,7,7,7,7,7,7,7,7,7,7,7,7,7,7,7,7,7,7,7,7,7,7,7,7,7,7,7,7,7,7,7,7,7,7,7,7,7,7,7,7,7,7,7,7,7,7,7,7,7,7,7,7,7,7,7,7,7,7,7,7,7,7,7,7,7,7,7,7,7,7,7,7,7,7,7,7,7,7,7,7,7,7,7,7,7,7,7,7,7,7,7,7,7,7,7,7,7,7,7,7,7,7,7,7,7,7,7,7,7,7,7,7,7,7,7,7,7,7,7,7,7,7,7,7,7,7,7,7,7,7,7,7,7,7,7,7,7,7,7,7,7,7,7,7,7,7,7,7,7,7,7,7,7,7,7,7,7,7,7,7,7,7,7,7,7,7,7,7,7,7,7,7,7,7,7,7,7,7,7,7,7,7,7,7,7,7,7,7,7,7,7,7,7,7,7,7,7,7,7,7,7,7,7,7,7,7,7,7,7,7,7,7,7,7,7,7,7,7,7,7,7,7,7,7,7,7,7,7,7,7,7,7,7,7,7,7,7,7,7,7,7,7,7,7,7,7,7,7,7,7,7,7,7,7,7,7,7,7,7,7,7,7,7,7,7,7,7,7,7,7,7,7,7,7,7,7,7,7,7,7,7,7,7,7,7,7,7,7,7,7,7,7,7,7,7,7,7,7,7,7,7,7,7,7,7,7,7,7,7,7,7,7,7,7,7,7,7,7,7,7,7,7,7,7,7,7,7,7,7,7,7,7,7,7,7,7,7,7,7,7,7,7,7,7,7,7,7,7,7,7,7,7,7,7,7,7,7,7,7,7,7,7,7,7,7,7,7,7,7,7,7,7,7,7,7,7,7,7,7,7,7,7,7,7,7,7,7,7,7,7,7,7,7,7,7,7,7,7,7,7,7,7,7,7,7,7,7,7,7,7,7,7,7,7,7,7,7,7,7,7,7,7,7,7,7,7,7,7,7,7,7,7,7,7,7,7,7,7,7,7,7,7,7,7,7,7,7,7,7,7,7,7,7,7,7,7,7,7,7,7,7,7,7,7,7,7,7,7,7,7,7,7,7,7,7,7,7,7,7,7,7,7,7,7,7,7,7,7,7,7,7,7,7,7,7,7,7,7,7,7,7,7,7,7,7,7,7,7,7,7,7,7,7,7,7,7,7,7,7,7,7,7,7,7,7,7,7,7,7,7,7,7,7,7,7,7,7,7,7,7,7,7,7,7,7,7,7,7,7,7,7,7,7,7,7,7,7,7,7,7,7,7,7,7,7,7,7,7,7,7,7,7,7,7,7,7,7,7,7,7,7,7,7,7,7,7,7,7,7,7,7,7,7,7,7,7,7,7,7,7,7,7,7,7,7,7,7,7,7,7,7,7,7,7,7,7,7,7,7,7,7,7,7,7,7,7,7,7,7,7,7,7,7,7,7,7,7,7,7,7,7,7,7,7,7,7,7,7,7,7,7,7,7,7,7,7,7,7,7,7,7,7,7,7,7,7,7,7,7,7,7,7,7,7,7,7,7,7,7,7,7,7,7,7,7,7,7,7,7,7,7,7,7,7,7,7,7,7,7,7,7,7,7,7,7,7,7,7,7,7,7,7,7,7,7,7,7,7,7,7,7,7,7,7,7,7,7,7,7,7,7,7,7,7,7,7,7,7,7,7,7,7,7,7,7,7,7,7,7,7,7,7,7,7,7,7,7,7,7,7,7,7,7,7,7,7,7,7,7,7,7,7,7,7,7,7,7,7,7,7,7,7,7,7,7,7,7,7,7,7,7,7,7,7,7,7,7,7,7,7,7,7,7,7,7,7,7,7,7,7,7,7,7,7,7,7,7,7,7,7,7,7,7,7,7,7,7,7,7,7,7,7,7,7,7,7,7,7,7,7,7,7,7,7,7,7,7,7,7,7,7,7,7,7,7,7,7,7,7,7,7,7,7,7,7,7,7,7,7,7,7,7,7,7,7,7,7,7,7,7,7,7,7,7,7,7,7,7,7,7,7,7,7,7,7,7,7,7,7,7,7,7,7,7,7,7,7,7,7,7,7,7,7,7,7,7,7,7,7,7,7,7,7,7,7,7,7,7,7,7,7,7,7,7,7,7,7,7,7,7,7,7,7,7,7,7,7,7,7,7,7,7,7,7,7,7,7,7,7,7,7,7,7,7,7,7,7,7,7,7,7,7,7,7,7,7,7,7,7,7,7,7,7,7,7,7,7,7,7,7,7,7,7,7,7,7,7,7,7,7,7,7,7,7,7,7,7,7,7,7,7,7,7,7,7,7,7,7,7,7,7,7,7,7,7,7,7,7,7,7,7,7,7,7,7,7,7,7,7,7,7,7,7,7,7,7,7,7,7,7,7,7,7,7,7,7,7,7,7,7,7,7,7,7,7,7,7,7,7,7,7,7,7,7,7,7,7,7,7,7,7,7,7,7,7,7,7,7,7,7,7,7,7,7,7,7,7,7,7,7,7,7,7,7,7,7,7,7,7,7,7,7,7,7,7,7,7,7,7,7,7,7,7,7,7,7,7,7,7,7,7,7,7,7,7,7,7,7,7,7,7,7,7,7,7,7,7,7,7,7,7,7,7,7,7,7,7,7,7,7,7,7,7,7,7,7,7,7,7,7,7,7,7,7,7,7,7,7,7,7,7,7,7,7,7,7,7,7,7,7,7,7,7,7,7,7,7,7,7,7,7,7,7,7,7,7,7,7,7,7,7,7,7,7,7,7,7,7,7,7,7,7,7,7,7,7,7,7,7,7,7,7,7,7,7,7,7,7,7,7,7,7,7,7,7,7,7,7,7,7,7,7,7,7,7,7,7,7,7,7,7,7,7,7,7,7,7,7,7,7,7,7,7,7,7,7,7,7,7,7,7,7,7,7,7,7,7,7,7,7,7,7,7,7,7,7,7,7,7,7,7,7,7,7,7,7,7,7,7,7,7,7,7,7,7,7,7,7,7,7,7,7,7,7,7,7,7,7,7,7,7,7,7,7,7,7,7,7,7,7,7,7,7,7,7,7,7,7,7,7,7,7,7,7,7,7,7,7,7,7,7,7,7,7,7,7,7,7,7,7,7,7,7,7,7,7,7,7,7,7,7,7,7,7,7,7,7,7,7,7,7,7,7,7,7,7,7,7,7,7,7,7,7,7,7,7,7,7,7,7,7,7,7,7,7,7,7,7,7,7,7,7,7,7,7,7,7,7,7,7,7,7,7,7,7,7,7,7,7,7,7,7,7,7,7,7,7,7,7,7,7,7,7,7,7,7,7,7,7,7,7,7,7,7,7,7,7,7,7,7,7,7,7,7,7,7,7,7,7,7,7,7,7,7,7,7,7,7,7,7,7,7,7,7,7,7,7,7,7,7,7,7,7,7,7,7,7,7,7,7,7,7,7,7,7,7,7,7,7,7,7,7,7,7,7,7,7,7,7,7,7,7,7,7,7,7,7,7,7,7,7,7,7,7,7,7,7,7,7,7,7,7,4,3,1,0],\n",
    "             \"target\": 7\n",
    "            },\n",
    "         \"output\": 3\n",
    "        }\n",
    "tests.append(test1)\n",
    "tests.append(test2)\n",
    "tests.append(test3)\n",
    "\n",
    "\n",
    "# Final call\n",
    "# evaluate_test_cases(alice_cards,tests)"
   ]
  },
  {
   "cell_type": "markdown",
   "id": "3beeada8",
   "metadata": {},
   "source": [
    "<br><br><br><br>"
   ]
  },
  {
   "cell_type": "markdown",
   "id": "fb3dea93",
   "metadata": {},
   "source": [
    "### Writing a generic Binary Search algorithm that accepts a function named condition to specify what do we need to do"
   ]
  },
  {
   "cell_type": "code",
   "execution_count": 68,
   "id": "4de4a1b3",
   "metadata": {},
   "outputs": [],
   "source": [
    "\n",
    "def generic_binary(low, high, condition):\n",
    "    \n",
    "    while low <= high:\n",
    "        \n",
    "        mid = (low+high) // 2\n",
    "        \n",
    "        result = condition(mid) # Calling function inside function (only in python)\n",
    "        \n",
    "        if result == 'found':\n",
    "            return mid\n",
    "        \n",
    "        elif result == 'left':\n",
    "            high = mid - 1\n",
    "            \n",
    "        else:\n",
    "            low = mid + 1\n",
    "            \n",
    "    return -1"
   ]
  },
  {
   "cell_type": "markdown",
   "id": "85ce614b",
   "metadata": {},
   "source": [
    "### Writing alice-cards using the generic binary"
   ]
  },
  {
   "cell_type": "code",
   "execution_count": 69,
   "id": "3d196656",
   "metadata": {},
   "outputs": [],
   "source": [
    "def locate_card(cards, target):\n",
    "    def condition(mid):\n",
    "        if cards [mid] == target:\n",
    "            if mid > 0 and cards [mid-1] == target:\n",
    "                return 'left'\n",
    "            else:\n",
    "                return 'found'\n",
    "\n",
    "        elif cards[mid] <target:\n",
    "            return 'left'\n",
    "        else:\n",
    "            return 'right'\n",
    "        \n",
    "    return generic_binary(0, len(cards) - 1, condition)\n",
    "    \n",
    "# Final call\n",
    "# evaluate_test_cases(locate_card,tests)"
   ]
  },
  {
   "cell_type": "markdown",
   "id": "c5470f05",
   "metadata": {},
   "source": [
    "<br><br>\n",
    "<br>\n",
    "<br>\n",
    "\n"
   ]
  },
  {
   "cell_type": "markdown",
   "id": "ec5fa477",
   "metadata": {},
   "source": [
    "### Question 2:\n",
    "Given an array of integers nums sorted in ascending order, find the\n",
    "starting and ending position of a given number.\n",
    "This differs from the problem in only two significant ways:\n",
    "1. The numbers are sorted in increasing order.\n",
    "2. We are looking for both first position and last position.\n",
    "Here's the full code for solving the question, obtained by making minor modifications to our\n",
    "previous function:"
   ]
  },
  {
   "cell_type": "code",
   "execution_count": 77,
   "id": "38de51e7",
   "metadata": {},
   "outputs": [
    {
     "data": {
      "text/plain": [
       "(0, 0)"
      ]
     },
     "execution_count": 77,
     "metadata": {},
     "output_type": "execute_result"
    }
   ],
   "source": [
    "def first(arr,target):\n",
    "    def condition(mid):\n",
    "        if arr[mid] == target:\n",
    "            if mid > 0 and arr[mid-1] == target:\n",
    "                return 'left'\n",
    "            return 'found'\n",
    "        elif target < arr[mid]:\n",
    "            return 'left'\n",
    "        else:\n",
    "            return 'right'\n",
    "    \n",
    "    start = generic_binary(0, len(arr) - 1, condition)\n",
    "    \n",
    "    return start\n",
    "\n",
    "\n",
    "def last(arr,target):\n",
    "    def condition(mid):\n",
    "        if arr[mid] == target:\n",
    "            if mid <len(arr)-1 and arr[mid+1] == target:\n",
    "                return 'right'\n",
    "            return 'found'\n",
    "        elif target < arr[mid]:\n",
    "            return 'left'\n",
    "        else:\n",
    "            return 'right'\n",
    "    \n",
    "    end = generic_binary(0, len(arr) - 1, condition)\n",
    "    return end\n",
    "\n",
    "\n",
    "def first_and_last(arr,target):\n",
    "    return (first(arr,target),last(arr,target))\n",
    "\n",
    "\n",
    "first_and_last([2,2],2)"
   ]
  },
  {
   "cell_type": "code",
   "execution_count": null,
   "id": "a9be86ee",
   "metadata": {},
   "outputs": [],
   "source": []
  }
 ],
 "metadata": {
  "kernelspec": {
   "display_name": "Python 3 (ipykernel)",
   "language": "python",
   "name": "python3"
  },
  "language_info": {
   "codemirror_mode": {
    "name": "ipython",
    "version": 3
   },
   "file_extension": ".py",
   "mimetype": "text/x-python",
   "name": "python",
   "nbconvert_exporter": "python",
   "pygments_lexer": "ipython3",
   "version": "3.11.2"
  }
 },
 "nbformat": 4,
 "nbformat_minor": 5
}
