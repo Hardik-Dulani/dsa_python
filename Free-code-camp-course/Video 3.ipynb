{
 "cells": [
  {
   "cell_type": "markdown",
   "id": "55b2caf9",
   "metadata": {},
   "source": [
    "# SORTING ALGORITHMS \n",
    "# DIVIDE AND CONQUER"
   ]
  },
  {
   "cell_type": "markdown",
   "id": "43c77b79",
   "metadata": {},
   "source": [
    "<br><br><br><br><br>"
   ]
  },
  {
   "cell_type": "markdown",
   "id": "c742c978",
   "metadata": {},
   "source": [
    " #### Problem - 1\n",
    " Write a function to sort a list of notebooks in decreasing order of likes.<br>Must be efficient."
   ]
  },
  {
   "cell_type": "code",
   "execution_count": 10,
   "id": "7c3404f4",
   "metadata": {},
   "outputs": [],
   "source": [
    "# Creating a function to sort a list of numbers\n",
    "arr1 = [4,2,1,5,6,2,1,11,7]\n",
    "# output shall be [1,1,2,2,4,5,6,7,11]"
   ]
  },
  {
   "cell_type": "code",
   "execution_count": 8,
   "id": "dc55ad7f",
   "metadata": {},
   "outputs": [],
   "source": [
    "# to test our functions\n",
    "import random\n",
    "input_arr = list(range(10000))\n",
    "output_arr = list(range(10000))\n",
    "random.shuffle(input_arr)"
   ]
  },
  {
   "cell_type": "markdown",
   "id": "9366face",
   "metadata": {},
   "source": [
    "# Bubble Sort\n",
    "**Compare and Swap:** Iterate through the list, <br>comparing adjacent elements and swapping them if they are in the wrong order.\n",
    "<br>\n",
    "<br>\n",
    "\n",
    "**Multiple Passes:** Repeat the process for multiple passes, ensuring that the largest unsorted element \"bubbles up\" to its correct position in each pass.\n",
    "<br>\n",
    "<br>\n",
    "\n",
    "**Optimization Check:** Keep track of whether any swaps were made during a pass; if not, the list is sorted, and the algorithm can terminate early.\n",
    "<br>\n",
    "<br>\n",
    "\n",
    "**Termination:** Continue the process until no more swaps are needed in a pass, indicating that the list is fully sorted.\n",
    "\n",
    "\n",
    "\n",
    "\n",
    "\n"
   ]
  },
  {
   "cell_type": "code",
   "execution_count": 16,
   "id": "8b868d2d",
   "metadata": {},
   "outputs": [],
   "source": [
    "# The Function\n",
    "def bubble_sort(nums):\n",
    "    for _ in range(len(nums)-1):\n",
    "        for i in range(len(nums)-1):\n",
    "            if nums[i]>nums[i+1]:\n",
    "                nums[i+1],nums[i] = nums[i],nums[i+1] \n",
    "    return nums"
   ]
  },
  {
   "cell_type": "code",
   "execution_count": 18,
   "id": "e2aa6116",
   "metadata": {},
   "outputs": [
    {
     "name": "stdout",
     "output_type": "stream",
     "text": [
      "CPU times: total: 3.09 s\n",
      "Wall time: 17.9 s\n"
     ]
    },
    {
     "data": {
      "text/plain": [
       "True"
      ]
     },
     "execution_count": 18,
     "metadata": {},
     "output_type": "execute_result"
    }
   ],
   "source": [
    "%%time \n",
    "ans = bubble_sort(input_arr)\n",
    "ans == output_arr "
   ]
  },
  {
   "cell_type": "code",
   "execution_count": null,
   "id": "4ca255b3",
   "metadata": {},
   "outputs": [],
   "source": []
  }
 ],
 "metadata": {
  "kernelspec": {
   "display_name": "Python 3 (ipykernel)",
   "language": "python",
   "name": "python3"
  },
  "language_info": {
   "codemirror_mode": {
    "name": "ipython",
    "version": 3
   },
   "file_extension": ".py",
   "mimetype": "text/x-python",
   "name": "python",
   "nbconvert_exporter": "python",
   "pygments_lexer": "ipython3",
   "version": "3.11.2"
  }
 },
 "nbformat": 4,
 "nbformat_minor": 5
}
