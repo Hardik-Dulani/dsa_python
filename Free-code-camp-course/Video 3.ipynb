{
 "cells": [
  {
   "cell_type": "markdown",
   "id": "55b2caf9",
   "metadata": {},
   "source": [
    "# SORTING ALGORITHMS \n",
    "# DIVIDE AND CONQUER"
   ]
  },
  {
   "cell_type": "markdown",
   "id": "43c77b79",
   "metadata": {},
   "source": [
    "<br><br><br><br><br>"
   ]
  },
  {
   "cell_type": "markdown",
   "id": "c742c978",
   "metadata": {},
   "source": [
    " #### Problem - 1\n",
    " Write a function to sort a list of notebooks in decreasing order of likes.<br>Must be efficient."
   ]
  },
  {
   "cell_type": "code",
   "execution_count": 1,
   "id": "7c3404f4",
   "metadata": {},
   "outputs": [],
   "source": [
    "# Creating a function to sort a list of numbers\n",
    "arr1 = [4,2,1,5,6,2,1,11,7]\n",
    "# output shall be [1,1,2,2,4,5,6,7,11]"
   ]
  },
  {
   "cell_type": "code",
   "execution_count": 2,
   "id": "dc55ad7f",
   "metadata": {},
   "outputs": [],
   "source": [
    "# to test our functions\n",
    "import random\n",
    "input_arr = list(range(10000))\n",
    "output_arr = list(range(10000))\n",
    "random.shuffle(input_arr)"
   ]
  },
  {
   "cell_type": "markdown",
   "id": "9366face",
   "metadata": {},
   "source": [
    "# Bubble Sort\n",
    "**Compare and Swap:** Iterate through the list, <br>comparing adjacent elements and swapping them if they are in the wrong order.\n",
    "<br>\n",
    "<br>\n",
    "\n",
    "**Multiple Passes:** Repeat the process for multiple passes, ensuring that the largest unsorted element \"bubbles up\" to its correct position in each pass.\n",
    "<br>\n",
    "<br>\n",
    "\n",
    "**Optimization Check:** Keep track of whether any swaps were made during a pass; if not, the list is sorted, and the algorithm can terminate early.\n",
    "<br>\n",
    "<br>\n",
    "\n",
    "**Termination:** Continue the process until no more swaps are needed in a pass, indicating that the list is fully sorted.\n",
    "\n",
    "\n",
    "\n",
    "\n",
    "\n"
   ]
  },
  {
   "cell_type": "code",
   "execution_count": 3,
   "id": "8b868d2d",
   "metadata": {},
   "outputs": [],
   "source": [
    "# The Function\n",
    "def bubble_sort(nums):\n",
    "    for _ in range(len(nums)-1):\n",
    "        for i in range(len(nums)-1):\n",
    "            if nums[i]>nums[i+1]:\n",
    "                nums[i+1],nums[i] = nums[i],nums[i+1] \n",
    "    return nums"
   ]
  },
  {
   "cell_type": "code",
   "execution_count": 4,
   "id": "e2aa6116",
   "metadata": {},
   "outputs": [
    {
     "name": "stdout",
     "output_type": "stream",
     "text": [
      "CPU times: total: 5.67 s\n",
      "Wall time: 5.83 s\n"
     ]
    },
    {
     "data": {
      "text/plain": [
       "True"
      ]
     },
     "execution_count": 4,
     "metadata": {},
     "output_type": "execute_result"
    }
   ],
   "source": [
    "%%time \n",
    "ans = bubble_sort(input_arr)\n",
    "ans == output_arr "
   ]
  },
  {
   "cell_type": "markdown",
   "id": "a66ab319",
   "metadata": {},
   "source": [
    "<br><br><br><br>"
   ]
  },
  {
   "cell_type": "markdown",
   "id": "4ff4af2e",
   "metadata": {},
   "source": [
    "## Insertion sort"
   ]
  },
  {
   "cell_type": "markdown",
   "id": "f9da1bc8",
   "metadata": {},
   "source": [
    "**Initialization:** Start with the second element (index 1) as the current key.\n",
    "<br>\n",
    "<br>\n",
    "\n",
    "**Compare and Swap:** Compare the key with its predecessors, swapping elements until the key is in its correct position.\n",
    "<br>\n",
    "<br>\n",
    "\n",
    "**Move to Next Element:** Move to the next unsorted element and repeat steps 2.\n",
    "<br>\n",
    "<br>\n",
    "\n",
    "**Repeat:** Continue iterating until all elements are in their correct positions.\n",
    "<br>\n",
    "<br>\n",
    "\n",
    "**End:** The array is now sorted."
   ]
  },
  {
   "cell_type": "code",
   "execution_count": 5,
   "id": "e237eac0",
   "metadata": {},
   "outputs": [],
   "source": [
    "# Code\n",
    "def insertion_sort(arr):\n",
    "    for i in range(len(arr)):\n",
    "        curr = arr.pop(i)\n",
    "        j= i-1\n",
    "        while j>=0 and arr[j]>curr:\n",
    "            j-=1\n",
    "        arr.insert(j+1,curr)\n",
    "    return arr"
   ]
  },
  {
   "cell_type": "code",
   "execution_count": 6,
   "id": "1701ce6d",
   "metadata": {},
   "outputs": [
    {
     "name": "stdout",
     "output_type": "stream",
     "text": [
      "CPU times: total: 15.6 ms\n",
      "Wall time: 35.2 ms\n"
     ]
    },
    {
     "data": {
      "text/plain": [
       "True"
      ]
     },
     "execution_count": 6,
     "metadata": {},
     "output_type": "execute_result"
    }
   ],
   "source": [
    "%%time \n",
    "ans2 = insertion_sort(input_arr)\n",
    "ans2 == output_arr "
   ]
  },
  {
   "cell_type": "markdown",
   "id": "b29f3430",
   "metadata": {},
   "source": [
    "<br><br><br><br>"
   ]
  },
  {
   "cell_type": "markdown",
   "id": "4aa0d600",
   "metadata": {},
   "source": [
    "## Merge sort"
   ]
  },
  {
   "cell_type": "markdown",
   "id": "42dc6eb9",
   "metadata": {},
   "source": [
    "\n",
    "**Divide:**\n",
    "The array is divided into two halves recursively until each sub-array has only one element, marking the base case.\n",
    "<br><br><br>\n",
    "**Conquer:** Merge the smaller sorted sub-arrays back together, comparing and merging elements in a sorted manner.\n",
    "Divide and Conquer (Recursion):\n",
    "\n",
    "Repeat steps 1 and 2 for each sub-array until the entire array is sorted.\n",
    "<br><br><br>\n",
    "**Merge Operation:** Compare elements from the two sorted sub-arrays and merge them into a single sorted sub-array.\n",
    "<br><br><br>\n",
    "**Time Complexity:** Merge Sort has a consistent time complexity of O(n log n) in all cases (average, worst, and best), making it more efficient than some other sorting algorithms for large datasets.\n",
    "<br><br><br>\n",
    "**Stable Sorting:** Merge Sort is a stable sorting algorithm, meaning that the relative order of equal elements is preserved.\n",
    "<br><br><br>\n",
    "**Space Complexity:** Merge Sort typically requires additional space proportional to the size of the input array for temporary storage during the merging process.\n",
    "<br><br><br>\n",
    "**Suitability:** Merge Sort is well-suited for linked lists and external sorting due to its efficient use of linked structures and its divide-and-conquer nature.\n",
    "<br><br><br>\n",
    "**Parallelization:** Merge Sort can be easily parallelized, making it suitable for parallel computing environments.\n",
    "<br><br><br>\n",
    "**Not In-Place:** Merge Sort is not an in-place sorting algorithm since it requires additional space for merging sub-arrays."
   ]
  },
  {
   "cell_type": "code",
   "execution_count": null,
   "id": "a483bb62",
   "metadata": {},
   "outputs": [],
   "source": []
  }
 ],
 "metadata": {
  "kernelspec": {
   "display_name": "Python 3 (ipykernel)",
   "language": "python",
   "name": "python3"
  },
  "language_info": {
   "codemirror_mode": {
    "name": "ipython",
    "version": 3
   },
   "file_extension": ".py",
   "mimetype": "text/x-python",
   "name": "python",
   "nbconvert_exporter": "python",
   "pygments_lexer": "ipython3",
   "version": "3.11.2"
  }
 },
 "nbformat": 4,
 "nbformat_minor": 5
}
