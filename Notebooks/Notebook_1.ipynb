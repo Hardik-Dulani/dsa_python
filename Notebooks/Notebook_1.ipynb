{
 "cells": [
  {
   "cell_type": "markdown",
   "id": "2bba6cb9",
   "metadata": {},
   "source": [
    "\n",
    "### 1st Programme in DSA"
   ]
  },
  {
   "cell_type": "markdown",
   "id": "9e10bcba",
   "metadata": {},
   "source": [
    "#### Q1: Check if a string is a palindrome and calculate it's space and time complexity"
   ]
  },
  {
   "cell_type": "code",
   "execution_count": 1,
   "id": "7183c44a",
   "metadata": {},
   "outputs": [
    {
     "data": {
      "text/plain": [
       "True"
      ]
     },
     "execution_count": 1,
     "metadata": {},
     "output_type": "execute_result"
    }
   ],
   "source": [
    "def palindrome(string):\n",
    "    string = string.lower()\n",
    "    count = 0\n",
    "    for i in range(len(string)//2):\n",
    "        if string[i]==string[-i-1]:\n",
    "            count+=1\n",
    "    if count == len(string)//2:\n",
    "        return True\n",
    "    return False\n",
    "            \n",
    "# time complexity : 1 + 1 + n/2 + n/2 + 1 = n+3 => O(n)\n",
    "# space complexity: string(n) + count(1) + i(1) = n+2 => O(n)\n",
    "# where n is the length of string given\n",
    "palindrome(\"Racecar\")"
   ]
  },
  {
   "cell_type": "markdown",
   "id": "d3f5b032",
   "metadata": {},
   "source": [
    "#### Q2: Make pattern"
   ]
  },
  {
   "cell_type": "code",
   "execution_count": 2,
   "id": "57846136",
   "metadata": {},
   "outputs": [
    {
     "name": "stdout",
     "output_type": "stream",
     "text": [
      "\n",
      "1\n",
      "11\n",
      "111\n",
      "1111\n"
     ]
    }
   ],
   "source": [
    "def triangleOne(n):\n",
    "    for i in range(n):\n",
    "        for j in range(i):\n",
    "            print(1,end=\"\")\n",
    "        print()\n",
    "triangleOne(5)\n",
    "    "
   ]
  },
  {
   "cell_type": "markdown",
   "id": "4baaecee",
   "metadata": {},
   "source": [
    "### Q3\n",
    "Given 2 sorted arrays (in increasing order), find a path through the intersections that produces maximum sum and return the maximum sum.\n",
    "That is, we can switch from one array to another array only at common elements.\n",
    "If no intersection element is present, we need to take sum of all elements from the array with greater sum.\n",
    "Input Format :\n",
    " Line 1 : An integer M i.e. size of first array\n",
    " Line 2 : M integers which are elements of first array, separated by spaces\n",
    " Line 3 : An integer N i.e. size of second array\n",
    " Line 4 : N integers which are elements of second array, separated by spaces"
   ]
  },
  {
   "cell_type": "code",
   "execution_count": 91,
   "id": "3eb4c4ff",
   "metadata": {},
   "outputs": [
    {
     "name": "stdout",
     "output_type": "stream",
     "text": [
      "9\n",
      "5\n",
      "24\n",
      "20\n",
      "84\n"
     ]
    },
    {
     "data": {
      "text/plain": [
       "(167, [5, 15, 20])"
      ]
     },
     "execution_count": 91,
     "metadata": {},
     "output_type": "execute_result"
    }
   ],
   "source": [
    "def max_sum(arr1,arr2):\n",
    "    i = 0\n",
    "    ite = min(len(arr1),len(arr2))\n",
    "    points = []\n",
    "    for i in range(ite):\n",
    "        var1 = arr1[i]\n",
    "        var2 = arr2[i]\n",
    "        if (var1 in arr2) and var1 not in points:\n",
    "            \n",
    "            points.append(var1)\n",
    "        elif (var2 in arr1) and var2 not in points:\n",
    "            points.append(var2)\n",
    "        \n",
    "            \n",
    "    \n",
    "    \n",
    "    \n",
    "    sums1 = []\n",
    "    current1 = 0\n",
    "    for i1 in arr1:\n",
    "        current1+=i1\n",
    "        if i1 in points or arr1.index(i1)==len(arr1)-1 :\n",
    "            sums1.append(current1)\n",
    "            current1=0\n",
    "    \n",
    "    sums2 = []\n",
    "    current2 = 0\n",
    "    for i2 in arr2:\n",
    "        current2+=i2\n",
    "        if i2 in points or arr2.index(i2)==len(arr2)-1 :\n",
    "            sums2.append(current2)\n",
    "            current2=0\n",
    "   \n",
    "    final = 0\n",
    "    if max(len(sums1),len(sums2)) == len(sums1):\n",
    "        iter_ = sums1\n",
    "        lim = len(sums2)\n",
    "    else:\n",
    "        iter_ = sums2\n",
    "        lim = len(sums1)\n",
    "    counter = 0\n",
    "    for i in iter_:\n",
    "        if counter < lim:\n",
    "            final+= max(sums1[counter],sums2[counter])\n",
    "            print(i)\n",
    "        else:\n",
    "            final+= i\n",
    "            print(i)\n",
    "        counter+=1\n",
    "            \n",
    "            \n",
    "    return final,points\n",
    "        \n",
    "        \n",
    "max_sum([0,4,5,5,9,15,20,34,50],[1,5,10,15,20,25])\n",
    "\n"
   ]
  },
  {
   "cell_type": "code",
   "execution_count": null,
   "id": "fcb9aa78",
   "metadata": {},
   "outputs": [],
   "source": []
  }
 ],
 "metadata": {
  "kernelspec": {
   "display_name": "Python 3 (ipykernel)",
   "language": "python",
   "name": "python3"
  },
  "language_info": {
   "codemirror_mode": {
    "name": "ipython",
    "version": 3
   },
   "file_extension": ".py",
   "mimetype": "text/x-python",
   "name": "python",
   "nbconvert_exporter": "python",
   "pygments_lexer": "ipython3",
   "version": "3.11.2"
  }
 },
 "nbformat": 4,
 "nbformat_minor": 5
}
