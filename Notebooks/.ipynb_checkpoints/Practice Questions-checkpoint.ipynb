{
 "cells": [
  {
   "cell_type": "markdown",
   "id": "f862d450",
   "metadata": {},
   "source": [
    "### LeetCode"
   ]
  },
  {
   "cell_type": "markdown",
   "id": "0b78f9b5",
   "metadata": {},
   "source": [
    "#### Q1:\n",
    "88. Merge Sorted Array\n",
    "\n",
    "You are given two integer arrays nums1 and nums2, sorted in non-decreasing order, and two integers m and n, representing the number of elements in nums1 and nums2 respectively.\n",
    "\n",
    "Merge nums1 and nums2 into a single array sorted in non-decreasing order."
   ]
  },
  {
   "cell_type": "code",
   "execution_count": 2,
   "id": "db37bff8",
   "metadata": {},
   "outputs": [
    {
     "name": "stdout",
     "output_type": "stream",
     "text": [
      "[1, 2, 2, 5, 6, 7, 8, 9, 11, 12, 13, 313, 414]\n"
     ]
    }
   ],
   "source": [
    "a = [1,2,5,8,11,313,414]\n",
    "b = [2,6,7,9,12,13]\n",
    "sorted1 = []\n",
    "a_done = 0\n",
    "b_done = 0\n",
    "\n",
    "\n",
    "\n",
    "    \n",
    "while a_done!=len(a) and b_done!=len(b):\n",
    "    if a[a_done] < b[b_done]:\n",
    "     \n",
    "        sorted1.append(a[a_done])\n",
    "        a_done+=1\n",
    "\n",
    "    elif a[a_done] > b[b_done]:\n",
    "\n",
    "        sorted1.append(b[b_done])\n",
    "        b_done+=1\n",
    "      \n",
    "\n",
    "    else:\n",
    "       \n",
    "        sorted1.append(a[a_done])\n",
    "        sorted1.append(b[b_done])\n",
    "        a_done+=1\n",
    "        b_done+=1\n",
    "        \n",
    "        \n",
    "if a_done==len(a):\n",
    "    for i in b[b_done:]:\n",
    "        sorted1.append(i)\n",
    "elif b_done==len(b):\n",
    "    for i in a[a_done:]:\n",
    "        sorted1.append(i)\n",
    "    \n",
    "\n",
    "print(sorted1)\n"
   ]
  },
  {
   "cell_type": "code",
   "execution_count": 11,
   "id": "c0cb0c1c",
   "metadata": {},
   "outputs": [
    {
     "name": "stdout",
     "output_type": "stream",
     "text": [
      "True\n",
      "{'p': [0, 2], 'a': [1], 'e': [3], 'r': [4]} {'t': [0, 2], 'i': [1], 'l': [3], 'e': [4]}\n"
     ]
    }
   ],
   "source": [
    "# Q2:\n",
    "# 205. Isomorphic Strings\n",
    "# Easy\n",
    "# Given two strings s and t, determine if they are isomorphic.\n",
    "# Two strings s and t are isomorphic if the characters in s can be replaced to get t.\n",
    "# All occurrences of a character must be replaced with another character while preserving the order of characters.\n",
    "# No two characters may map to the same character, but a character may map to itself.\n",
    "s = \"paper\"\n",
    "t = \"title\"\n",
    "occ1 = {}\n",
    "occ2 = {}\n",
    "if s!=t:\n",
    "    for i in range(len(s)):\n",
    "        \n",
    "        if s[i] in occ1.keys():\n",
    "            occ1[s[i]].append(i)\n",
    "        else:\n",
    "            occ1[s[i]] = [i]\n",
    "\n",
    "        if t[i] in occ2.keys():\n",
    "            occ2[t[i]].append(i)\n",
    "        else:\n",
    "            occ2[t[i]] = [i]\n",
    "for i,j in zip(occ1.values(),occ2.values()):\n",
    "    if i!=j:\n",
    "        print(False)\n",
    "print(True)\n",
    "print(occ1,occ2)"
   ]
  },
  {
   "cell_type": "markdown",
   "id": "17007331",
   "metadata": {},
   "source": [
    "### Question:\n",
    " Q 1177. Can Make Palindrome from Substring\n",
    "<br>\n",
    "You are given a string s and array queries where queries[i] = [lefti, righti, ki]. \n",
    "<br>\n",
    "We may rearrange the substring s[lefti...righti] for each query and then choose up to ki of them to replace with any lowercase English letter.\n",
    "<br>\n",
    "If the substring is possible to be a palindrome string after the operations above,\n",
    "<br>the result of the query is true. Otherwise, the result is false.\n",
    "\n",
    "Return a boolean array answer where answer[i] is the result of the ith query queries[i].\n",
    "\n",
    "Note that each letter is counted individually for replacement,\n",
    "<br>so if, for example s[lefti...righti] = \"aaa\", and ki = 2,\n",
    "<br>we can only replace two of the letters. Also, note that no query modifies the initial string s.\n",
    "\n",
    " \n",
    "\n",
    "Example :\n",
    "\n",
    "Input: s = \"abcda\", queries = [[3,3,0],[1,2,0],[0,3,1],[0,3,2],[0,4,1]]\n",
    "<br>\n",
    "\n",
    "Output: [true,false,false,true,true]\n",
    "<br>\n",
    "\n",
    "Explanation:\n",
    "<br>\n",
    "queries[0]: substring = \"d\", is palidrome.\n",
    "<br>\n",
    "queries[1]: substring = \"bc\", is not palidrome.\n",
    "<br>\n",
    "queries[2]: substring = \"abcd\", is not palidrome after replacing only 1 character.\n",
    "<br>\n",
    "queries[3]: substring = \"abcd\", could be changed to \"abba\" which is palidrome. Also this can be changed to \"baab\" first rearrange it \"bacd\" then replace \"cd\" with \"ab\".\n",
    "<br>\n",
    "queries[4]: substring = \"abcda\", could be changed to \"abcba\" which is palidrome.\n",
    "<br>\n",
    "<br>\n",
    "<br><br>\n",
    "Example 2:\n",
    "<br>\n",
    "Input: s = \"lyb\", queries = [[0,1,0],[2,2,1]]\n",
    "<br>\n",
    "Output: [false,true]\n",
    "<br>\n"
   ]
  },
  {
   "cell_type": "code",
   "execution_count": 2,
   "id": "8d175868",
   "metadata": {},
   "outputs": [],
   "source": [
    "\n",
    "def canMakePaliQueries(s,queries):\n",
    "    for i in queries:\n",
    "        changes = i[2]\n",
    "        word = s[i[0]:i[1]+1]\n",
    "        left = 0\n",
    "        right = len(word)-1\n",
    "        word =list(word)\n",
    "        t =  True\n",
    "        while left<=right:\n",
    "            if word[left] != word[right]:\n",
    "                if changes == 0:\n",
    "                    res.append(False)\n",
    "                    t = False\n",
    "                    break\n",
    "                else:\n",
    "                    changes -=1\n",
    "            left+=1\n",
    "            right-=1\n",
    "        if t:\n",
    "            res.append(True)\n",
    "\n",
    "    return res\n",
    "\n",
    "\n"
   ]
  },
  {
   "cell_type": "code",
   "execution_count": null,
   "id": "660ae50f",
   "metadata": {},
   "outputs": [],
   "source": []
  }
 ],
 "metadata": {
  "kernelspec": {
   "display_name": "Python 3 (ipykernel)",
   "language": "python",
   "name": "python3"
  },
  "language_info": {
   "codemirror_mode": {
    "name": "ipython",
    "version": 3
   },
   "file_extension": ".py",
   "mimetype": "text/x-python",
   "name": "python",
   "nbconvert_exporter": "python",
   "pygments_lexer": "ipython3",
   "version": "3.11.2"
  }
 },
 "nbformat": 4,
 "nbformat_minor": 5
}
