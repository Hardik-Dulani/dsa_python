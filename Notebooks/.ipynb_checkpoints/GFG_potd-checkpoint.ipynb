{
 "cells": [
  {
   "cell_type": "markdown",
   "id": "a670f40d",
   "metadata": {},
   "source": [
    "### 26th june,2023\n",
    "##### Given two integers n and r, find nCr. Since the answer may be very large, calculate the answer modulo 109+7."
   ]
  },
  {
   "cell_type": "code",
   "execution_count": 6,
   "id": "f4768702",
   "metadata": {},
   "outputs": [
    {
     "data": {
      "text/plain": [
       "432202409"
      ]
     },
     "execution_count": 6,
     "metadata": {},
     "output_type": "execute_result"
    }
   ],
   "source": [
    "def nCr( n, r):\n",
    "        # code here\n",
    "    fact1 = 1\n",
    "    fact2 = 1\n",
    "    fact3 = 1\n",
    "    if r>n :\n",
    "        return 0\n",
    "\n",
    "    if r == n:\n",
    "        return 1\n",
    "    for i in range(1,n+1):\n",
    "        if i <= (n-r):\n",
    "            fact2*=i\n",
    "        fact1*=i\n",
    "        if i<=r:\n",
    "            fact3*=i\n",
    "    return int((fact1//(fact2 * fact3))%1000000007)\n",
    "nCr(69,43)"
   ]
  },
  {
   "cell_type": "code",
   "execution_count": null,
   "id": "57805314",
   "metadata": {},
   "outputs": [],
   "source": []
  }
 ],
 "metadata": {
  "kernelspec": {
   "display_name": "Python 3 (ipykernel)",
   "language": "python",
   "name": "python3"
  },
  "language_info": {
   "codemirror_mode": {
    "name": "ipython",
    "version": 3
   },
   "file_extension": ".py",
   "mimetype": "text/x-python",
   "name": "python",
   "nbconvert_exporter": "python",
   "pygments_lexer": "ipython3",
   "version": "3.11.2"
  }
 },
 "nbformat": 4,
 "nbformat_minor": 5
}
