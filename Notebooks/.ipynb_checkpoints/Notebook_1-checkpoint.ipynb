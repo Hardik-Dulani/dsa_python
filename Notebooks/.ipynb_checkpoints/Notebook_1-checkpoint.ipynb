{
 "cells": [
  {
   "cell_type": "code",
   "execution_count": null,
   "id": "ecd91810",
   "metadata": {},
   "outputs": [],
   "source": [
    "\n",
    "sys.stdout = open('user.out', 'w')\n",
    "\n",
    "for nums in map(loads, sys.stdin):\n",
    "    loc_max = glo_max = 0\n",
    "    for i in nums:\n",
    "        if i == 1:\n",
    "            loc_max += 1\n",
    "        else:\n",
    "            glo_max = max(glo_max, loc_max)\n",
    "            loc_max = 0\n",
    "    res = max(glo_max, loc_max)\n",
    "    print(dumps(res).replace(' ', ''))\n",
    "\n",
    "exit()"
   ]
  },
  {
   "cell_type": "markdown",
   "id": "2bba6cb9",
   "metadata": {},
   "source": [
    "\n",
    "### 1st Programme in DSA"
   ]
  },
  {
   "cell_type": "markdown",
   "id": "9e10bcba",
   "metadata": {},
   "source": [
    "#### Q1: Check if a string is a palindrome and calculate it's space and time complexity"
   ]
  },
  {
   "cell_type": "code",
   "execution_count": 1,
   "id": "7183c44a",
   "metadata": {},
   "outputs": [
    {
     "data": {
      "text/plain": [
       "True"
      ]
     },
     "execution_count": 1,
     "metadata": {},
     "output_type": "execute_result"
    }
   ],
   "source": [
    "def palindrome(string):\n",
    "    string = string.lower()\n",
    "    count = 0\n",
    "    for i in range(len(string)//2):\n",
    "        if string[i]==string[-i-1]:\n",
    "            count+=1\n",
    "    if count == len(string)//2:\n",
    "        return True\n",
    "    return False\n",
    "            \n",
    "# time complexity : 1 + 1 + n/2 + n/2 + 1 = n+3 => O(n)\n",
    "# space complexity: string(n) + count(1) + i(1) = n+2 => O(n)\n",
    "# where n is the length of string given\n",
    "palindrome(\"Racecar\")"
   ]
  },
  {
   "cell_type": "markdown",
   "id": "d3f5b032",
   "metadata": {},
   "source": [
    "#### Q2: Make pattern"
   ]
  },
  {
   "cell_type": "code",
   "execution_count": 2,
   "id": "57846136",
   "metadata": {},
   "outputs": [
    {
     "name": "stdout",
     "output_type": "stream",
     "text": [
      "\n",
      "1\n",
      "11\n",
      "111\n",
      "1111\n"
     ]
    }
   ],
   "source": [
    "def triangleOne(n):\n",
    "    for i in range(n):\n",
    "        for j in range(i):\n",
    "            print(1,end=\"\")\n",
    "        print()\n",
    "triangleOne(5)\n",
    "    "
   ]
  },
  {
   "cell_type": "markdown",
   "id": "4baaecee",
   "metadata": {},
   "source": [
    "### Q3\n",
    "Given 2 sorted arrays (in increasing order), find a path through the intersections that produces maximum sum and return the maximum sum.\n",
    "That is, we can switch from one array to another array only at common elements.\n",
    "If no intersection element is present, we need to take sum of all elements from the array with greater sum.\n",
    "Input Format :\n",
    " Line 1 : An integer M i.e. size of first array\n",
    " Line 2 : M integers which are elements of first array, separated by spaces\n",
    " Line 3 : An integer N i.e. size of second array\n",
    " Line 4 : N integers which are elements of second array, separated by spaces"
   ]
  },
  {
   "cell_type": "code",
   "execution_count": 91,
   "id": "3eb4c4ff",
   "metadata": {},
   "outputs": [
    {
     "name": "stdout",
     "output_type": "stream",
     "text": [
      "9\n",
      "5\n",
      "24\n",
      "20\n",
      "84\n"
     ]
    },
    {
     "data": {
      "text/plain": [
       "(167, [5, 15, 20])"
      ]
     },
     "execution_count": 91,
     "metadata": {},
     "output_type": "execute_result"
    }
   ],
   "source": [
    "def max_sum(arr1,arr2):\n",
    "    i = 0\n",
    "    ite = min(len(arr1),len(arr2))\n",
    "    points = []\n",
    "    for i in range(ite):\n",
    "        var1 = arr1[i]\n",
    "        var2 = arr2[i]\n",
    "        if (var1 in arr2) and var1 not in points:\n",
    "            \n",
    "            points.append(var1)\n",
    "        elif (var2 in arr1) and var2 not in points:\n",
    "            points.append(var2)\n",
    "        \n",
    "            \n",
    "    \n",
    "    \n",
    "    \n",
    "    sums1 = []\n",
    "    current1 = 0\n",
    "    for i1 in arr1:\n",
    "        current1+=i1\n",
    "        if i1 in points or arr1.index(i1)==len(arr1)-1 :\n",
    "            sums1.append(current1)\n",
    "            current1=0\n",
    "    \n",
    "    sums2 = []\n",
    "    current2 = 0\n",
    "    for i2 in arr2:\n",
    "        current2+=i2\n",
    "        if i2 in points or arr2.index(i2)==len(arr2)-1 :\n",
    "            sums2.append(current2)\n",
    "            current2=0\n",
    "   \n",
    "    final = 0\n",
    "    if max(len(sums1),len(sums2)) == len(sums1):\n",
    "        iter_ = sums1\n",
    "        lim = len(sums2)\n",
    "    else:\n",
    "        iter_ = sums2\n",
    "        lim = len(sums1)\n",
    "    counter = 0\n",
    "    for i in iter_:\n",
    "        if counter < lim:\n",
    "            final+= max(sums1[counter],sums2[counter])\n",
    "            print(i)\n",
    "        else:\n",
    "            final+= i\n",
    "            print(i)\n",
    "        counter+=1\n",
    "            \n",
    "            \n",
    "    return final,points\n",
    "        \n",
    "        \n",
    "max_sum([0,4,5,5,9,15,20,34,50],[1,5,10,15,20,25])\n",
    "\n"
   ]
  },
  {
   "cell_type": "code",
   "execution_count": 22,
   "id": "fcb9aa78",
   "metadata": {},
   "outputs": [
    {
     "name": "stdout",
     "output_type": "stream",
     "text": [
      "0\n",
      "0\n"
     ]
    }
   ],
   "source": [
    "a = \"11\"\n",
    "b =  \"1\"\n",
    "res = \"\"\n",
    "a,b=list(a),list(b)\n",
    "for i in range(len(a)-1,-1,-1):\n",
    "    \n",
    "    try:\n",
    "        \n",
    "        if int(a[i])+ int(b[i]) !=1:\n",
    "\n",
    "            res =\"0\"+ res\n",
    "            if a[i-1] ==\"0\":\n",
    "                a[i-1]=1\n",
    "            if a[i-1] ==\"1\":\n",
    "                a[i-1]=0\n",
    "        else:\n",
    "            \n",
    "            res=\"1\"+res\n",
    "    except:\n",
    "        \n",
    "        pass\n",
    "    \n",
    "print(res)"
   ]
  },
  {
   "cell_type": "code",
   "execution_count": 27,
   "id": "e398b189",
   "metadata": {},
   "outputs": [
    {
     "data": {
      "text/plain": [
       "'00001'"
      ]
     },
     "execution_count": 27,
     "metadata": {},
     "output_type": "execute_result"
    }
   ],
   "source": [
    "x = \"11111\"\n",
    "y = \"1\"\n",
    "max_len = max(len(x), len(y))\n",
    "y.zfill(max_len)"
   ]
  },
  {
   "cell_type": "code",
   "execution_count": 24,
   "id": "b63d5990",
   "metadata": {},
   "outputs": [
    {
     "data": {
      "text/plain": [
       "2"
      ]
     },
     "execution_count": 24,
     "metadata": {},
     "output_type": "execute_result"
    }
   ],
   "source": [
    "max_len\n"
   ]
  },
  {
   "cell_type": "code",
   "execution_count": 22,
   "id": "1770a187",
   "metadata": {},
   "outputs": [
    {
     "name": "stdout",
     "output_type": "stream",
     "text": [
      "Prime numbers between 4 and 30:\n",
      "[5, 7, 11, 13, 17, 19, 23, 29]\n",
      "\n",
      "Prime pairs with a difference of 6:\n",
      "(5, 11)\n",
      "(7, 13)\n",
      "(11, 17)\n",
      "(13, 19)\n",
      "(17, 23)\n",
      "(23, 29)\n"
     ]
    }
   ],
   "source": [
    "def prime_optimized(n):\n",
    "    primes = [True] * (n + 1)\n",
    "    primes[0] = primes[1] = False\n",
    "\n",
    "    p = 2\n",
    "    while p * p <= n:\n",
    "        if primes[p]:\n",
    "            for i in range(p * p, n + 1, p):\n",
    "                primes[i] = False\n",
    "        p += 1\n",
    "\n",
    "    return [num for num, is_prime in enumerate(primes) if is_prime]\n",
    "\n",
    "\n",
    "def find_prime_pairs(numbers):\n",
    "    prime_pairs = []\n",
    "    for i in range(len(numbers)):\n",
    "        for j in range(i + 1, len(numbers)):\n",
    "            if numbers[j] - numbers[i] == 6:\n",
    "                prime_pairs.append((numbers[i], numbers[j]))\n",
    "    return prime_pairs\n",
    "\n",
    "\n",
    "# Find prime numbers between 4 and 30\n",
    "primes = prime_optimized(30)\n",
    "primes = [num for num in primes if num >= 4]\n",
    "\n",
    "print(\"Prime numbers between 4 and 30:\")\n",
    "print(primes)\n",
    "\n",
    "# Find prime pairs with a difference of 6\n",
    "pairs = find_prime_pairs(primes)\n",
    "\n",
    "print(\"\\nPrime pairs with a difference of 6:\")\n",
    "for pair in pairs:\n",
    "    print(pair)\n"
   ]
  },
  {
   "cell_type": "code",
   "execution_count": 3,
   "id": "25048f80",
   "metadata": {},
   "outputs": [],
   "source": [
    "def stair_climb_ways(n):\n",
    "    a = 0 \n",
    "    b = 1\n",
    "    if n == 0:\n",
    "        return 0\n",
    "    elif n == 1:\n",
    "        return 1\n",
    "    for i in range(2,n+2):\n",
    "        c = a+b\n",
    "        a = b\n",
    "        b = c\n",
    "    return c"
   ]
  },
  {
   "cell_type": "code",
   "execution_count": 7,
   "id": "7ea77ae5",
   "metadata": {},
   "outputs": [
    {
     "data": {
      "text/plain": [
       "2"
      ]
     },
     "execution_count": 7,
     "metadata": {},
     "output_type": "execute_result"
    }
   ],
   "source": [
    "stair_climb_ways(2)"
   ]
  },
  {
   "cell_type": "code",
   "execution_count": 45,
   "id": "9d3b52cb",
   "metadata": {},
   "outputs": [
    {
     "name": "stdout",
     "output_type": "stream",
     "text": [
      "a\n",
      "else\n",
      "a\n",
      "b\n",
      "b\n",
      "a\n",
      "b\n",
      "a\n",
      "b\n",
      "b\n",
      "[1, 2, 2, 5, 6, 7, 8, 9, 11, 12, 13, 313, 414]\n"
     ]
    }
   ],
   "source": [
    "a = [1,2,5,8,11,313,414]\n",
    "b = [2,6,7,9,12,13]\n",
    "sorted1 = []\n",
    "a_done = 0\n",
    "b_done = 0\n",
    "\n",
    "\n",
    "\n",
    "    \n",
    "while a_done!=len(a) and b_done!=len(b):\n",
    "    if a[a_done] < b[b_done]:\n",
    "     \n",
    "        sorted1.append(a[a_done])\n",
    "        a_done+=1\n",
    "\n",
    "    elif a[a_done] > b[b_done]:\n",
    "\n",
    "        sorted1.append(b[b_done])\n",
    "        b_done+=1\n",
    "      \n",
    "\n",
    "    else:\n",
    "        print('else')\n",
    "        sorted1.append(a[a_done])\n",
    "        sorted1.append(b[b_done])\n",
    "        a_done+=1\n",
    "        b_done+=1\n",
    "        \n",
    "        \n",
    "if a_done==len(a):\n",
    "    for i in b[b_done:]:\n",
    "        sorted1.append(i)\n",
    "elif b_done==len(b):\n",
    "    for i in a[a_done:]:\n",
    "        sorted1.append(i)\n",
    "    \n",
    "\n",
    "print(sorted1)\n"
   ]
  },
  {
   "cell_type": "code",
   "execution_count": 9,
   "id": "db4be9ce",
   "metadata": {},
   "outputs": [
    {
     "data": {
      "text/plain": [
       "[9, 17, 18, 25, 27, 31, 33, 58, 59, 65, 72, 74, 79, 81, 84, 91]"
      ]
     },
     "execution_count": 9,
     "metadata": {},
     "output_type": "execute_result"
    }
   ],
   "source": [
    "costs = [31,25,72,79,74,65,84,91,18,59,27,9,81,33,17,58]\n",
    "costs.sort()\n",
    "costs\n",
    "# print(len(costs))\n",
    "# k=11\n",
    "# candidates = 2\n",
    "# res = 0\n",
    "        \n",
    "# for i in range(k):\n",
    "#     res += min(costs)\n",
    "\n",
    "#     costs.remove(min(costs))\n"
   ]
  },
  {
   "cell_type": "code",
   "execution_count": 33,
   "id": "f5e0650f",
   "metadata": {},
   "outputs": [
    {
     "name": "stdout",
     "output_type": "stream",
     "text": [
      "1 ['Piatti']\n"
     ]
    }
   ],
   "source": [
    "list1 = [\"Shogun\",\"Piatti\",\"Tapioca Express\",\"Burger King\",\"KFC\"]\n",
    "list2 = [\"Piatti\",\"The Grill at Torrey Pines\",\"Hungry Hunter Steakhouse\",\"Shogun\"]\n",
    "\n",
    "\n",
    "if len(list1) >= len(list2):\n",
    "    longer = list1\n",
    "    shorter = list2 \n",
    "else:\n",
    "    longer = list2\n",
    "    shorter = list1\n",
    "\n",
    "    \n",
    "    \n",
    "res = float('inf')\n",
    "final = []\n",
    "\n",
    "sum1 = shorter.index(longer[0])\n",
    "\n",
    "\n",
    "for i in longer:\n",
    "    if i in shorter:\n",
    "        sum_Index = longer.index(i)+shorter.index(i)\n",
    "        if (sum_Index<=res):\n",
    "            final.append(i)\n",
    "            res = sum_Index\n",
    "            \n",
    "if res<sum1:\n",
    "    del final[0]\n",
    "print(res,final)\n",
    "\n",
    "        "
   ]
  },
  {
   "cell_type": "code",
   "execution_count": 1,
   "id": "de2b7742",
   "metadata": {},
   "outputs": [
    {
     "name": "stdout",
     "output_type": "stream",
     "text": [
      "['Alaska', 'Dad']\n"
     ]
    }
   ],
   "source": [
    "row1 = \"qwertyuiop\"\n",
    "row2 = \"asdfghjkl\"\n",
    "row3 = \"zxcvbnm\"\n",
    "res= []\n",
    "words=  [\"Hello\",\"Alaska\",\"Dad\",\"Peace\"]\n",
    "for i in words:\n",
    "    i = i.lower()\n",
    "    count1 = 0\n",
    "    count2 = 0\n",
    "    count3 = 0\n",
    "    for j in i:\n",
    "        if j in row1:\n",
    "            count1+=1\n",
    "        elif j in row2:\n",
    "            count2+=1\n",
    "        elif j in row3:\n",
    "            count3+=1\n",
    "    if count1 == len(i) or count2 == len(i) or count3 == len(i):\n",
    "        res.append(i.capitalize())\n",
    "print(res)"
   ]
  },
  {
   "cell_type": "code",
   "execution_count": 8,
   "id": "81ba739d",
   "metadata": {},
   "outputs": [],
   "source": [
    "def restoreString(s, indices):\n",
    "        \"\"\"\n",
    "        :type s: str\n",
    "        :type indices: List[int]\n",
    "        :rtype: str\n",
    "        \"\"\"\n",
    "        shuffled = [0]* len(s)\n",
    "        for i in range(len(s)):\n",
    "            shuffled[indices[i]]=s[i]\n",
    "            \n",
    "        return \"\".join(shuffled)"
   ]
  },
  {
   "cell_type": "code",
   "execution_count": 2,
   "id": "408c09e3",
   "metadata": {},
   "outputs": [],
   "source": [
    "s = \"codeleet\"\n",
    "indices = [4,5,6,7,0,2,1,3,1,2,5,2,1,1,1,0]"
   ]
  },
  {
   "cell_type": "code",
   "execution_count": 16,
   "id": "863e09dc",
   "metadata": {},
   "outputs": [
    {
     "name": "stdout",
     "output_type": "stream",
     "text": [
      "0 l\n",
      "1 e\n",
      "2 e\n",
      "3 t\n",
      "4 c\n",
      "5 o\n",
      "6 d\n",
      "7 e\n"
     ]
    }
   ],
   "source": [
    "for i,j in sorted(list(zip(indices,s))):\n",
    "    print(i,j)"
   ]
  },
  {
   "cell_type": "code",
   "execution_count": 5,
   "id": "04b3a568",
   "metadata": {},
   "outputs": [],
   "source": [
    "from collections import Counter\n",
    "x = Counter(indices)"
   ]
  },
  {
   "cell_type": "code",
   "execution_count": 9,
   "id": "c181570e",
   "metadata": {},
   "outputs": [
    {
     "name": "stdout",
     "output_type": "stream",
     "text": [
      "4\n",
      "5\n",
      "5\n",
      "6\n",
      "7\n",
      "0\n",
      "0\n",
      "2\n",
      "2\n",
      "2\n",
      "1\n",
      "1\n",
      "1\n",
      "1\n",
      "1\n",
      "3\n"
     ]
    }
   ],
   "source": [
    "for i in x.elements():\n",
    "    print(i)"
   ]
  },
  {
   "cell_type": "code",
   "execution_count": 15,
   "id": "de842b65",
   "metadata": {},
   "outputs": [
    {
     "name": "stdout",
     "output_type": "stream",
     "text": [
      "['ab', 'cd', 'ef']\n"
     ]
    }
   ],
   "source": [
    "from collections import Counter\n",
    "\n",
    "def remove_anagrams(words):\n",
    "    \n",
    "    # List to store the final result\n",
    "    result = []\n",
    "\n",
    "    for word in words:\n",
    "        \n",
    "        # Generate the frequency count of the current word\n",
    "        current_freq = Counter(word)\n",
    "        \n",
    "\n",
    "        # Check if the word is an anagram of any previous word\n",
    "        is_anagram = False\n",
    "        \n",
    "        if result!=[] and Counter(result[-1]) == current_freq:\n",
    "            is_anagram = True\n",
    "            \n",
    "\n",
    "        # If the word is not an anagram, add it to the result\n",
    "        if not is_anagram:\n",
    "            result.append(word)\n",
    "\n",
    "    return result\n",
    "\n",
    "\n",
    "# Example usage\n",
    "words = [\"ab\", \"ba\", \"cd\", \"dc\", \"ef\", \"fe\"]\n",
    "result = remove_anagrams(words)\n",
    "print(result)\n"
   ]
  },
  {
   "cell_type": "code",
   "execution_count": 11,
   "id": "bb35726c",
   "metadata": {},
   "outputs": [
    {
     "data": {
      "text/plain": [
       "Counter({'ab': 1, 'ba': 1, 'cd': 1, 'dc': 1, 'ef': 1, 'fe': 1})"
      ]
     },
     "execution_count": 11,
     "metadata": {},
     "output_type": "execute_result"
    }
   ],
   "source": [
    "Counter(words)"
   ]
  },
  {
   "cell_type": "code",
   "execution_count": 17,
   "id": "e3815df6",
   "metadata": {},
   "outputs": [],
   "source": [
    "words = [\"abcw\",\"baz\",\"foo\",\"bar\",\"xtfn\",\"abcdef\"]\n",
    "# Output: 16\n",
    "# Explanation: The two words can be \"abcw\", \"xtfn\".\n"
   ]
  },
  {
   "cell_type": "code",
   "execution_count": 21,
   "id": "4a0ae004",
   "metadata": {},
   "outputs": [
    {
     "data": {
      "text/plain": [
       "['abcdef', 'xtfn', 'abcw', 'bar', 'foo', 'baz']"
      ]
     },
     "execution_count": 21,
     "metadata": {},
     "output_type": "execute_result"
    }
   ],
   "source": [
    "\n"
   ]
  },
  {
   "cell_type": "code",
   "execution_count": 36,
   "id": "47cd5efa",
   "metadata": {},
   "outputs": [
    {
     "name": "stdout",
     "output_type": "stream",
     "text": [
      "16\n"
     ]
    }
   ],
   "source": [
    "new= sorted(words,key =len)[::-1]\n",
    "res = 0\n",
    "for i in range(len(new)):\n",
    "    ref = new[i]\n",
    "    for j in new[i+1:]:\n",
    "#         print(ref,j)\n",
    "        count1= 0\n",
    "        for k in j:\n",
    "            if k not in ref:\n",
    "                count1+=1\n",
    "        if len(j)==count1:\n",
    "            res=max(res,len(ref)*len(j))\n",
    "            break\n",
    "        \n",
    "            \n",
    "print(res)"
   ]
  },
  {
   "cell_type": "code",
   "execution_count": 15,
   "id": "9392a474",
   "metadata": {},
   "outputs": [
    {
     "data": {
      "text/plain": [
       "['951 com',\n",
       " '901 mail.com',\n",
       " '900 google.mail.com',\n",
       " '50 yahoo.com',\n",
       " '1 intel.mail.com',\n",
       " '5 org',\n",
       " '5 wiki.org']"
      ]
     },
     "execution_count": 15,
     "metadata": {},
     "output_type": "execute_result"
    }
   ],
   "source": [
    "from collections import defaultdict\n",
    "cpdomains = [\"900 google.mail.com\", \"50 yahoo.com\", \"1 intel.mail.com\", \"5 wiki.org\"]\n",
    "count1 = defaultdict(int)\n",
    "for i in cpdomains:\n",
    "    c,p = i.split(\" \")\n",
    "    for j in range(len(p)-1,-1,-1):\n",
    "        if p[j] ==\".\":\n",
    "            count1[p[j+1::]] += int(c)\n",
    "        elif j == 0:\n",
    "            count1[p] +=int(c)\n",
    "            \n",
    "res= []\n",
    "for i,j in count1.items():\n",
    "    res.append(str(j) +\" \"+i)\n",
    "res"
   ]
  },
  {
   "cell_type": "code",
   "execution_count": 16,
   "id": "3eef6093",
   "metadata": {},
   "outputs": [
    {
     "name": "stdout",
     "output_type": "stream",
     "text": [
      "fvsrmkyarfaxwvwqedendanibhhfdlgdlfemiyrnlxhnifuaxd\n"
     ]
    }
   ],
   "source": [
    "def find_replace_string(s, indices, sources, targets):\n",
    "    replacements = sorted(zip(indices, sources, targets), reverse=True)\n",
    "    for index, source, target in replacements:\n",
    "        if s[index:index + len(source)] == source:\n",
    "            s = s[:index] + target + s[index + len(source):]\n",
    "    return s\n",
    "s = \"fvokzonyhukpwbnkomdianhirsvdulhsfseaqzktupyeverfsd\"\n",
    "indices = [26, 30, 38, 2, 41, 10, 8, 44, 19, 4, 13, 28, 21, 35, 23, 16]\n",
    "sources = [\"vd\", \"hsfs\", \"ktu\", \"ok\", \"pye\", \"kp\", \"hu\", \"verfs\", \"ia\", \"zon\", \"bnk\", \"ul\", \"nh\", \"aqz\", \"irs\", \"om\"]\n",
    "targets = [\"h\", \"gdlf\", \"nl\", \"sr\", \"xhn\", \"ax\", \"arf\", \"ifuax\", \"a\", \"mk\", \"vwqe\", \"fdl\", \"n\", \"miyr\", \"ibh\", \"den\"]\n",
    "\n",
    "replaced_string = find_replace_string(s, indices, sources, targets)\n",
    "print(replaced_string)\n"
   ]
  },
  {
   "cell_type": "code",
   "execution_count": 80,
   "id": "eed1001f",
   "metadata": {},
   "outputs": [
    {
     "data": {
      "text/plain": [
       "'q'"
      ]
     },
     "execution_count": 80,
     "metadata": {},
     "output_type": "execute_result"
    }
   ],
   "source": [
    "s = \"z\"\n",
    "shifts = [24]\n",
    "for i in range(len(shifts)):\n",
    "    ref = s[:i+1]\n",
    "    new = \"\"\n",
    "    for j in ref:\n",
    "        r = ord(j)+shifts[i]\n",
    "        \n",
    "        r= 97+( r%26)\n",
    "        \n",
    "            \n",
    "        new+= chr(r)\n",
    "    s = s.replace(ref,new,1)\n",
    "s"
   ]
  },
  {
   "cell_type": "code",
   "execution_count": 121,
   "id": "e6a95e27",
   "metadata": {},
   "outputs": [],
   "source": [
    "words = [\"abc\",\"deq\",\"mee\",\"aqq\",\"dkd\",\"ccc\"]\n",
    "pattern = \"abb\"\n",
    "res = []\n",
    "\n",
    "for value in pattern:\n",
    "    ref = 0\n",
    "    if value not in zip(*res):\n",
    "        ref+=1\n",
    "        res.append((value,ref))\n",
    "        \n"
   ]
  },
  {
   "cell_type": "code",
   "execution_count": 122,
   "id": "b448d1c5",
   "metadata": {},
   "outputs": [
    {
     "data": {
      "text/plain": [
       "[('a', 1), ('b', 1), ('b', 1)]"
      ]
     },
     "execution_count": 122,
     "metadata": {},
     "output_type": "execute_result"
    }
   ],
   "source": [
    "res"
   ]
  },
  {
   "cell_type": "code",
   "execution_count": 128,
   "id": "b181430f",
   "metadata": {},
   "outputs": [
    {
     "data": {
      "text/plain": [
       "[1, 2, 3, inf]"
      ]
     },
     "execution_count": 128,
     "metadata": {},
     "output_type": "execute_result"
    }
   ],
   "source": [
    "a = [1,2,3,float('inf')]\n",
    "sorted(a)"
   ]
  },
  {
   "cell_type": "code",
   "execution_count": 126,
   "id": "7de2b7b3",
   "metadata": {},
   "outputs": [
    {
     "data": {
      "text/plain": [
       "'[1, 2, 3, inf]'"
      ]
     },
     "execution_count": 126,
     "metadata": {},
     "output_type": "execute_result"
    }
   ],
   "source": []
  },
  {
   "cell_type": "code",
   "execution_count": 132,
   "id": "ce4888e3",
   "metadata": {},
   "outputs": [
    {
     "data": {
      "text/plain": [
       "1"
      ]
     },
     "execution_count": 132,
     "metadata": {},
     "output_type": "execute_result"
    }
   ],
   "source": [
    "a.count(float('inf'))"
   ]
  },
  {
   "cell_type": "code",
   "execution_count": 135,
   "id": "a2737c61",
   "metadata": {},
   "outputs": [
    {
     "name": "stdout",
     "output_type": "stream",
     "text": [
      "2\n"
     ]
    },
    {
     "data": {
      "text/plain": [
       "[2, 2, 1000000000, 1000000000]"
      ]
     },
     "execution_count": 135,
     "metadata": {},
     "output_type": "execute_result"
    }
   ],
   "source": [
    "nums = [3,2,2,3]\n",
    "val =3\n",
    "for i in range(len(nums)):\n",
    "    if nums[i] == val:\n",
    "        nums[i] = 1000000000\n",
    "nums = sorted(nums)\n",
    "print(len(nums)-nums.count(1000000000))\n",
    "nums"
   ]
  },
  {
   "cell_type": "code",
   "execution_count": 20,
   "id": "d67b655b",
   "metadata": {},
   "outputs": [
    {
     "data": {
      "text/plain": [
       "[0, 1, 1, 0, 1, 5, 6]"
      ]
     },
     "execution_count": 20,
     "metadata": {},
     "output_type": "execute_result"
    }
   ],
   "source": [
    "def findOcc(s):\n",
    "    l1 = []\n",
    "\n",
    "    \n",
    "    seen = []\n",
    "    for i in range(len(s)):\n",
    "        if s[i] not in seen:\n",
    "            seen.append(s[i])\n",
    "            l1.append(i)\n",
    "        else:\n",
    "            l1.append(seen.index(s[i]))\n",
    "    return l1\n",
    "findOcc('abbabcd')\n",
    "\n",
    "findOcc('errerty')"
   ]
  },
  {
   "cell_type": "code",
   "execution_count": 23,
   "id": "a7ac16d6",
   "metadata": {},
   "outputs": [
    {
     "data": {
      "text/plain": [
       "'0110'"
      ]
     },
     "execution_count": 23,
     "metadata": {},
     "output_type": "execute_result"
    }
   ],
   "source": [
    "count = 0\n",
    "pattern = 'abba'\n",
    "for p in pattern:\n",
    "    pattern = pattern.replace(p, str(count))\n",
    "    count += 1\n",
    "return pattern"
   ]
  },
  {
   "cell_type": "code",
   "execution_count": 28,
   "id": "bac43043",
   "metadata": {},
   "outputs": [],
   "source": [
    "def canMakePaliQueries(s,queries):\n",
    "    \n",
    "    res = []\n",
    "    for i in queries:\n",
    "        changes = i[2]\n",
    "        word = s[i[0]:i[1]+1]\n",
    "        left = 0\n",
    "        right = len(word)-1\n",
    "        word =list(word)\n",
    "        t =  True\n",
    "        while left<=right:\n",
    "            if word[left] != word[right]:\n",
    "                if changes == 0:\n",
    "                    res.append(False)\n",
    "                    t = False\n",
    "                    break\n",
    "                else:\n",
    "                    changes -=1\n",
    "            left+=1\n",
    "            right-=1\n",
    "        if t:\n",
    "            res.append(True)\n",
    "\n",
    "    return res\n"
   ]
  },
  {
   "cell_type": "code",
   "execution_count": 29,
   "id": "f754856c",
   "metadata": {},
   "outputs": [
    {
     "data": {
      "text/plain": [
       "[True,\n",
       " False,\n",
       " True,\n",
       " True,\n",
       " True,\n",
       " True,\n",
       " True,\n",
       " False,\n",
       " True,\n",
       " False,\n",
       " True,\n",
       " False,\n",
       " True]"
      ]
     },
     "execution_count": 29,
     "metadata": {},
     "output_type": "execute_result"
    }
   ],
   "source": [
    "s = \"hunu\"\n",
    "queries =[[1,1,1],[2,3,0],[3,3,1],[0,3,2],[1,3,3],[2,3,1],[3,3,1],[0,3,0],[1,1,1],[2,3,0],[3,3,1],[0,3,1],[1,1,1]]\n",
    "canMakePaliQueries(s,queries)"
   ]
  },
  {
   "cell_type": "code",
   "execution_count": 41,
   "id": "4ddb7783",
   "metadata": {},
   "outputs": [],
   "source": [
    "def vowelStrings(words,queries):\n",
    "    s=\"aeiou\"\n",
    "    ref=\"\"\n",
    "    final = []\n",
    "    for word in words:\n",
    "        if word[0] in s and word[-1] in s:\n",
    "            ref+='1'\n",
    "        else:\n",
    "            ref+='0'\n",
    "    \n",
    "    for i,j in queries:\n",
    "        print(i,j)\n",
    "#         a = ref[query[0]:query[1]+1].count('1')\n",
    "#         final.append(a)\n",
    "    return final"
   ]
  },
  {
   "cell_type": "code",
   "execution_count": 42,
   "id": "76cf4900",
   "metadata": {},
   "outputs": [
    {
     "name": "stdout",
     "output_type": "stream",
     "text": [
      "0 2\n",
      "1 4\n",
      "1 1\n"
     ]
    },
    {
     "data": {
      "text/plain": [
       "[]"
      ]
     },
     "execution_count": 42,
     "metadata": {},
     "output_type": "execute_result"
    }
   ],
   "source": [
    "vowelStrings( [\"aba\",\"bcb\",\"ece\",\"aa\",\"e\"],   [[0,2],[1,4],[1,1]])"
   ]
  },
  {
   "cell_type": "code",
   "execution_count": 41,
   "id": "b61b636e",
   "metadata": {},
   "outputs": [],
   "source": [
    "\n",
    "def invalidTransactions(transactions):\n",
    "\n",
    "    \"\"\"\n",
    "    :type transactions: List[str]\n",
    "    :rtype: List[str]\n",
    "    \"\"\"\n",
    "    invalids = []\n",
    "    new1 = []\n",
    "    for i in transactions:\n",
    "        ref = i.split(\",\")\n",
    "        if int(ref[2])>1000:\n",
    "            invalids.append(i)\n",
    "        new1.append(ref)\n",
    "\n",
    "    for i in range(len(new1)):\n",
    "        a = \",\".join(new1[i])\n",
    "\n",
    "        for j in range(len(new1)):\n",
    "\n",
    "            if j!=i and new1[i][0]==new1[j][0] and abs(int(new1[i][1])-int(new1[j][1]))<60 and a not in invalids and new1[i][3]!=new1[j][3]: \n",
    "                for i in range(transactions.count(a)):\n",
    "                    invalids.append(a)\n",
    "\n",
    "\n",
    "    return invalids"
   ]
  },
  {
   "cell_type": "code",
   "execution_count": 42,
   "id": "2d895d87",
   "metadata": {},
   "outputs": [
    {
     "data": {
      "text/plain": [
       "['maybe,115,1973,madrid',\n",
       " 'alex,242,1710,milan',\n",
       " 'chalicefy,281,1586,warsaw',\n",
       " 'lee,405,1230,hongkong',\n",
       " 'lee,456,1440,tokyo',\n",
       " 'chalicefy,286,1071,amsterdam',\n",
       " 'iris,195,1825,tokyo',\n",
       " 'lee,162,1239,budapest',\n",
       " 'alex,52,1575,munich',\n",
       " 'bob,533,1407,amsterdam',\n",
       " 'chalicefy,31,1119,newdelhi',\n",
       " 'bob,286,1694,dubai',\n",
       " 'maybe,474,1606,prague',\n",
       " 'maybe,333,1264,budapest',\n",
       " 'chalicefy,587,1112,singapore',\n",
       " 'iris,824,1962,beijing',\n",
       " 'alex,639,1473,zurich',\n",
       " 'chalicefy,585,1313,frankfurt',\n",
       " 'chalicefy,706,1982,jakarta',\n",
       " 'iris,913,1501,warsaw',\n",
       " 'iris,846,1176,warsaw',\n",
       " 'maybe,885,1900,shanghai',\n",
       " 'lee,717,1447,shanghai',\n",
       " 'xnova,328,1710,rome',\n",
       " 'alex,218,1411,zurich',\n",
       " 'chalicefy,544,1296,shenzhen',\n",
       " 'bob,55,173,barcelona',\n",
       " 'lee,113,952,zurich',\n",
       " 'chalicefy,229,283,istanbul',\n",
       " 'bob,24,874,shanghai',\n",
       " 'alex,568,412,tokyo',\n",
       " 'iris,722,879,shenzhen',\n",
       " 'maybe,246,778,bangkok',\n",
       " 'iris,631,991,hongkong',\n",
       " 'chalicefy,500,620,tokyo',\n",
       " 'iris,905,180,barcelona',\n",
       " 'iris,689,389,paris',\n",
       " 'lee,58,709,amsterdam',\n",
       " 'xnova,717,546,guangzhou',\n",
       " 'maybe,78,435,shenzhen',\n",
       " 'maybe,333,145,hongkong',\n",
       " 'alex,55,271,shanghai',\n",
       " 'bob,91,273,warsaw',\n",
       " 'maybe,305,882,chicago',\n",
       " 'lee,443,47,chicago',\n",
       " 'chalicefy,958,840,budapest',\n",
       " 'lee,621,491,tokyo',\n",
       " 'chalicefy,866,622,rome',\n",
       " 'lee,968,164,moscow',\n",
       " 'maybe,903,29,barcelona',\n",
       " 'maybe,851,648,beijing',\n",
       " 'lee,48,655,chicago',\n",
       " 'maybe,378,25,toronto',\n",
       " 'lee,922,691,munich',\n",
       " 'maybe,411,903,taipei',\n",
       " 'lee,651,112,guangzhou',\n",
       " 'lee,664,506,dubai',\n",
       " 'chalicefy,704,924,milan',\n",
       " 'maybe,428,437,moscow',\n",
       " 'lee,721,366,newdelhi',\n",
       " 'chalicefy,834,489,istanbul',\n",
       " 'xnova,730,759,beijing',\n",
       " 'alex,69,892,montreal',\n",
       " 'lee,77,91,barcelona',\n",
       " 'lee,722,611,taipei',\n",
       " 'chalicefy,743,584,luxembourg',\n",
       " 'xnova,683,322,istanbul',\n",
       " 'chalicefy,60,861,prague',\n",
       " 'chalicefy,77,870,shenzhen',\n",
       " 'bob,873,69,zurich',\n",
       " 'alex,601,181,chicago',\n",
       " 'chalicefy,118,145,hongkong',\n",
       " 'bob,879,982,montreal',\n",
       " 'lee,994,950,chicago',\n",
       " 'chalicefy,71,434,istanbul',\n",
       " 'bob,870,968,toronto',\n",
       " 'alex,669,896,istanbul',\n",
       " 'chalicefy,639,506,rome',\n",
       " 'alex,594,934,frankfurt',\n",
       " 'alex,611,571,chicago',\n",
       " 'chalicefy,31,458,montreal',\n",
       " 'iris,863,148,rome',\n",
       " 'chalicefy,926,511,warsaw',\n",
       " 'chalicefy,295,263,prague',\n",
       " 'alex,215,174,prague']"
      ]
     },
     "execution_count": 42,
     "metadata": {},
     "output_type": "execute_result"
    }
   ],
   "source": [
    "invalidTransactions([\"bob,55,173,barcelona\",\"lee,113,952,zurich\",\"maybe,115,1973,madrid\",\"chalicefy,229,283,istanbul\",\"bob,24,874,shanghai\",\"alex,568,412,tokyo\",\"alex,242,1710,milan\",\"iris,722,879,shenzhen\",\"chalicefy,281,1586,warsaw\",\"maybe,246,778,bangkok\",\"xnova,605,166,newdelhi\",\"iris,631,991,hongkong\",\"chalicefy,500,620,tokyo\",\"chalicefy,380,428,istanbul\",\"iris,905,180,barcelona\",\"alex,810,732,shenzhen\",\"iris,689,389,paris\",\"xnova,475,298,singapore\",\"lee,58,709,amsterdam\",\"xnova,717,546,guangzhou\",\"maybe,78,435,shenzhen\",\"maybe,333,145,hongkong\",\"lee,405,1230,hongkong\",\"lee,456,1440,tokyo\",\"chalicefy,286,1071,amsterdam\",\"alex,55,271,shanghai\",\"bob,91,273,warsaw\",\"iris,195,1825,tokyo\",\"maybe,639,417,madrid\",\"maybe,305,882,chicago\",\"lee,443,47,chicago\",\"chalicefy,958,840,budapest\",\"lee,162,1239,budapest\",\"bob,701,505,montreal\",\"alex,52,1575,munich\",\"bob,533,1407,amsterdam\",\"lee,621,491,tokyo\",\"chalicefy,866,622,rome\",\"alex,925,455,hongkong\",\"lee,968,164,moscow\",\"chalicefy,31,1119,newdelhi\",\"iris,527,700,warsaw\",\"bob,286,1694,dubai\",\"maybe,903,29,barcelona\",\"maybe,474,1606,prague\",\"maybe,851,648,beijing\",\"lee,48,655,chicago\",\"maybe,378,25,toronto\",\"lee,922,691,munich\",\"maybe,411,903,taipei\",\"lee,651,112,guangzhou\",\"lee,664,506,dubai\",\"chalicefy,704,924,milan\",\"maybe,333,1264,budapest\",\"chalicefy,587,1112,singapore\",\"maybe,428,437,moscow\",\"lee,721,366,newdelhi\",\"iris,824,1962,beijing\",\"chalicefy,834,489,istanbul\",\"alex,639,1473,zurich\",\"xnova,898,738,tokyo\",\"chalicefy,585,1313,frankfurt\",\"xnova,730,759,beijing\",\"alex,69,892,montreal\",\"lee,77,91,barcelona\",\"lee,722,611,taipei\",\"chalicefy,706,1982,jakarta\",\"chalicefy,743,584,luxembourg\",\"xnova,683,322,istanbul\",\"chalicefy,60,861,prague\",\"alex,366,871,shenzhen\",\"chalicefy,77,870,shenzhen\",\"iris,913,1501,warsaw\",\"iris,846,1176,warsaw\",\"bob,873,69,zurich\",\"alex,601,181,chicago\",\"chalicefy,118,145,hongkong\",\"bob,879,982,montreal\",\"lee,994,950,chicago\",\"maybe,885,1900,shanghai\",\"lee,717,1447,shanghai\",\"chalicefy,71,434,istanbul\",\"bob,870,968,toronto\",\"maybe,718,51,beijing\",\"alex,669,896,istanbul\",\"chalicefy,639,506,rome\",\"alex,594,934,frankfurt\",\"maybe,3,89,jakarta\",\"xnova,328,1710,rome\",\"alex,611,571,chicago\",\"chalicefy,31,458,montreal\",\"iris,973,696,toronto\",\"iris,863,148,rome\",\"chalicefy,926,511,warsaw\",\"alex,218,1411,zurich\",\"chalicefy,544,1296,shenzhen\",\"iris,27,23,montreal\",\"chalicefy,295,263,prague\",\"maybe,575,31,munich\",\"alex,215,174,prague\"])"
   ]
  },
  {
   "cell_type": "code",
   "execution_count": 43,
   "id": "6ba636a6",
   "metadata": {},
   "outputs": [],
   "source": [
    "expected = [\"bob,55,173,barcelona\",\"lee,113,952,zurich\",\"maybe,115,1973,madrid\",\"chalicefy,229,283,istanbul\",\"bob,24,874,shanghai\",\"alex,568,412,tokyo\",\"alex,242,1710,milan\",\"iris,722,879,shenzhen\",\"chalicefy,281,1586,warsaw\",\"maybe,246,778,bangkok\",\"iris,631,991,hongkong\",\"chalicefy,500,620,tokyo\",\"iris,905,180,barcelona\",\"iris,689,389,paris\",\"lee,58,709,amsterdam\",\"xnova,717,546,guangzhou\",\"maybe,78,435,shenzhen\",\"maybe,333,145,hongkong\",\"lee,405,1230,hongkong\",\"lee,456,1440,tokyo\",\"chalicefy,286,1071,amsterdam\",\"alex,55,271,shanghai\",\"bob,91,273,warsaw\",\"iris,195,1825,tokyo\",\"maybe,305,882,chicago\",\"lee,443,47,chicago\",\"chalicefy,958,840,budapest\",\"lee,162,1239,budapest\",\"alex,52,1575,munich\",\"bob,533,1407,amsterdam\",\"lee,621,491,tokyo\",\"chalicefy,866,622,rome\",\"lee,968,164,moscow\",\"chalicefy,31,1119,newdelhi\",\"bob,286,1694,dubai\",\"maybe,903,29,barcelona\",\"maybe,474,1606,prague\",\"maybe,851,648,beijing\",\"lee,48,655,chicago\",\"maybe,378,25,toronto\",\"lee,922,691,munich\",\"maybe,411,903,taipei\",\"lee,651,112,guangzhou\",\"lee,664,506,dubai\",\"chalicefy,704,924,milan\",\"maybe,333,1264,budapest\",\"chalicefy,587,1112,singapore\",\"maybe,428,437,moscow\",\"lee,721,366,newdelhi\",\"iris,824,1962,beijing\",\"chalicefy,834,489,istanbul\",\"alex,639,1473,zurich\",\"chalicefy,585,1313,frankfurt\",\"xnova,730,759,beijing\",\"alex,69,892,montreal\",\"lee,77,91,barcelona\",\"lee,722,611,taipei\",\"chalicefy,706,1982,jakarta\",\"chalicefy,743,584,luxembourg\",\"xnova,683,322,istanbul\",\"chalicefy,60,861,prague\",\"chalicefy,77,870,shenzhen\",\"iris,913,1501,warsaw\",\"iris,846,1176,warsaw\",\"bob,873,69,zurich\",\"alex,601,181,chicago\",\"chalicefy,118,145,hongkong\",\"bob,879,982,montreal\",\"lee,994,950,chicago\",\"maybe,885,1900,shanghai\",\"lee,717,1447,shanghai\",\"chalicefy,71,434,istanbul\",\"bob,870,968,toronto\",\"alex,669,896,istanbul\",\"chalicefy,639,506,rome\",\"alex,594,934,frankfurt\",\"xnova,328,1710,rome\",\"alex,611,571,chicago\",\"chalicefy,31,458,montreal\",\"iris,973,696,toronto\",\"iris,863,148,rome\",\"chalicefy,926,511,warsaw\",\"alex,218,1411,zurich\",\"chalicefy,544,1296,shenzhen\",\"chalicefy,295,263,prague\",\"alex,215,174,prague\"]\n",
    "output = [\"maybe,115,1973,madrid\",\"alex,242,1710,milan\",\"chalicefy,281,1586,warsaw\",\"lee,405,1230,hongkong\",\"lee,456,1440,tokyo\",\"chalicefy,286,1071,amsterdam\",\"iris,195,1825,tokyo\",\"lee,162,1239,budapest\",\"alex,52,1575,munich\",\"bob,533,1407,amsterdam\",\"chalicefy,31,1119,newdelhi\",\"bob,286,1694,dubai\",\"maybe,474,1606,prague\",\"maybe,333,1264,budapest\",\"chalicefy,587,1112,singapore\",\"iris,824,1962,beijing\",\"alex,639,1473,zurich\",\"chalicefy,585,1313,frankfurt\",\"chalicefy,706,1982,jakarta\",\"iris,913,1501,warsaw\",\"iris,846,1176,warsaw\",\"maybe,885,1900,shanghai\",\"lee,717,1447,shanghai\",\"xnova,328,1710,rome\",\"alex,218,1411,zurich\",\"chalicefy,544,1296,shenzhen\",\"bob,55,173,barcelona\",\"lee,113,952,zurich\",\"chalicefy,229,283,istanbul\",\"bob,24,874,shanghai\",\"alex,568,412,tokyo\",\"iris,722,879,shenzhen\",\"maybe,246,778,bangkok\",\"iris,631,991,hongkong\",\"chalicefy,500,620,tokyo\",\"iris,905,180,barcelona\",\"iris,689,389,paris\",\"lee,58,709,amsterdam\",\"xnova,717,546,guangzhou\",\"maybe,78,435,shenzhen\",\"maybe,333,145,hongkong\",\"alex,55,271,shanghai\",\"bob,91,273,warsaw\",\"maybe,305,882,chicago\",\"lee,443,47,chicago\",\"chalicefy,958,840,budapest\",\"lee,621,491,tokyo\",\"chalicefy,866,622,rome\",\"lee,968,164,moscow\",\"maybe,903,29,barcelona\",\"maybe,851,648,beijing\",\"lee,48,655,chicago\",\"maybe,378,25,toronto\",\"lee,922,691,munich\",\"maybe,411,903,taipei\",\"lee,651,112,guangzhou\",\"lee,664,506,dubai\",\"chalicefy,704,924,milan\",\"maybe,428,437,moscow\",\"lee,721,366,newdelhi\",\"chalicefy,834,489,istanbul\",\"xnova,730,759,beijing\",\"alex,69,892,montreal\",\"lee,77,91,barcelona\",\"lee,722,611,taipei\",\"chalicefy,743,584,luxembourg\",\"xnova,683,322,istanbul\",\"chalicefy,60,861,prague\",\"chalicefy,77,870,shenzhen\",\"bob,873,69,zurich\",\"alex,601,181,chicago\",\"chalicefy,118,145,hongkong\",\"bob,879,982,montreal\",\"lee,994,950,chicago\",\"chalicefy,71,434,istanbul\",\"bob,870,968,toronto\",\"alex,669,896,istanbul\",\"chalicefy,639,506,rome\",\"alex,594,934,frankfurt\",\"alex,611,571,chicago\",\"chalicefy,31,458,montreal\",\"iris,863,148,rome\",\"chalicefy,926,511,warsaw\",\"chalicefy,295,263,prague\",\"alex,215,174,prague\"]"
   ]
  },
  {
   "cell_type": "code",
   "execution_count": 50,
   "id": "356d3b37",
   "metadata": {},
   "outputs": [
    {
     "name": "stdout",
     "output_type": "stream",
     "text": [
      "chalicefy,958,840,budapest\n",
      "lee,968,164,moscow\n",
      "lee,922,691,munich\n",
      "iris,913,1501,warsaw\n",
      "lee,994,950,chicago\n",
      "iris,973,696,toronto\n",
      "chalicefy,926,511,warsaw\n"
     ]
    }
   ],
   "source": [
    "for i in expected:\n",
    "    if int(i.split(\",\")[1]) <1050 and  int(i.split(\",\")[1])>912:\n",
    "\n",
    "\n",
    "        print(i)"
   ]
  },
  {
   "cell_type": "code",
   "execution_count": 9,
   "id": "2efadacb",
   "metadata": {},
   "outputs": [
    {
     "name": "stdout",
     "output_type": "stream",
     "text": [
      "37 28\n"
     ]
    },
    {
     "data": {
      "text/plain": [
       "'a'"
      ]
     },
     "execution_count": 9,
     "metadata": {},
     "output_type": "execute_result"
    }
   ],
   "source": [
    "releaseTimes =[28,65,97]\n",
    "keysPressed =\"gaf\"\n",
    "res = releaseTimes[0]\n",
    "ans = keysPressed[0]\n",
    "for i in range(1,len(releaseTimes)):\n",
    "    obs = releaseTimes[i]-releaseTimes[i-1]\n",
    "    if obs>res:\n",
    "        print(obs,res)\n",
    "        ans = keysPressed[i]\n",
    "        res = obs\n",
    "    elif obs==res:\n",
    "        ans = max(keysPressed[i],ans)\n",
    "        \n",
    "ans"
   ]
  },
  {
   "cell_type": "code",
   "execution_count": 13,
   "id": "5d382b3f",
   "metadata": {},
   "outputs": [
    {
     "name": "stdout",
     "output_type": "stream",
     "text": [
      "0 2 2\n",
      "1 5 4\n",
      "0 2 2\n",
      "3 4 1\n",
      "3 4 1\n",
      "1 5 4\n",
      "True\n"
     ]
    }
   ],
   "source": [
    "s =\"abaccb\"\n",
    "distance =[1,3,0,5,0,0,0,0,0,0,0,0,0,0,0,0,0,0,0,0,0,0,0,0,0,0]\n",
    "letters = \"abcdefghijklmnopqrstuvwxyz\"\n",
    "        \n",
    "for i in s:\n",
    "    a = s.index(i)\n",
    "    b = len(s) - s[::-1].index(i) -1\n",
    "    print(a,b,b-a)\n",
    "    if (b -a-1) != distance[letters.index(i)]:\n",
    "        print(False)\n",
    "print(True)"
   ]
  },
  {
   "cell_type": "code",
   "execution_count": 25,
   "id": "ab6ab5b4",
   "metadata": {},
   "outputs": [],
   "source": [
    "import operator\n",
    "def smallestTrimmedNumbers(nums,queries): \n",
    "    ans=[]\n",
    "    for k,trim in queries:\n",
    "        cand=[int(x[-trim:]) for x in nums]\n",
    "        \n",
    "        _,v=sorted(zip(cand,range(len(cand))))[k-1]\n",
    "        print(sorted(zip(cand,range(len(cand))))[k-1])\n",
    "        ans.append(v)\n",
    "    return ans"
   ]
  },
  {
   "cell_type": "code",
   "execution_count": 26,
   "id": "cf30fe51",
   "metadata": {},
   "outputs": [
    {
     "name": "stdout",
     "output_type": "stream",
     "text": [
      "(4, 3)\n",
      "(24, 0)\n",
      "(6, 2)\n"
     ]
    },
    {
     "data": {
      "text/plain": [
       "[3, 0, 2]"
      ]
     },
     "execution_count": 26,
     "metadata": {},
     "output_type": "execute_result"
    }
   ],
   "source": [
    "smallestTrimmedNumbers([\"-24\",\"-37\",\"96\",\"04\"],\n",
    "[[2,1],[2,2],[3,1]])"
   ]
  },
  {
   "cell_type": "code",
   "execution_count": 46,
   "id": "f7e4a7ab",
   "metadata": {},
   "outputs": [
    {
     "name": "stdout",
     "output_type": "stream",
     "text": [
      "Counter({'dd': 5, 'aa': 3, 'bb': 3, 'cc': 3})\n"
     ]
    }
   ],
   "source": [
    "from collections import Counter\n",
    "a = [\"dd\",\"aa\",\"bb\",\"dd\",\"aa\",\"dd\",\"bb\",\"dd\",\"aa\",\"cc\",\"bb\",\"cc\",\"dd\",\"cc\"]\n",
    "print(Counter(a))"
   ]
  },
  {
   "cell_type": "code",
   "execution_count": 41,
   "id": "5ec98a0c",
   "metadata": {},
   "outputs": [],
   "source": [
    "\n",
    "j = sorted(Counter(a).values())"
   ]
  },
  {
   "cell_type": "code",
   "execution_count": 45,
   "id": "ff75b50e",
   "metadata": {},
   "outputs": [
    {
     "name": "stdout",
     "output_type": "stream",
     "text": [
      "14\n"
     ]
    }
   ],
   "source": [
    "odd_done = 0\n",
    "ans = 0\n",
    "for i in j[::-1]:\n",
    "    \n",
    "    if i%2==0:\n",
    "        ans+=i*2\n",
    "    elif not odd_done:\n",
    "        ans+= i*2\n",
    "        odd_done = 1\n",
    "print(ans)\n",
    "        "
   ]
  },
  {
   "cell_type": "code",
   "execution_count": 11,
   "id": "41ff126f",
   "metadata": {},
   "outputs": [
    {
     "data": {
      "text/plain": [
       "[True, True, False]"
      ]
     },
     "execution_count": 11,
     "metadata": {},
     "output_type": "execute_result"
    }
   ],
   "source": [
    "a = 'abcabcc'\n",
    "a =  iter(a)\n",
    "s = 'abd'\n",
    "\n",
    "[c in a for c in s]"
   ]
  },
  {
   "cell_type": "code",
   "execution_count": 9,
   "id": "73dea5e6",
   "metadata": {},
   "outputs": [
    {
     "data": {
      "text/plain": [
       "True"
      ]
     },
     "execution_count": 9,
     "metadata": {},
     "output_type": "execute_result"
    }
   ],
   "source": [
    "all([1,1,1,1,1,1,1])"
   ]
  },
  {
   "cell_type": "code",
   "execution_count": 17,
   "id": "0204f26d",
   "metadata": {},
   "outputs": [],
   "source": [
    "a = [1,2,3,4,3,2,1,2,3,13]\n",
    "a = list(set(a))"
   ]
  },
  {
   "cell_type": "code",
   "execution_count": 18,
   "id": "e42ce95e",
   "metadata": {},
   "outputs": [
    {
     "data": {
      "text/plain": [
       "[1, 2, 3, 4, 13]"
      ]
     },
     "execution_count": 18,
     "metadata": {},
     "output_type": "execute_result"
    }
   ],
   "source": [
    "a"
   ]
  },
  {
   "cell_type": "code",
   "execution_count": 4,
   "id": "d8661bf5",
   "metadata": {},
   "outputs": [],
   "source": [
    "import pywhatkit"
   ]
  },
  {
   "cell_type": "code",
   "execution_count": 5,
   "id": "b299d93c",
   "metadata": {},
   "outputs": [
    {
     "ename": "AttributeError",
     "evalue": "module 'pywhatkit' has no attribute 'add_driver_path'",
     "output_type": "error",
     "traceback": [
      "\u001b[1;31m---------------------------------------------------------------------------\u001b[0m",
      "\u001b[1;31mAttributeError\u001b[0m                            Traceback (most recent call last)",
      "Cell \u001b[1;32mIn[5], line 1\u001b[0m\n\u001b[1;32m----> 1\u001b[0m \u001b[43mpywhatkit\u001b[49m\u001b[38;5;241;43m.\u001b[39;49m\u001b[43madd_driver_path\u001b[49m(\u001b[38;5;124m\"\u001b[39m\u001b[38;5;124mC:\u001b[39m\u001b[38;5;124m\\\u001b[39m\u001b[38;5;124mProgram Files\u001b[39m\u001b[38;5;124m\\\u001b[39m\u001b[38;5;124mGoogle\u001b[39m\u001b[38;5;124m\\\u001b[39m\u001b[38;5;124mChrome\u001b[39m\u001b[38;5;124m\\\u001b[39m\u001b[38;5;124mApplication\u001b[39m\u001b[38;5;124m\\\u001b[39m\u001b[38;5;124mchrome.exe\u001b[39m\u001b[38;5;124m\"\u001b[39m)\n",
      "\u001b[1;31mAttributeError\u001b[0m: module 'pywhatkit' has no attribute 'add_driver_path'"
     ]
    }
   ],
   "source": [
    "pywhatkit.add_driver_path(\"C:\\Program Files\\Google\\Chrome\\Application\\chrome.exe\")"
   ]
  },
  {
   "cell_type": "code",
   "execution_count": 7,
   "id": "50441f55",
   "metadata": {},
   "outputs": [],
   "source": [
    "import pyautogui as pg"
   ]
  },
  {
   "cell_type": "code",
   "execution_count": 13,
   "id": "5588ce7d",
   "metadata": {},
   "outputs": [
    {
     "data": {
      "text/plain": [
       "Point(x=785, y=964)"
      ]
     },
     "execution_count": 13,
     "metadata": {},
     "output_type": "execute_result"
    }
   ],
   "source": [
    "pg.position()"
   ]
  },
  {
   "cell_type": "code",
   "execution_count": 31,
   "id": "2addac2f",
   "metadata": {},
   "outputs": [],
   "source": [
    "pg.click(1000, 0)\n",
    "pg.click(785,965)\n",
    "k = ['Exceptional','Fantastic','Terrific','Amazing','Gracious','Unexpected','Wonderful','Adorable']\n",
    "\n",
    "for i in range(60,0,-1):\n",
    "    ref= random.choice(k) \n",
    "    if i>1:\n",
    "        pg.typewrite(f\"Only {i} Minutes before it's the Birthday of the most {ref} person in my life\") \n",
    "    elif i>0:\n",
    "        pg.typewrite(f\"One final minute before My Best Friend's Birthday\")\n",
    "    pg.press('enter')\n",
    "    time.sleep(60)    "
   ]
  },
  {
   "cell_type": "code",
   "execution_count": 28,
   "id": "e32b6094",
   "metadata": {},
   "outputs": [],
   "source": [
    "import time\n",
    "import random"
   ]
  },
  {
   "cell_type": "code",
   "execution_count": 29,
   "id": "9661aee6",
   "metadata": {},
   "outputs": [],
   "source": []
  },
  {
   "cell_type": "code",
   "execution_count": null,
   "id": "57669e3c",
   "metadata": {},
   "outputs": [],
   "source": []
  }
 ],
 "metadata": {
  "kernelspec": {
   "display_name": "Python 3 (ipykernel)",
   "language": "python",
   "name": "python3"
  },
  "language_info": {
   "codemirror_mode": {
    "name": "ipython",
    "version": 3
   },
   "file_extension": ".py",
   "mimetype": "text/x-python",
   "name": "python",
   "nbconvert_exporter": "python",
   "pygments_lexer": "ipython3",
   "version": "3.11.2"
  }
 },
 "nbformat": 4,
 "nbformat_minor": 5
}
