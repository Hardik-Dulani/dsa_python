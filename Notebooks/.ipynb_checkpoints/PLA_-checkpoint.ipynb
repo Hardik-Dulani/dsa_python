{
 "cells": [
  {
   "cell_type": "code",
   "execution_count": 3,
   "id": "a190cd1f",
   "metadata": {},
   "outputs": [
    {
     "data": {
      "text/plain": [
       "True"
      ]
     },
     "execution_count": 3,
     "metadata": {},
     "output_type": "execute_result"
    }
   ],
   "source": [
    "# Strobogrammatic number:\n",
    "# all numbers when rotated 180* are equal to original number:\n",
    "# [0,1,8,609,619,101] etc\n",
    "\n",
    "def is_strobogrammatic(number):\n",
    "    pairs = {'0': '0', '1': '1', '6': '9', '8': '8', '9': '6'}\n",
    "    \n",
    "    \n",
    "    number_str = str(number)\n",
    "    \n",
    "    \n",
    "    left = 0\n",
    "    right = len(number_str) - 1\n",
    "    \n",
    "    \n",
    "    while left <= right:\n",
    "        \n",
    "        if (number_str[left] not in pairs) or (number_str[right] not in pairs):\n",
    "            return False\n",
    "        \n",
    "        if pairs[number_str[left]] != number_str[right]:\n",
    "            return False\n",
    "        left += 1\n",
    "        right -= 1\n",
    "    \n",
    "    return True\n",
    "\n",
    "\n",
    "number = 619\n",
    "is_strobogrammatic(number) \n"
   ]
  },
  {
   "cell_type": "code",
   "execution_count": 15,
   "id": "e6989528",
   "metadata": {},
   "outputs": [
    {
     "name": "stdout",
     "output_type": "stream",
     "text": [
      "True\n",
      "True\n",
      "False\n",
      "True\n",
      "True\n",
      "True\n"
     ]
    }
   ],
   "source": [
    "# Binary Palindrome:\n",
    "def isBinaryPal1(s):\n",
    "    news = \"\"\n",
    "    \n",
    "    for i in range(len(s)-1,-1,-1):\n",
    "        news+=s[i]\n",
    "        \n",
    "    if s == news:\n",
    "        return True\n",
    "    return False\n",
    "\n",
    "\n",
    "\n",
    "def isBinaryPal2(s):\n",
    "    if s == s[::-1]:\n",
    "        return True\n",
    "    return False\n",
    "\n",
    "\n",
    "\n",
    "def isBinaryPal3(s):\n",
    "    left = 0\n",
    "    right = len(s)-1\n",
    "    \n",
    "    while left<right:\n",
    "        if s[left]!=s[right]:\n",
    "            return False\n",
    "        left+=1\n",
    "        right-=1\n",
    "    return True\n",
    "\n",
    "\n",
    "print(isBinaryPal1(\"10101\"))\n",
    "print(isBinaryPal2(\"1010101\"))\n",
    "print(isBinaryPal1(\"0101\"))\n",
    "print(isBinaryPal2(\"11\"))\n",
    "print(isBinaryPal3(\"01010\"))\n",
    "print(isBinaryPal3(\"11011\"))"
   ]
  },
  {
   "cell_type": "code",
   "execution_count": 18,
   "id": "9a09a1cc",
   "metadata": {},
   "outputs": [
    {
     "name": "stdout",
     "output_type": "stream",
     "text": [
      "[1, 0, 0, 1, 0, 0]\n"
     ]
    }
   ],
   "source": [
    "# Toggle the switch\n",
    "def toggle_switch(n)\n",
    "\n",
    "    board = [0]*n\n",
    "    for i in range(1,n+1):\n",
    "        for j in range(1,n+1):\n",
    "\n",
    "            if j%i==0:\n",
    "                if board[j-1]==0:\n",
    "                    board[j-1]=1\n",
    "                elif board[j-1]==1:\n",
    "                    board[j-1]=0\n",
    "    return board\n",
    "                "
   ]
  },
  {
   "cell_type": "markdown",
   "id": "5a699348",
   "metadata": {},
   "source": [
    "## Chinese remainder theorum: used to find solution to congruence equation\n",
    "### congruence equation :\n",
    "A congruence equation is an equation that expresses a relationship between two integers in terms of their remainders when divided by a fixed positive integer called the modulus. It is a concept from modular arithmetic.\n",
    "\n",
    "In modular arithmetic, we consider the remainder obtained when dividing an integer by a modulus. For example, in the congruence equation:\n",
    "\n",
    "a ≡ b (mod m)\n",
    "\n",
    "Here, \"a\" and \"b\" are integers, and \"m\" is the modulus. The notation \"≡\" represents congruence. The equation states that \"a\" is congruent to \"b\" modulo \"m,\" which means that \"a\" and \"b\" have the same remainder when divided by \"m.\"\n",
    "\n",
    "To solve congruence equations, we aim to find the values of \"a\" that satisfy the congruence relation. This involves finding values of \"a\" that have the same remainder as \"b\" when divided by \"m.\"\n",
    "\n",
    "Congruence equations are commonly used in number theory, cryptography, and various areas of mathematics and computer science where modular arithmetic plays a significant role.\n",
    "\n",
    "### Theorum:-  X = (a1.M1.M1^-1,  a2.M2.M2^-1,  a3.M3.M3^-1  ............  an.Mn.Mn^-1)"
   ]
  },
  {
   "cell_type": "markdown",
   "id": "c8fd3f9a",
   "metadata": {},
   "source": [
    "ex:\n",
    "X ≡ 2(mod3)\n",
    "X ≡ 3(mod5)\n",
    "X ≡ 2(mod7)\n",
    "\n",
    "a1 = 2\n",
    "a2 = 3\n",
    "a3 = 2\n",
    "\n",
    "M =  m1 * m2 * m3 => 3 * 5 * 7\n",
    "\n",
    "M1 = M/m1 = (3*5*7)/3 =  35\n",
    "M2 = M/m2 = (3*5*7)/5 =  21\n",
    "M3 = M/m3 = (3*5*7)/7 =  15\n",
    "\n",
    "M1(M1^-1) ≡ 1 mod m1 -----> M1^-1 = 2\n",
    "M2(M2^-1) ≡ 1 mod m2 -----> M2^-1 = 1\n",
    "M3(M3^-1) ≡ 1 mod m3 -----> M3^-1 = 1\n",
    "\n",
    "#### finally we have all the values, M, M^-1, m , and a as well so lets put it in theorum\n",
    "(a1.M1.M1^-1, a2.M2.M2^-1, a3.M3.M3^-1 ............ an.Mn.Mn^-1)\n",
    "#### X = {   (2 * 35 * 2)   +  (3 * 21 * 1)   +   (2 * 15 * 1 )   } "
   ]
  },
  {
   "cell_type": "markdown",
   "id": "5fbdbadd",
   "metadata": {},
   "source": [
    "<br>\n",
    "<br>\n",
    "<br>\n",
    "\n",
    "# The Chinese Remainder Theorem (CRT) \n",
    "it is a mathematical theorem that provides a solution to a system of simultaneous congruences. Here's a Python implementation of the Chinese Remainder Theorem along with an explanation of the code:"
   ]
  },
  {
   "cell_type": "code",
   "execution_count": 1,
   "id": "4dc90ce7",
   "metadata": {},
   "outputs": [
    {
     "name": "stdout",
     "output_type": "stream",
     "text": [
      "The solution is: 3\n"
     ]
    }
   ],
   "source": [
    "def chinese_remainder_theorem(n, a):\n",
    "    # Step 1: Compute N as the product of all moduli\n",
    "    N = 1\n",
    "    for num in n:\n",
    "        N *= num\n",
    "        \n",
    "        \n",
    "\n",
    "    # Step 2: Compute the list of factors, N_i\n",
    "    factors = []\n",
    "    for num in n:\n",
    "        factors.append(N // num)\n",
    "        \n",
    "        \n",
    "\n",
    "    # Step 3: Compute the list of inverses, x_i\n",
    "    inverses = []\n",
    "    for i in range(len(n)):\n",
    "        inverse = pow(factors[i], -1, n[i])\n",
    "        inverses.append(inverse)\n",
    "        \n",
    "        \n",
    "\n",
    "    # Step 4: Compute the solution using the Chinese Remainder Theorem formula\n",
    "    x = 0\n",
    "    for i in range(len(n)):\n",
    "        x += a[i] * factors[i] * inverses[i]\n",
    "        \n",
    "        \n",
    "\n",
    "    # Step 5: Return the smallest positive solution\n",
    "    return x % N\n",
    "\n",
    "\n",
    "# Example usage\n",
    "n = [3, 5, 7]  # List of moduli\n",
    "a = [2, 3, 2]  # List of remainders\n",
    "\n",
    "solution = chinese_remainder_theorem(n, a)\n",
    "print(\"The solution is:\", solution)\n"
   ]
  },
  {
   "cell_type": "markdown",
   "id": "ef9933da",
   "metadata": {},
   "source": [
    "Explanation:\n",
    "\n",
    "The chinese_remainder_theorem function takes two lists as input: n (list of moduli) and a (list of remainders).\n",
    "\n",
    "In Step 1, the function computes the value of N as the product of all moduli in the list n.\n",
    "\n",
    "In Step 2, it calculates the list of factors (factors), which are obtained by dividing N by each modulus in n.\n",
    "\n",
    "In Step 3, the function computes the list of inverses (inverses) using the pow function with the third argument set to n[i] to calculate the modular inverse of each factor modulo the corresponding modulus.\n",
    "\n",
    "In Step 4, it applies the Chinese Remainder Theorem formula to calculate the solution. It iterates through the lists of remainders (a), factors (factors), and inverses (inverses), and computes the sum of products.\n",
    "\n",
    "In Step 5, the function returns the smallest positive solution by taking the modulus of the computed solution with N.\n",
    "\n",
    "Finally, an example usage is provided, demonstrating how to use the chinese_remainder_theorem function with a specific set of moduli and remainders. The solution is printed to the console."
   ]
  },
  {
   "cell_type": "markdown",
   "id": "c01a78b9",
   "metadata": {},
   "source": [
    "<br>\n",
    "<br>\n",
    "<br>\n",
    "\n",
    "# Questions to Implement\n",
    "\n",
    " 1. Alice apple tree\n",
    " 2. swap 2 nibbles in a byte using bitwise\n",
    " 3. Move Hyphens to start of str\n",
    " 4. selection sort"
   ]
  },
  {
   "cell_type": "markdown",
   "id": "cb2e097e",
   "metadata": {},
   "source": [
    "### Swapping two nibbles"
   ]
  },
  {
   "cell_type": "code",
   "execution_count": 25,
   "id": "fdd78646",
   "metadata": {},
   "outputs": [
    {
     "data": {
      "text/plain": [
       "70"
      ]
     },
     "execution_count": 25,
     "metadata": {},
     "output_type": "execute_result"
    }
   ],
   "source": [
    "def swap_nibbles(decimal):\n",
    "    # Convert decimal to binary and remove prefix\n",
    "    binary = bin(decimal)[2:]\n",
    "    \n",
    "    # Pad binary string with leading zeros if necessary\n",
    "    binary = binary.zfill(8)\n",
    "    \n",
    "    # Swap nibbles\n",
    "    binary = binary[4:] + binary[:4]\n",
    "    \n",
    "    # Convert binary back to decimal\n",
    "    result = int(binary, 2)\n",
    "    \n",
    "    return result\n",
    "swap_nibbles(100)"
   ]
  },
  {
   "cell_type": "markdown",
   "id": "34d92941",
   "metadata": {},
   "source": [
    "### Move Hyphens to start of str"
   ]
  },
  {
   "cell_type": "code",
   "execution_count": 21,
   "id": "ed056180",
   "metadata": {},
   "outputs": [
    {
     "data": {
      "text/plain": [
       "'--HiHardikDulani'"
      ]
     },
     "execution_count": 21,
     "metadata": {},
     "output_type": "execute_result"
    }
   ],
   "source": [
    "def hyphen(s):\n",
    "    \n",
    "    for i in range(len(s)):\n",
    "        if s[i] == '-':\n",
    "            s = '-' + s[:i]+ s [i+1:] \n",
    "    return s\n",
    "\n",
    "hyphen('Hi-Hardik-Dulani')"
   ]
  },
  {
   "cell_type": "markdown",
   "id": "1302d713",
   "metadata": {},
   "source": [
    "### Selection Sort"
   ]
  },
  {
   "cell_type": "code",
   "execution_count": 24,
   "id": "d5acc422",
   "metadata": {},
   "outputs": [
    {
     "data": {
      "text/plain": [
       "[1, 1, 2, 2, 2, 3, 4, 6]"
      ]
     },
     "execution_count": 24,
     "metadata": {},
     "output_type": "execute_result"
    }
   ],
   "source": [
    "def selection_sort(arr):\n",
    "    n = len(arr)\n",
    "    \n",
    "    for i in range(n):\n",
    "        \n",
    "        min_index = i\n",
    "        for j in range(i+1, n):\n",
    "            if arr[j] < arr[min_index]:\n",
    "                min_index = j\n",
    "        arr[i], arr[min_index] = arr[min_index], arr[i]\n",
    "    \n",
    "    return arr\n",
    "selection_sort([1,2,3,6,1,2,4,2])"
   ]
  },
  {
   "cell_type": "code",
   "execution_count": 2,
   "id": "96814fa7",
   "metadata": {},
   "outputs": [
    {
     "data": {
      "text/plain": [
       "3"
      ]
     },
     "execution_count": 2,
     "metadata": {},
     "output_type": "execute_result"
    }
   ],
   "source": [
    "# Equilibrium Element\n",
    "def equiEle(arr):\n",
    "    right = sum(arr)\n",
    "    left =  0\n",
    "    for j,i in enumerate(arr):\n",
    "        right-=i\n",
    "        if right == left:\n",
    "            return j\n",
    "        left+=i\n",
    "    return -1\n",
    "equiEle([3,2,-1,2,3,2,-1])"
   ]
  },
  {
   "cell_type": "code",
   "execution_count": 6,
   "id": "a3744bc1",
   "metadata": {},
   "outputs": [
    {
     "data": {
      "text/plain": [
       "[4, 4]"
      ]
     },
     "execution_count": 6,
     "metadata": {},
     "output_type": "execute_result"
    }
   ],
   "source": [
    "def leadersArr_n2(arr):\n",
    "    ans = []\n",
    "    \n",
    "    for i,j in enumerate(arr):\n",
    "        ref = True\n",
    "        for k in arr[i:]:\n",
    "            if j<k:\n",
    "              ref=False\n",
    "        if ref == True:\n",
    "            ans.append(j)\n",
    "    return ans\n",
    "leadersArr_n2([1,2,3,2,1,4,3,2,1,2,4])"
   ]
  },
  {
   "cell_type": "code",
   "execution_count": 61,
   "id": "58d7d5b4",
   "metadata": {},
   "outputs": [
    {
     "name": "stdout",
     "output_type": "stream",
     "text": [
      "[17, 5, 2]\n"
     ]
    }
   ],
   "source": [
    "def find_leaders_n(arr):\n",
    "    n = len(arr)\n",
    "    leaders = []\n",
    "    max_so_far = float('-inf')\n",
    "\n",
    "    for i in range(n - 1, -1, -1):\n",
    "        if arr[i] > max_so_far:\n",
    "            leaders.append(arr[i])\n",
    "            max_so_far = arr[i]\n",
    "\n",
    "    # The 'leaders' list contains the leaders in reverse order, so we need to reverse it.\n",
    "    leaders.reverse()\n",
    "    return leaders\n",
    "\n",
    "# Example usage:\n",
    "arr = [16, 17, 4, 3, 5, 2]\n",
    "print(find_leaders(arr))  # Output: [17, 5, 2]\n"
   ]
  },
  {
   "cell_type": "markdown",
   "id": "cf92c80c",
   "metadata": {},
   "source": [
    "## Manacher's Algorithm (Find longest palindromic string)"
   ]
  },
  {
   "cell_type": "markdown",
   "id": "7ea27140",
   "metadata": {},
   "source": [
    "\n",
    "Sure! Let's go through the code step by step to understand how Manacher's algorithm finds the longest palindromic substring:\n",
    "\n",
    "Define the longest_palindromic_string(s) function, which takes an input string s as an argument.\n",
    "\n",
    "Preprocess the input string s to create a new string T, which has special characters (#) inserted between each character in s. Additionally, add ^ at the beginning and $ at the end of T to indicate the start and end of the string. This preprocessing is done to handle both odd and even-length palindromes efficiently.\n",
    "\n",
    "Initialize variables n (length of the modified string T), P (list to store the length of palindromes centered at each character), C (center of the current palindrome), R (right boundary of the current palindrome), max_length (the length of the longest palindrome found), and center_index (index of the center of the longest palindrome).\n",
    "\n",
    "Loop through each character of the modified string T (excluding the first and last characters because they are special characters ^ and $).\n",
    "\n",
    "Calculate the mirror index (mirror) of the current index (i) with respect to the center (C) of the current palindrome. The mirror index allows us to avoid redundant computations.\n",
    "\n",
    "If the current index i is within the right boundary R, update the palindrome length at index i (P[i]) to the minimum value between the distance from the current index to the right boundary (R - i) and the palindrome length at the mirror index (P[mirror]). This step helps avoid unnecessary comparisons and reduces the time complexity.\n",
    "\n",
    "Attempt to expand the palindrome centered at index i. While the characters to the left and right of the current index are equal, increment the palindrome length at index i (P[i]) to expand the palindrome.\n",
    "\n",
    "Update the center C and right boundary R of the current palindrome if the expanded palindrome goes beyond the current right boundary.\n",
    "\n",
    "Keep track of the longest palindrome found. If the palindrome length at the current index i (P[i]) is greater than the max_length, update max_length to the new palindrome length, and set center_index to the index i.\n",
    "\n",
    "Once the loop completes, calculate the starting index (start_index) and ending index (end_index) of the longest palindrome based on the center_index and max_length.\n",
    "\n",
    "Return the longest palindromic substring by slicing the original input string s from start_index to end_index.\n",
    "\n",
    "Example usage: Call the longest_palindromic_string() function with the input string \"babad\". The function finds the longest palindromic substring, which is either \"bab\" or \"aba\" (centered at index 1 or 2)."
   ]
  },
  {
   "cell_type": "code",
   "execution_count": 167,
   "id": "79fb01d2",
   "metadata": {},
   "outputs": [
    {
     "name": "stdout",
     "output_type": "stream",
     "text": [
      "Longest Palindromic Substring: abcdcba\n"
     ]
    }
   ],
   "source": [
    "def longest_palindromic_string(s):\n",
    "    # Preprocess the string to insert special characters between characters to handle both odd and even length palindromes\n",
    "    T = '#'.join('^{}$'.format(s))\n",
    "    n = len(T)\n",
    "    P = [0] * n  # List to store the length of palindromes centered at each character\n",
    "    \n",
    "    \n",
    "\n",
    "    C, R = 0, 0  # Center and right boundary of the current palindrome\n",
    "    max_length = 0\n",
    "    center_index = 0\n",
    "    \n",
    "    \n",
    "\n",
    "    for i in range(1, n - 1):\n",
    "        # Mirror of the current index with respect to the center\n",
    "        mirror = 2 * C - i\n",
    "       \n",
    "        \n",
    "        \n",
    "\n",
    "        # If the current index is within the right boundary, use the minimum value to avoid redundant computations\n",
    "        if R > i:\n",
    "            P[i] = min(R - i, P[mirror])\n",
    "            \n",
    "            \n",
    "\n",
    "        # Attempt to expand palindrome centered at i\n",
    "        while T[i + 1 + P[i]] == T[i - 1 - P[i]]:\n",
    "            P[i] += 1\n",
    "            \n",
    "            \n",
    "\n",
    "        # Update the center and right boundary if the current palindrome expands beyond the current right boundary\n",
    "        if i + P[i] > R:\n",
    "            C = i\n",
    "            R = i + P[i]\n",
    "            \n",
    "            \n",
    "\n",
    "        # Keep track of the longest palindrome found\n",
    "        if P[i] > max_length:\n",
    "            max_length = P[i]\n",
    "            center_index = i\n",
    "            \n",
    "            \n",
    "\n",
    "    start_index = (center_index - max_length) // 2\n",
    "    end_index = start_index + max_length\n",
    "    \n",
    "    \n",
    "\n",
    "    return s[start_index:end_index]\n",
    "\n",
    "\n",
    "# Example usage:\n",
    "input_string = \"abcdcba\"\n",
    "result = longest_palindromic_string(input_string)\n",
    "print(\"Longest Palindromic Substring:\", result)  # Output: \"bab\" or \"aba\"\n"
   ]
  },
  {
   "cell_type": "code",
   "execution_count": 32,
   "id": "a612cb84",
   "metadata": {},
   "outputs": [
    {
     "name": "stdout",
     "output_type": "stream",
     "text": [
      "[0, 1, 2, 3, 4, 5, 6, 7, 8, 9, 10, 11, 12] 2\n",
      "[0, 1, 3, 4, 5, 6, 7, 8, 9, 10, 11, 12] 4\n",
      "[0, 1, 3, 4, 6, 7, 8, 9, 10, 11, 12] 6\n",
      "[0, 1, 3, 4, 6, 7, 9, 10, 11, 12] 8\n",
      "[0, 1, 3, 4, 6, 7, 9, 10, 12] 1\n",
      "[0, 3, 4, 6, 7, 9, 10, 12] 3\n",
      "[0, 3, 4, 7, 9, 10, 12] 5\n",
      "[0, 3, 4, 7, 9, 12] 1\n",
      "[0, 4, 7, 9, 12] 3\n",
      "[0, 4, 7, 12] 1\n",
      "[0, 7, 12] 0\n",
      "[7, 12] 0\n",
      "[12]\n"
     ]
    }
   ],
   "source": [
    "# Josephus Trap:\n",
    "# make a circular loop with values 0,n-1 and an integer k which determines next element to be deleted\n",
    "l=  i = 12\n",
    "k = 3\n",
    "a = list(range(l+1))\n",
    "curr = 0\n",
    "dele = 0\n",
    "while i!=0:\n",
    "    curr +=1\n",
    "    dele +=1\n",
    "    if curr > l:\n",
    "        curr = 0\n",
    "\n",
    "        \n",
    "    if dele == k-1:\n",
    "        print(a,curr)\n",
    "        a.pop(curr)\n",
    "        i-=1\n",
    "        dele = 0\n",
    "        l-=1\n",
    "    if curr > l:\n",
    "        curr = 0\n",
    "       \n",
    "print(a)"
   ]
  },
  {
   "cell_type": "code",
   "execution_count": null,
   "id": "5f683ce4",
   "metadata": {},
   "outputs": [],
   "source": []
  }
 ],
 "metadata": {
  "kernelspec": {
   "display_name": "Python 3 (ipykernel)",
   "language": "python",
   "name": "python3"
  },
  "language_info": {
   "codemirror_mode": {
    "name": "ipython",
    "version": 3
   },
   "file_extension": ".py",
   "mimetype": "text/x-python",
   "name": "python",
   "nbconvert_exporter": "python",
   "pygments_lexer": "ipython3",
   "version": "3.11.2"
  }
 },
 "nbformat": 4,
 "nbformat_minor": 5
}
