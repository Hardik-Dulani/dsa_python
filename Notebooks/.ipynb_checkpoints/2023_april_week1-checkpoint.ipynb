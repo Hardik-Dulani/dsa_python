{
 "cells": [
  {
   "cell_type": "markdown",
   "id": "2bba6cb9",
   "metadata": {},
   "source": [
    "### April Week 1: \n",
    "### 1st Programme in DSA"
   ]
  },
  {
   "cell_type": "markdown",
   "id": "9e10bcba",
   "metadata": {},
   "source": [
    "#### Q1: Check if a string is a palindrome and calculate it's space and time complexity"
   ]
  },
  {
   "cell_type": "code",
   "execution_count": 12,
   "id": "7183c44a",
   "metadata": {},
   "outputs": [
    {
     "data": {
      "text/plain": [
       "True"
      ]
     },
     "execution_count": 12,
     "metadata": {},
     "output_type": "execute_result"
    }
   ],
   "source": [
    "def palindrome(string):\n",
    "    string = string.lower()\n",
    "    count = 0\n",
    "    for i in range(len(string)//2):\n",
    "        if string[i]==string[-i-1]:\n",
    "            count+=1\n",
    "    if count == len(string)//2:\n",
    "        return True\n",
    "    return False\n",
    "            \n",
    "# time complexity : 1 + 1 + n/2 + n/2 + 1 = n+3 => O(n)\n",
    "# space complexity: string(n) + count(1) + i(1) = n+2 => O(n)\n",
    "# where n is the length of string given\n",
    "palindrome(\"Racecar\")"
   ]
  }
 ],
 "metadata": {
  "kernelspec": {
   "display_name": "Python 3 (ipykernel)",
   "language": "python",
   "name": "python3"
  },
  "language_info": {
   "codemirror_mode": {
    "name": "ipython",
    "version": 3
   },
   "file_extension": ".py",
   "mimetype": "text/x-python",
   "name": "python",
   "nbconvert_exporter": "python",
   "pygments_lexer": "ipython3",
   "version": "3.11.2"
  }
 },
 "nbformat": 4,
 "nbformat_minor": 5
}
