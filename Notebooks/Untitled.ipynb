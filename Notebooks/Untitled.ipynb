{
 "cells": [
  {
   "cell_type": "code",
   "execution_count": 5,
   "id": "13112d46",
   "metadata": {},
   "outputs": [
    {
     "name": "stdout",
     "output_type": "stream",
     "text": [
      "[1, 2, 3, 4, 5]\n"
     ]
    }
   ],
   "source": [
    "l1 = [1,2,3,4]\n",
    "l2 = l1\n",
    "l2.append(5)\n",
    "print(l1)"
   ]
  },
  {
   "cell_type": "code",
   "execution_count": 17,
   "id": "335c58df",
   "metadata": {},
   "outputs": [],
   "source": [
    "t1 = (1,2,3,4)\n",
    "t2 = t1\n",
    "t2 += (5,)"
   ]
  },
  {
   "cell_type": "code",
   "execution_count": 18,
   "id": "ce91b5c6",
   "metadata": {},
   "outputs": [
    {
     "data": {
      "text/plain": [
       "False"
      ]
     },
     "execution_count": 18,
     "metadata": {},
     "output_type": "execute_result"
    }
   ],
   "source": [
    "t1 is t2"
   ]
  },
  {
   "cell_type": "code",
   "execution_count": 23,
   "id": "75d2135b",
   "metadata": {},
   "outputs": [
    {
     "name": "stdout",
     "output_type": "stream",
     "text": [
      "running loop 1 inside\n",
      "2 3 True False True\n"
     ]
    },
    {
     "data": {
      "text/plain": [
       "True"
      ]
     },
     "execution_count": 23,
     "metadata": {},
     "output_type": "execute_result"
    }
   ],
   "source": [
    "def match(wild,pattern):\n",
    "    i = 0\n",
    "    j = 0\n",
    "    while i<len(wild) and j<len(pattern):\n",
    "        \n",
    "        if wild[i] == \"*\" or wild[i] == \"?\":\n",
    "            print('running loop 1 inside')\n",
    "            while i<len(wild)-1 and wild[i+1]!= pattern[j] and j<len(pattern):\n",
    "                j+=1\n",
    "                print(i,j,i<len(wild)-1,wild[i+1]!= pattern[j],j<len(pattern))\n",
    "                if j==len(pattern)-1 and wild[i+1]!= pattern[j]:\n",
    "                    return False\n",
    "            i+=1\n",
    "        if wild[i]!=pattern[j]:\n",
    "            return False\n",
    "        else:\n",
    "            i+=1\n",
    "            j+=1\n",
    "\n",
    "    return True\n",
    "    \n",
    "wild=\"ge*kk\"\n",
    "pattern = \"geek\"\n",
    "match(wild,pattern)"
   ]
  },
  {
   "cell_type": "code",
   "execution_count": null,
   "id": "8de2765a",
   "metadata": {},
   "outputs": [],
   "source": []
  },
  {
   "cell_type": "code",
   "execution_count": 61,
   "id": "a95bff8f",
   "metadata": {},
   "outputs": [],
   "source": [
    "from collections import Counter\n",
    "from itertools import zip_longest\n",
    "nums = [1,3,4,1,2,3,1]"
   ]
  },
  {
   "cell_type": "code",
   "execution_count": 65,
   "id": "d8d0b130",
   "metadata": {},
   "outputs": [
    {
     "name": "stdout",
     "output_type": "stream",
     "text": [
      "[[1], [1], [1]]\n",
      "[[[1], [3]], [[1], [3]], [[1]]]\n",
      "[[[[1], [3]], [4]], [[[1], [3]]], [[[1]]]]\n",
      "[[[[[1], [3]], [4]], [2]], [[[[1], [3]]]], [[[[1]]]]]\n"
     ]
    }
   ],
   "source": [
    "sorted_dict = dict(sorted(Counter(nums).items(), key=lambda item: item[1],reverse=True))\n",
    "i=0\n",
    "for key,val in sorted_dict.items():\n",
    "    \n",
    "    new = [[key]]*val\n",
    "    \n",
    "    if i == 0:\n",
    "        res = new\n",
    "        i+=1\n",
    "    else:\n",
    "        \n",
    "        res = [list(filter(None, sublist)) for sublist in zip_longest(res, new)]\n",
    "        \n",
    "    print(res)"
   ]
  },
  {
   "cell_type": "code",
   "execution_count": 6,
   "id": "6f24046c",
   "metadata": {},
   "outputs": [
    {
     "name": "stdout",
     "output_type": "stream",
     "text": [
      "if 2 10\n",
      "if 2 8\n",
      "if 3 9\n",
      "3\n"
     ]
    }
   ],
   "source": [
    "\n",
    "nums = [4,10,4,3,8,9]\n",
    "curr= 1\n",
    "longest = 0\n",
    "for i in range(1,len(nums)):\n",
    "    if nums[i]>nums[i-1]:\n",
    "        curr+=1\n",
    "        print('if',curr,nums[i])\n",
    "    else:\n",
    "        longest = max(curr,longest) \n",
    "        curr = 1\n",
    "    prev = nums[i]\n",
    "\n",
    "print(max(longest,curr))\n",
    "\n"
   ]
  },
  {
   "cell_type": "code",
   "execution_count": null,
   "id": "1c18fc5d",
   "metadata": {},
   "outputs": [],
   "source": []
  }
 ],
 "metadata": {
  "kernelspec": {
   "display_name": "Python 3 (ipykernel)",
   "language": "python",
   "name": "python3"
  },
  "language_info": {
   "codemirror_mode": {
    "name": "ipython",
    "version": 3
   },
   "file_extension": ".py",
   "mimetype": "text/x-python",
   "name": "python",
   "nbconvert_exporter": "python",
   "pygments_lexer": "ipython3",
   "version": "3.11.2"
  }
 },
 "nbformat": 4,
 "nbformat_minor": 5
}
