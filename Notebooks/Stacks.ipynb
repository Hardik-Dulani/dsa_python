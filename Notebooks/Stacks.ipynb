{
 "cells": [
  {
   "cell_type": "markdown",
   "id": "70ae92b0",
   "metadata": {},
   "source": [
    "# Stacks"
   ]
  },
  {
   "cell_type": "markdown",
   "id": "30374f00",
   "metadata": {},
   "source": [
    "### Implementation"
   ]
  },
  {
   "cell_type": "code",
   "execution_count": 6,
   "id": "7bc0d379",
   "metadata": {},
   "outputs": [],
   "source": [
    "class Stack:\n",
    "    def __init__(self):\n",
    "        self.stack = []\n",
    "    def is_empty(self):\n",
    "        return len(self.stack) == 0\n",
    "    def push(self,item):\n",
    "        self.stack.append(item)\n",
    "    def pop(self):\n",
    "        if self.is_empty() == True:\n",
    "            return \"Stack is empty\"\n",
    "        else:\n",
    "            self.stack.pop()\n",
    "    def peek(self):\n",
    "        if self.is_empty() == True:\n",
    "            return \"Stack is empty\"\n",
    "        else:\n",
    "            return self.stack[-1]\n",
    "    def size(self):\n",
    "        return len(self.stack)"
   ]
  },
  {
   "cell_type": "code",
   "execution_count": 31,
   "id": "a1b84c6f",
   "metadata": {},
   "outputs": [],
   "source": [
    "stack1 = Stack()\n",
    "stack1.push(1)\n",
    "stack1.push(5)\n",
    "stack1.push(10)\n",
    "stack1.push(12)"
   ]
  },
  {
   "cell_type": "code",
   "execution_count": 32,
   "id": "5ccf0f2d",
   "metadata": {},
   "outputs": [
    {
     "name": "stdout",
     "output_type": "stream",
     "text": [
      "12\n",
      "10\n",
      "5\n",
      "1\n",
      "Stack is empty\n"
     ]
    }
   ],
   "source": [
    "for i in range(stack1.size()+1):\n",
    "    print(stack1.peek())\n",
    "    stack1.pop()\n",
    "    "
   ]
  },
  {
   "cell_type": "markdown",
   "id": "0cf8ad39",
   "metadata": {},
   "source": [
    "\n",
    "\n",
    "\n",
    "\n",
    "## Practice Questions"
   ]
  },
  {
   "cell_type": "markdown",
   "id": "c631d777",
   "metadata": {},
   "source": [
    "### Balanced Parentheses: \n",
    "    Write a function that takes a string as input \n",
    "    and determines if the parentheses in the string are balanced. \n",
    "    The function should return True if the parentheses are balanced and False otherwise."
   ]
  },
  {
   "cell_type": "code",
   "execution_count": 68,
   "id": "35ec7fbe",
   "metadata": {},
   "outputs": [],
   "source": [
    "def balanced_parantheses(string):\n",
    "    stack = []\n",
    "    for char in string:\n",
    "        if char == '(' or char == '[' or char == '{':\n",
    "            stack.append(char)\n",
    "        if len(stack)!=0:\n",
    "            if char == ')' and stack.pop()!='(':\n",
    "                return False\n",
    "            elif char == ']' and stack.pop()!='[':\n",
    "                return False\n",
    "            elif char == '}' and stack.pop()!='{':\n",
    "                return False\n",
    "        elif char == ')' or char == ']' or char == '}':\n",
    "            return False\n",
    "    if len(stack)==0:\n",
    "        return True\n",
    "    else: return False\n",
    "        "
   ]
  },
  {
   "cell_type": "code",
   "execution_count": 71,
   "id": "3d7ee0ba",
   "metadata": {},
   "outputs": [
    {
     "name": "stdout",
     "output_type": "stream",
     "text": [
      "True\n",
      "False\n"
     ]
    }
   ],
   "source": [
    "print(balanced_parantheses(\"(()[]{})\"))\n",
    "print(balanced_parantheses('()]'))"
   ]
  },
  {
   "cell_type": "markdown",
   "id": "16ab462a",
   "metadata": {},
   "source": [
    "### Reverse string using stack in deque"
   ]
  },
  {
   "cell_type": "code",
   "execution_count": 1,
   "id": "ae3b816f",
   "metadata": {},
   "outputs": [],
   "source": [
    "from collections import deque"
   ]
  },
  {
   "cell_type": "code",
   "execution_count": 77,
   "id": "552f76ab",
   "metadata": {},
   "outputs": [],
   "source": [
    "def reverse_str(string):\n",
    "    stack = deque()\n",
    "    res=\"\"\n",
    "    for i in string:\n",
    "        stack.append(i)\n",
    "    while len(stack)!=0:\n",
    "        res+=stack.pop()\n",
    "    return res"
   ]
  },
  {
   "cell_type": "code",
   "execution_count": 79,
   "id": "d9c959bf",
   "metadata": {},
   "outputs": [
    {
     "name": "stdout",
     "output_type": "stream",
     "text": [
      "rehtorB olleH\n",
      "RACECAR\n",
      "!MOM\n"
     ]
    }
   ],
   "source": [
    "print(reverse_str(\"Hello Brother\"))\n",
    "print(reverse_str(\"RACECAR\"))\n",
    "print(reverse_str(\"MOM!\"))\n"
   ]
  },
  {
   "cell_type": "code",
   "execution_count": 72,
   "id": "545d42d1",
   "metadata": {},
   "outputs": [],
   "source": [
    "def evaluate_postfix(expression):\n",
    "    stack = []\n",
    "    operators = set(['+', '-', '*', '/'])\n",
    "    for char in expression.split():\n",
    "        if char not in operators:\n",
    "            stack.append(int(char))\n",
    "            print(\"if\",char)\n",
    "        else:\n",
    "            operand2 = stack.pop()\n",
    "            operand1 = stack.pop()\n",
    "            print(operand1,operand2)\n",
    "            if char == '+':\n",
    "                stack.append(operand1 + operand2)\n",
    "            elif char == '-':\n",
    "                stack.append(operand1 - operand2)\n",
    "            elif char == '*':\n",
    "                stack.append(operand1 * operand2)\n",
    "            elif char == '/':\n",
    "                stack.append(operand1 / operand2)\n",
    "    return stack.pop()\n"
   ]
  },
  {
   "cell_type": "markdown",
   "id": "93c3a4ec",
   "metadata": {},
   "source": [
    "### Question:\n",
    "Largest Rectangle in Histogram: Given an array of non-negative integers representing the heights of bars in a histogram, find the area of the largest rectangle that can be formed within the histogram. For example, given the input [2, 1, 5, 6, 2, 3], the largest rectangle has an area of 10"
   ]
  },
  {
   "cell_type": "code",
   "execution_count": 3,
   "id": "8dfd2481",
   "metadata": {
    "scrolled": true
   },
   "outputs": [
    {
     "ename": "AttributeError",
     "evalue": "'collections.deque' object has no attribute 'peek'",
     "output_type": "error",
     "traceback": [
      "\u001b[1;31m---------------------------------------------------------------------------\u001b[0m",
      "\u001b[1;31mAttributeError\u001b[0m                            Traceback (most recent call last)",
      "Cell \u001b[1;32mIn[3], line 4\u001b[0m\n\u001b[0;32m      2\u001b[0m stack \u001b[38;5;241m=\u001b[39m deque()\n\u001b[0;32m      3\u001b[0m \u001b[38;5;66;03m# for i in heights:\u001b[39;00m\n\u001b[1;32m----> 4\u001b[0m \u001b[43mstack\u001b[49m\u001b[38;5;241;43m.\u001b[39;49m\u001b[43mpeek\u001b[49m()\n",
      "\u001b[1;31mAttributeError\u001b[0m: 'collections.deque' object has no attribute 'peek'"
     ]
    }
   ],
   "source": [
    "heights = [2,1,3,5,6,2,3]\n",
    "stack = deque()\n",
    "for i in heights:\n",
    "    if     "
   ]
  },
  {
   "cell_type": "code",
   "execution_count": 44,
   "id": "20389aee",
   "metadata": {},
   "outputs": [],
   "source": [
    "pref = [\"flower\",\"flow\",\"flight\"]"
   ]
  },
  {
   "cell_type": "code",
   "execution_count": null,
   "id": "c4a1bec6",
   "metadata": {},
   "outputs": [],
   "source": [
    "minim = \n",
    "for i in pref:\n",
    "    if "
   ]
  }
 ],
 "metadata": {
  "kernelspec": {
   "display_name": "Python 3 (ipykernel)",
   "language": "python",
   "name": "python3"
  },
  "language_info": {
   "codemirror_mode": {
    "name": "ipython",
    "version": 3
   },
   "file_extension": ".py",
   "mimetype": "text/x-python",
   "name": "python",
   "nbconvert_exporter": "python",
   "pygments_lexer": "ipython3",
   "version": "3.11.2"
  }
 },
 "nbformat": 4,
 "nbformat_minor": 5
}
