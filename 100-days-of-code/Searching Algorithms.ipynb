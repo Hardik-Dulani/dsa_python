{
 "cells": [
  {
   "cell_type": "markdown",
   "id": "fc84cfcc",
   "metadata": {},
   "source": [
    "### Searching algorithms:\n",
    "these are techniques used to locate a specific item or element within a collection of data. These algorithms are commonly employed in computer science and are essential for tasks such as finding information in databases, searching for files on a computer, or locating a specific entry in a sorted list.\n",
    "\n",
    "Here are some commonly used searching algorithms:\n",
    "\n",
    "- Linear Search: It is a basic and straightforward algorithm that examines each element in a collection sequentially until the desired element is found or the end of the collection is reached.\n",
    "<br>\n",
    "- Binary Search: It is a more efficient algorithm that requires the collection to be sorted. Binary search repeatedly divides the search space in half, discarding the half that cannot contain the desired element, until the element is found or the search space is empty.\n",
    "<br>\n",
    "\n",
    "- Hashing: Hashing is a technique that uses a hash function to map keys to a specific index in an array (known as a hash table). Searching in a hash table has an average time complexity of O(1), making it very efficient for large datasets.\n",
    "<br>\n",
    "\n",
    "- Tree-based searches: Various tree data structures, such as binary search trees, AVL trees, and red-black trees, enable efficient searching. These trees organize data in a hierarchical manner, allowing for fast retrieval based on comparisons.\n",
    "<br>\n",
    "\n",
    "- Interpolation Search: It is an improvement over binary search for uniformly distributed sorted data. Instead of always dividing the search space in half, interpolation search estimates the position of the desired element based on its value, resulting in faster convergence to the target element.\n",
    "<br>\n",
    "\n",
    "- Ternary Search: Similar to binary search, ternary search divides the search space into three parts, comparing the target element with two midpoints. It continues the search by narrowing down the relevant portion based on the comparison results.\n",
    "<br>\n",
    "\n",
    "- Exponential Search: Exponential search is particularly useful when the desired element is located towards the end of a sorted array. It involves searching for a range where the element could exist and then performing a binary search within that range.\n",
    "\n",
    "##### These are just a few examples of searching algorithms. The choice of which algorithm to use depends on various factors, such as the properties of the dataset (e.g., sorted or unsorted), the expected size of the dataset, and the efficiency requirements of the specific application.\n",
    "\n",
    "\n",
    "\n",
    "\n"
   ]
  },
  {
   "cell_type": "markdown",
   "id": "7fd6975d",
   "metadata": {},
   "source": [
    "<br>\n",
    "<br>\n",
    "\n",
    "### Linear search\n",
    "It is a basic and straightforward algorithm that examines each element in a collection sequentially until the desired element is found or the end of the collection is reached"
   ]
  },
  {
   "cell_type": "code",
   "execution_count": 18,
   "id": "10142bef",
   "metadata": {},
   "outputs": [
    {
     "data": {
      "text/plain": [
       "True"
      ]
     },
     "execution_count": 18,
     "metadata": {},
     "output_type": "execute_result"
    }
   ],
   "source": [
    "# Implementation\n",
    "def linear_search(arr,target):\n",
    "    for i in arr:\n",
    "        if i == target:\n",
    "            return True\n",
    "    return False\n",
    "\n",
    "linear_search([1,2,5,19,31,64,78,81],31)"
   ]
  },
  {
   "cell_type": "markdown",
   "id": "bd5735bb",
   "metadata": {},
   "source": [
    "<br>\n",
    "<br>\n",
    "\n",
    "### Binary search (Iterative)\n",
    " It is a more efficient algorithm that requires the collection to be sorted. Binary search repeatedly divides the search space in half, discarding the half that cannot contain the desired element, until the element is found or the search space is empty."
   ]
  },
  {
   "cell_type": "code",
   "execution_count": 19,
   "id": "a760f927",
   "metadata": {},
   "outputs": [
    {
     "data": {
      "text/plain": [
       "True"
      ]
     },
     "execution_count": 19,
     "metadata": {},
     "output_type": "execute_result"
    }
   ],
   "source": [
    "# Implementation\n",
    "def binary_search_ite(arr,target):\n",
    "    low = 0\n",
    "    high = len(arr)-1\n",
    "    \n",
    "    while low<=high:\n",
    "        mid = (low+high)//2\n",
    "        \n",
    "        if target == arr[mid]:\n",
    "            return True\n",
    "        elif target<arr[mid]:\n",
    "            high = mid - 1\n",
    "        else:\n",
    "            low = mid + 1\n",
    "        \n",
    "    return False\n",
    "binary_search_ite([1,2,5,19,31,64,78,81],31)"
   ]
  },
  {
   "cell_type": "markdown",
   "id": "7c28787d",
   "metadata": {},
   "source": [
    "<br>\n",
    "<br>\n",
    "\n",
    "### Binary Search (Recursive) :\n",
    "A binary search algorithm implemented using recursive function calls to divide the search space in half and compare the target element with the middle element. It continues the search recursively until the target element is found or the search space is empty.\n",
    " "
   ]
  },
  {
   "cell_type": "code",
   "execution_count": 22,
   "id": "c7bc260d",
   "metadata": {},
   "outputs": [
    {
     "data": {
      "text/plain": [
       "True"
      ]
     },
     "execution_count": 22,
     "metadata": {},
     "output_type": "execute_result"
    }
   ],
   "source": [
    "# implementation\n",
    "def binary_search_rec(arr,target,low,high):\n",
    "    if low>high:\n",
    "        return False\n",
    "    \n",
    "    mid = (low+high)//2\n",
    "    \n",
    "    if target == arr[mid]:\n",
    "        return True\n",
    "        \n",
    "    elif target<arr[mid]:\n",
    "        return binary_search_rec(arr,target,low,mid-1)\n",
    "    \n",
    "    else:\n",
    "        return binary_search_rec(arr,target,mid+1,high)\n",
    "    \n",
    "binary_search_rec([1,2,5,19,31,64,78,81],31,0,8) # we must assign the arr if we want to assign high dynamically  "
   ]
  },
  {
   "cell_type": "markdown",
   "id": "0feacf50",
   "metadata": {},
   "source": [
    "<br>\n",
    "<br>\n",
    "\n",
    "### Using binary search to find Closest value :\n",
    "Finding the closest value means identifying the element within a collection that has the minimum absolute difference to a given target value, regardless of whether it is greater or smaller than the target.\n",
    "if there are two answers (target is 4 and both 3,5 are present in the list the smaller value shall be returned) \n",
    " "
   ]
  },
  {
   "cell_type": "code",
   "execution_count": 37,
   "id": "c98aa060",
   "metadata": {},
   "outputs": [
    {
     "name": "stdout",
     "output_type": "stream",
     "text": [
      "8\n",
      "10\n",
      "12\n"
     ]
    }
   ],
   "source": [
    "def binary_closest(arr,target):\n",
    "    low = 0\n",
    "    high = len(arr)-1\n",
    "    min_diff = float('inf')\n",
    "    closest = None\n",
    "    \n",
    "    # Edge cases\n",
    "    if len(arr) == 0:\n",
    "        return closest\n",
    "    elif len(arr) == 1:\n",
    "        return arr[0]\n",
    "    \n",
    "    while low<=high:\n",
    "        mid = (low+high)//2\n",
    "        \n",
    "        \n",
    "        # ensuring we don't read beyond the bounds of the arr\n",
    "        # and obtain left and right difference values\n",
    "        \n",
    "        if mid < len(arr) - 1:\n",
    "            right = abs(arr[mid+1]-target)\n",
    "        if mid > 0:\n",
    "            left = abs(arr[mid-1]-target)\n",
    "            \n",
    "            \n",
    "        # check if absolute value between left and right \n",
    "        # elements are smaller than any seen prior\n",
    "        \n",
    "        if left  < min_diff:\n",
    "            min_diff = left\n",
    "            closest = arr[mid-1]\n",
    "            \n",
    "        elif right < min_diff:\n",
    "            min_diff = right\n",
    "            closest = arr[mid+1]\n",
    "            \n",
    "            \n",
    "        # Move the mid-point accordingly as is done\n",
    "        # via binary search\n",
    "        \n",
    "        if target == arr[mid]:\n",
    "            return arr[mid]\n",
    "        \n",
    "        elif target<arr[mid]:\n",
    "            high = mid - 1\n",
    "            \n",
    "        else:\n",
    "            low = mid + 1\n",
    "            \n",
    "    return closest\n",
    "\n",
    "\n",
    "\n",
    "print(binary_closest([1,2,3,5,8,10,12,14],7)) # general case\n",
    "print(binary_closest([1,2,3,5,8,10,12,14],10)) # target present in the arr\n",
    "print(binary_closest([1,2,3,5,8,10,12,14],13)) # two solutions\n"
   ]
  },
  {
   "cell_type": "markdown",
   "id": "52135cad",
   "metadata": {},
   "source": [
    "<br>\n",
    "<br>\n",
    "\n",
    "### Finding fixed point using binary search\n",
    "\n",
    "#### A fixed point in an array \"arr\" is an index \"i\" such that arr[i] is equal to \"i\"<br>\n",
    "Given an array of \"n\" distinct integers sorted in ascending order, write a\n",
    "function that returns a \"fixed point\" in the array.<br>If there is not a\n",
    "fixed point return \"None\".\n",
    "\n",
    "\n",
    "arr  =   -10, -5, 0, 3, 7 \n",
    "- Fixed point is 3:\n",
    " \n",
    "arr = 0, 2, 5, 8, 17 \n",
    "- Fixed point is 0:\n",
    " \n",
    "arr = -10, -5, 3, 4, 7, 91 \n",
    "- No fixed point. Return \"None\":"
   ]
  },
  {
   "cell_type": "code",
   "execution_count": null,
   "id": "e0b38ef6",
   "metadata": {},
   "outputs": [],
   "source": []
  }
 ],
 "metadata": {
  "kernelspec": {
   "display_name": "Python 3 (ipykernel)",
   "language": "python",
   "name": "python3"
  },
  "language_info": {
   "codemirror_mode": {
    "name": "ipython",
    "version": 3
   },
   "file_extension": ".py",
   "mimetype": "text/x-python",
   "name": "python",
   "nbconvert_exporter": "python",
   "pygments_lexer": "ipython3",
   "version": "3.11.2"
  }
 },
 "nbformat": 4,
 "nbformat_minor": 5
}
